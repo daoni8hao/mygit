{
 "cells": [
  {
   "cell_type": "markdown",
   "metadata": {},
   "source": [
    "# 1.模块\n",
    "- 一个模块就是一个包含python代码的文件，后缀名称是.py就可以，模块就是个python文件\n",
    "- 为什么我们要用模块\n",
    "    - 程太大，编写维护非常不方便，需要拆分\n",
    "    - 模块可以增加代码重复利用的方式\n",
    "    - 当作命名空间使用，避免命名冲突\n",
    "- 如何定义模块\n",
    "    - 模块就是一个普通文件，所以任何代码可以直接书写\n",
    "    - 不过根据模块的规范，最好在模块中编写一下内容\n",
    "        - 函数（单一功能）\n",
    "        - 类（相似功能的组合，或者类似业务模块）\n",
    "        - 测试代码\n",
    "        \n",
    "- 如何使用模块\n",
    "    - 模块直接倒入"
   ]
  }
 ],
 "metadata": {
  "kernelspec": {
   "display_name": "Python 3",
   "language": "python",
   "name": "python3"
  },
  "language_info": {
   "codemirror_mode": {
    "name": "ipython",
    "version": 3
   },
   "file_extension": ".py",
   "mimetype": "text/x-python",
   "name": "python",
   "nbconvert_exporter": "python",
   "pygments_lexer": "ipython3",
   "version": "3.7.2"
  }
 },
 "nbformat": 4,
 "nbformat_minor": 2
}
