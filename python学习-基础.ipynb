{
 "cells": [
  {
   "cell_type": "markdown",
   "metadata": {},
   "source": []
  },
  {
   "cell_type": "markdown",
   "metadata": {},
   "source": [
    "# 变量\n",
    "- 程序=数据结构+算法\n",
    "- 变量就是可以重复使用 的一个亮\n",
    "- 变量命名规则\n",
    "    - 可以包含数字，大小写字母，下划线或者更多，但是我们不推荐除了前三种内容之外的符号\n",
    "    - 数字不可以打头\n",
    "        - 4man， 5 for 时不可以的\n",
    "    - 一般在python中， 以下划线开头的内容有特殊含义， 不建议使用\n",
    "        - 比如 _age_,理论上可以，强烈不推荐，包括但不限于一个下划线开头\n",
    "    - 大小可不一致\n",
    "    - 推荐：\n",
    "         - 使用具有固定含义的英文或者缩写，srv=server skt=socket,一般以posix命名规则\n",
    "         - 驼峰命名法\n",
    "             - 名称以单词自动连接，且每个单词首字母大写\n",
    "                 - 大驼峰，每个单词第一个字母均大写（类）\n",
    "                     - 在oython里给类命名用此法\n",
    "                 - 小驼峰，单词第一个字母小写，其余大写\n",
    "                 - posix写法（普通变量）\n",
    "                    - 多个单词全部下划线连接，都用小写\n",
    "    - 保留字和关键字\n",
    "        - class ， def ，break， for\n",
    "        - 变量名必须避开这些词"
   ]
  },
  {
   "cell_type": "code",
   "execution_count": 1,
   "metadata": {},
   "outputs": [
    {
     "name": "stdout",
     "output_type": "stream",
     "text": [
      "['False', 'None', 'True', 'and', 'as', 'assert', 'async', 'await', 'break', 'class', 'continue', 'def', 'del', 'elif', 'else', 'except', 'finally', 'for', 'from', 'global', 'if', 'import', 'in', 'is', 'lambda', 'nonlocal', 'not', 'or', 'pass', 'raise', 'return', 'try', 'while', 'with', 'yield']\n"
     ]
    }
   ],
   "source": [
    "# 查看关键字的方法\n",
    "import keyword\n",
    "print(keyword.kwlist)"
   ]
  },
  {
   "cell_type": "markdown",
   "metadata": {},
   "source": [
    "## 变量声明\n",
    "- var_name = var_value # =表示赋值\n",
    "- var1 = var2 = var3 = var_value  \n",
    "- 从右往左看\n",
    "- var1，var2, var3 = v1, v2, v3"
   ]
  },
  {
   "cell_type": "code",
   "execution_count": 9,
   "metadata": {},
   "outputs": [
    {
     "name": "stdout",
     "output_type": "stream",
     "text": [
      "18\n",
      "18\n",
      "18\n",
      "18\n",
      "12\n",
      "21\n",
      "45\n"
     ]
    }
   ],
   "source": [
    "# 定义变量age, 把18放入变量age中\n",
    "age = 18\n",
    "print(age)\n",
    "age1 = age2 = age3 = 18 \n",
    "print(age1)\n",
    "print(age2)\n",
    "print(age3)\n",
    "\n",
    "age4, age5, age6 = 12, 21, 45\n",
    "print(age4)\n",
    "print(age5)\n",
    "print(age6)"
   ]
  },
  {
   "cell_type": "markdown",
   "metadata": {},
   "source": [
    "## 变量类型\n",
    "- 严格意义上讲，只有一个类型\n",
    "- 标准上讲，数据类型有六种\n",
    "    - 数字类型Number\n",
    "    - 字符串类型str\n",
    "    - 列表list\n",
    "    - 元祖tuple\n",
    "    - 字典 dictionary\n",
    "    - 集合 set"
   ]
  },
  {
   "cell_type": "markdown",
   "metadata": {},
   "source": [
    "## Number数字类型\n",
    "- 数字类型没有大小限制\n",
    "### 1. 整数\n",
    "- 没有小数部分，表示个数的数字\n",
    "- 自然数，0，负自然数\n",
    "- 整数分进制\n",
    "    - 二进制\n",
    "        - 机器蝉蛹\n",
    "        - 是计算机唯一理解的数字\n",
    "        - 表示为0b开头的0，1代码\n",
    "        - 例如0b01101, 0b10001\n",
    "        \n",
    "    - 八进制\n",
    "        - 不常用\n",
    "        - 以0o开头的包含0-7的数字\n",
    "    - 十六进制\n",
    "        - 逢16进1\n",
    "        - 包含0-9， a-f\n",
    "        - 数字上以0x开头表示\n",
    "    - 十进制\n",
    "        - 18， 89， 178"
   ]
  },
  {
   "cell_type": "code",
   "execution_count": 15,
   "metadata": {},
   "outputs": [
    {
     "name": "stdout",
     "output_type": "stream",
     "text": [
      "18\n",
      "18\n",
      "18\n",
      "18\n"
     ]
    }
   ],
   "source": [
    "age = 18\n",
    "print(18)\n",
    "\n",
    "age = 0b10010\n",
    "print(age)\n",
    "\n",
    "age = 0o22\n",
    "print(age)\n",
    "\n",
    "age = 0x12\n",
    "print(age)"
   ]
  },
  {
   "cell_type": "markdown",
   "metadata": {},
   "source": [
    "### 浮点数\n",
    "- 小数\n",
    "- 计算机里边表示浮点数可以有条件省略\n",
    "- 3.1415\n",
    "- 3.\n",
    "- 0.5\n",
    "- .5\n",
    "- 科学计数法\n",
    "    - 定义根数学定义一致\n",
    "    - 小写使用e/E后面跟证书表示10的指数\n",
    "    - 176.34 = 1.7634e2\n",
    "    - 0.876 = 8.76e-1"
   ]
  },
  {
   "cell_type": "code",
   "execution_count": 18,
   "metadata": {},
   "outputs": [
    {
     "name": "stdout",
     "output_type": "stream",
     "text": [
      "156.34\n",
      "0.2\n",
      "0.6\n"
     ]
    }
   ],
   "source": [
    "height = 156.34\n",
    "print(height)\n",
    "\n",
    "shili = 0.2\n",
    "print(shili)\n",
    "shili = .6\n",
    "print(shili)"
   ]
  },
  {
   "cell_type": "markdown",
   "metadata": {},
   "source": [
    "### 复数complex\n",
    "- 定义同数学一致\n",
    "- 一个由实部和须部构成的数字\n",
    "- 虚部用j/J表示\n",
    "- 5+3j\n",
    "- 3j\n",
    "-  （3j）\n"
   ]
  },
  {
   "cell_type": "markdown",
   "metadata": {},
   "source": [
    "### 布尔值\n",
    "- 表示真假的值\n",
    "- 只有俩个值， True/False\n",
    "- 布尔值可以跟数字直接操作"
   ]
  },
  {
   "cell_type": "code",
   "execution_count": 24,
   "metadata": {},
   "outputs": [
    {
     "name": "stdout",
     "output_type": "stream",
     "text": [
      "19\n"
     ]
    }
   ],
   "source": [
    "# 布尔值操作\n",
    "age = 18 + True\n",
    "print(age)"
   ]
  },
  {
   "cell_type": "markdown",
   "metadata": {},
   "source": [
    "## 字符串\n",
    "- 用来表示一串文字信息\n",
    "- 如何表示\n",
    "    - 单引号\n",
    "    - 双引号\n",
    "    - 三引号（三三单，三三双）\n",
    "        - 能够扩起多行信息\n",
    "        - 汉语状态下符号不对"
   ]
  },
  {
   "cell_type": "code",
   "execution_count": 25,
   "metadata": {},
   "outputs": [
    {
     "name": "stdout",
     "output_type": "stream",
     "text": [
      "我爱王小静\n"
     ]
    }
   ],
   "source": [
    " love = \"我爱王小静\"\n",
    "print(love)\n",
    "\n",
    "# 单双引号交错使用的例子\n",
    "# <a style=\"color:red\"> 哈哈哈</a>\n",
    "# 用引号表示上面字符串\n",
    "html = 'a style=\"color:red\">哈哈哈</a>'\n",
    "# 单引号双引号只能表示一行\n",
    "    "
   ]
  },
  {
   "cell_type": "code",
   "execution_count": 26,
   "metadata": {},
   "outputs": [
    {
     "name": "stdout",
     "output_type": "stream",
     "text": [
      "\n",
      "asdasdsdasdsadasdasd\n",
      "\n"
     ]
    }
   ],
   "source": [
    "html = \"\"\"\n",
    "asdasdsdasdsadasdasd\n",
    "\"\"\"\n",
    "print(html)"
   ]
  },
  {
   "cell_type": "markdown",
   "metadata": {},
   "source": [
    "# 字符串\n",
    "- 转移字符\n",
    "- 格式化\n",
    "- 内建函数\n",
    "\n",
    "## 转移字符\n",
    "- 用一个特殊的方法表示出一系列不方便写出的内容，比如回车键，换行键，退格键\n",
    "- 借助反斜杠字符，一旦字符串中出现反斜杠，则反斜杠后面一个或几个字符表示已经不是原来的意思了，进行了转义\n",
    "- 在字符串中，一旦出现反斜杠字符就要加倍小心，可能有转义副出现\n",
    "- 不同操作系统下对操作有不同的表示\n",
    "    - windows：\\n\n",
    "    - os, linux: \\r\\n"
   ]
  },
  {
   "cell_type": "code",
   "execution_count": 1,
   "metadata": {},
   "outputs": [
    {
     "name": "stdout",
     "output_type": "stream",
     "text": [
      "i love lixiaojing\n"
     ]
    }
   ],
   "source": [
    "s = \"i love lixiaojing\"\n",
    "print(s)"
   ]
  },
  {
   "cell_type": "code",
   "execution_count": 5,
   "metadata": {},
   "outputs": [
    {
     "name": "stdout",
     "output_type": "stream",
     "text": [
      "Let's go\n",
      "Let's go\n",
      "c:\\user\n",
      "I love \r\n",
      " wangxiaojing\n"
     ]
    }
   ],
   "source": [
    "# 如果想表示出Let's go ,\n",
    "# 1, 可以用嵌套引号，即外层用双引号\n",
    "# 2，转移字符\n",
    "s = \"Let's go\"\n",
    "print(s)\n",
    "ss = 'Let\\'s go'\n",
    "print(ss)\n",
    "# \\\\ = \\\n",
    "sss = \"c:\\\\user\"\n",
    "print(sss)\n",
    "# 回车换行符 \\r\\n\n",
    "s1 = \"I love \\r\\n wangxiaojing\"\n",
    "print(s1)"
   ]
  },
  {
   "cell_type": "markdown",
   "metadata": {},
   "source": [
    "## 字符串的格式化\n",
    "- 把字符串按照一定个事进行打印或者填充\n",
    "- 格式化有俩种方法\n",
    "    - 利用百分号（%）\n",
    "    - 利用format函数"
   ]
  },
  {
   "cell_type": "code",
   "execution_count": 6,
   "metadata": {},
   "outputs": [],
   "source": [
    "s = \"xxx 您好， 我们图灵学院开课了，免费的Python 呀，不学白不学，学了也白学\""
   ]
  },
  {
   "cell_type": "markdown",
   "metadata": {},
   "source": [
    "### 利用百分号格式化\n",
    "- 在字符串中，利用%表示一个特殊的含义，表示对字符串进行格式化\n",
    "- %d: 此处应该放入一个整数\n",
    "- %s: 表示此处应放入一个字符串"
   ]
  },
  {
   "cell_type": "code",
   "execution_count": 7,
   "metadata": {},
   "outputs": [
    {
     "name": "stdout",
     "output_type": "stream",
     "text": [
      "I love %s\n"
     ]
    }
   ],
   "source": [
    "s = \"I love %s\"\n",
    "# 下面打印，直接把%s作为字符串的一个内容打印出来了\n",
    "print(s)"
   ]
  },
  {
   "cell_type": "code",
   "execution_count": 8,
   "metadata": {},
   "outputs": [
    {
     "name": "stdout",
     "output_type": "stream",
     "text": [
      "I love wangxiaojing\n",
      "I love wangxiaojing\n"
     ]
    }
   ],
   "source": [
    "# 要用格式化就再加一个%并加入要替换内容\n",
    "print(\"I love %s\"%\"wangxiaojing\")\n",
    "print( s%\"wangxiaojing\")"
   ]
  },
  {
   "cell_type": "code",
   "execution_count": 9,
   "metadata": {},
   "outputs": [
    {
     "name": "stdout",
     "output_type": "stream",
     "text": [
      "I am %d years old\n",
      "I am 18 years old\n"
     ]
    }
   ],
   "source": [
    "s = \"I am %d years old\"\n",
    "print(s)\n",
    "print(s%18)\n"
   ]
  },
  {
   "cell_type": "code",
   "execution_count": 12,
   "metadata": {},
   "outputs": [
    {
     "name": "stdout",
     "output_type": "stream",
     "text": [
      "I am %s, i am %d years old\n",
      "I am tuilingxueyuan, i am 18 years old\n"
     ]
    }
   ],
   "source": [
    "s = \"I am %s, i am %d years old\"\n",
    "print(s)\n",
    "# 留下几个站坑的，就必须跟上几个，要么全有药么没有\n",
    "print(s%(\"tuilingxueyuan\",18))"
   ]
  },
  {
   "cell_type": "markdown",
   "metadata": {},
   "source": [
    "### format函数进行格式化字符串\n",
    "- 推荐使用这种方法\n",
    "- 再使用上，以{}和：代替%号，后面用format带参数完成"
   ]
  },
  {
   "cell_type": "code",
   "execution_count": 15,
   "metadata": {},
   "outputs": [
    {
     "name": "stdout",
     "output_type": "stream",
     "text": [
      "I love lixiaojing\n",
      "Yes , i am 18 years old , I love Tulingueyuan and i am 18 years old\n"
     ]
    }
   ],
   "source": [
    "s = \"I love {}\".format(\"lixiaojing\")\n",
    "print(s)\n",
    "# 按序号进行替换顺序\n",
    "s = \"Yes , i am {1} years old , I love {0} and i am {1} years old\".format(\"Tulingueyuan\", 18)\n",
    "print(s)"
   ]
  },
  {
   "cell_type": "markdown",
   "metadata": {},
   "source": [
    "## None\n",
    "- 表示什么都没有\n",
    "- 如果函数没有返回值，可以返回None\n",
    "- 用来占位置\n",
    "- 用来解除变量的绑定"
   ]
  },
  {
   "cell_type": "markdown",
   "metadata": {},
   "source": [
    "# 表达式\n",
    "- 又一个或者几个数字或者变量和运算符组成的一行代码\n",
    "- 通常会返回一个结果\n",
    "# 运算符\n",
    "- 由一个以上的值经过变化得到新值的过程叫运算\n",
    "- 用于运算的符号叫运算符\n",
    "- 运算符分类：\n",
    "    - 算数运算符\n",
    "    - 比较或者关系运算符\n",
    "    - 赋值运算符\n",
    "    - 位运算\n",
    "    - 成员运算\n",
    "    - 身份运算符\n",
    "    - 逻辑运算符\n",
    "    "
   ]
  },
  {
   "cell_type": "markdown",
   "metadata": {},
   "source": [
    "## 算数运算符\n",
    "- 进行运算的符号\n",
    "- python 没有自增减运算符"
   ]
  },
  {
   "cell_type": "code",
   "execution_count": 3,
   "metadata": {},
   "outputs": [
    {
     "name": "stdout",
     "output_type": "stream",
     "text": [
      "11.333333333333334\n",
      "1\n",
      "2\n",
      "6561\n"
     ]
    }
   ],
   "source": [
    "# +，-，*，/\n",
    "a = 9+3-2*2/6\n",
    "print(a)\n",
    "# python 2 和 3 中，除号(/)结果可能不一致，此处以3为准\n",
    "# % 取余运算\n",
    "# 俩个数字相处应该有商数有余数\n",
    "# % 只会得到玉树\n",
    "a = 9 % 4\n",
    "print(a)\n",
    "# // 表示取商运算，也叫地板除\n",
    "a = 9//4\n",
    "print(a)\n",
    "\n",
    "# ** 表示幂运算\n",
    "a = 9 ** 4\n",
    "print(a)"
   ]
  },
  {
   "cell_type": "markdown",
   "metadata": {},
   "source": [
    "## 比较运算符\n",
    "- 对俩个变量或者值进行比较的运算符\n",
    "- 比较的结果是布尔值，即True/False"
   ]
  },
  {
   "cell_type": "code",
   "execution_count": 4,
   "metadata": {},
   "outputs": [
    {
     "name": "stdout",
     "output_type": "stream",
     "text": [
      "False\n",
      "True\n"
     ]
    }
   ],
   "source": [
    "# == , 等于号\n",
    "a = 3 ** 4\n",
    "# 下面语句执行顺序\n",
    "# 1， 计算a == 80\n",
    "# 2, 把结果放入b 中\n",
    "b = a == 80\n",
    "print(b)\n",
    "\n",
    "\n",
    "# ！= 不等于\n",
    "print(9 != 8)\n",
    "\n",
    "# > , <, >=, <="
   ]
  },
  {
   "cell_type": "markdown",
   "metadata": {},
   "source": [
    "## 赋值运算符\n"
   ]
  },
  {
   "cell_type": "code",
   "execution_count": 5,
   "metadata": {},
   "outputs": [
    {
     "name": "stdout",
     "output_type": "stream",
     "text": [
      "7\n"
     ]
    }
   ],
   "source": [
    "# = ， 赋值\n",
    "a = 0 \n",
    "c = a = 4\n",
    "# +=, 是缩写。\n",
    "a = 0 \n",
    "a += 7 # a = a + 7 的缩写\n",
    "print(a)\n",
    "\n",
    "# 所有数学运算符都有缩写形式\n",
    "# -=， *=， /=， //=， %=， **=，都是缩写形式"
   ]
  },
  {
   "cell_type": "markdown",
   "metadata": {},
   "source": [
    "# 逻辑运算符\n",
    "- 对布尔值进行计算的符号\n",
    "- and 逻辑与\n",
    "- or 逻辑或\n",
    "- not 逻辑非\n",
    "- python中逻辑运算符没有异或运算\n",
    "- 运算规则：\n",
    "    - and 看作乘法， or看作加法\n",
    "    - True 看作1， False 看作0\n",
    "    - 则逻辑运算就能转换成数学运算\n",
    "    - 最后结果如果是0则为false， 否则为True\n",
    "- 逻辑运算段路问题\n",
    "    - 逻辑运算式，把斋运算顺序计算，一旦能够确定整个式子未来的值，则不再进行计算，直接返回\n",
    "    "
   ]
  },
  {
   "cell_type": "code",
   "execution_count": 8,
   "metadata": {},
   "outputs": [
    {
     "name": "stdout",
     "output_type": "stream",
     "text": [
      "True\n",
      "True\n"
     ]
    }
   ],
   "source": [
    "# 逻辑运算符案例\n",
    "a = True\n",
    "b = False\n",
    "c = True\n",
    "# 一下式子等价于 d = 1 * 0 + 1\n",
    "d = a and b or c\n",
    "print(d)\n",
    "d = a or b and a\n",
    "print(d)"
   ]
  },
  {
   "cell_type": "code",
   "execution_count": 9,
   "metadata": {},
   "outputs": [
    {
     "ename": "SyntaxError",
     "evalue": "invalid syntax (<ipython-input-9-ed2ee781c1c9>, line 6)",
     "output_type": "error",
     "traceback": [
      "\u001b[0;36m  File \u001b[0;32m\"<ipython-input-9-ed2ee781c1c9>\"\u001b[0;36m, line \u001b[0;32m6\u001b[0m\n\u001b[0;31m    a = a or (b =9) and 6\u001b[0m\n\u001b[0m                ^\u001b[0m\n\u001b[0;31mSyntaxError\u001b[0m\u001b[0;31m:\u001b[0m invalid syntax\n"
     ]
    }
   ],
   "source": [
    "# 逻辑短路的案例\n",
    "# 下面的逻辑表达式，a 的值一定是True ,则运行的or的时候，整个表达式不再向下计算\n",
    "a = True or xxxxxxx\n",
    "\n",
    "# 下面表达式，如果xxx中包含赋值表达式，则结果很难预测\n",
    "# 代码实例（伪代码）\n",
    "a = a or (b =9) and 6\n",
    "# 假定砂锅面表达式没有语法错误\n",
    "# 则b最终的值应该是0而不是9\n",
    "print(b)\n",
    "print(a)\n",
    "\n",
    "\n",
    "\n"
   ]
  },
  {
   "cell_type": "markdown",
   "metadata": {},
   "source": [
    "# 成员运算符号\n",
    "- 用来检测某一个变量是否是另一个变量的成员\n",
    "- in\n",
    "- not in "
   ]
  },
  {
   "cell_type": "code",
   "execution_count": 10,
   "metadata": {},
   "outputs": [
    {
     "name": "stdout",
     "output_type": "stream",
     "text": [
      "False\n",
      "True\n"
     ]
    }
   ],
   "source": [
    "# 案例\n",
    "l = [1, 2, 3, 4, 5]\n",
    "a = 7\n",
    "b = a in l\n",
    "print(b)\n",
    "a = 4 \n",
    "print(a in l)"
   ]
  },
  {
   "cell_type": "markdown",
   "metadata": {},
   "source": [
    "## 身份运算\n",
    "- is : 用来检测俩个变量是否是同一个变量\n",
    "    - 语法就是 var1 is var2\n",
    "- is not : 不是同一变量\n",
    "    "
   ]
  },
  {
   "cell_type": "code",
   "execution_count": 12,
   "metadata": {},
   "outputs": [
    {
     "name": "stdout",
     "output_type": "stream",
     "text": [
      "True\n",
      "False\n"
     ]
    }
   ],
   "source": [
    "a = 9 \n",
    "b = 9\n",
    "print(a is b)\n",
    "\n",
    "a = \"I love wangxiaojing\"\n",
    "b = \"I love wangxiaojing\"\n",
    "print(a is b)"
   ]
  },
  {
   "cell_type": "markdown",
   "metadata": {},
   "source": [
    "## 运算符的优先级的问题\n",
    "- 永远记住，括号具有最高优先级\n",
    "- 优先级表格，略。。\n"
   ]
  },
  {
   "cell_type": "markdown",
   "metadata": {},
   "source": [
    "# 程序结构\n",
    "- 顺序\n",
    "- 分支\n",
    "- 循环"
   ]
  },
  {
   "cell_type": "markdown",
   "metadata": {},
   "source": [
    "# 分支 \n",
    "- 分支的基本语法\n",
    "\n",
    "            if 条件表达式：\n",
    "                语句1\n",
    "                语句2\n",
    "                语句3\n",
    "                ......\n",
    "- 条件表达式就是计算结果必须为布尔值的表达式\n",
    "- 表达式后面冒号不能少\n",
    "- 主义if后面的出现的语句，如果属于if语句块，则必须同一个缩进等级\n",
    "- 表达式结果为Ture执行if后面的缩进的语句块"
   ]
  },
  {
   "cell_type": "code",
   "execution_count": 1,
   "metadata": {},
   "outputs": [
    {
     "name": "stdout",
     "output_type": "stream",
     "text": [
      "去叫家长把，孩子\n",
      "我们不带你玩\n",
      "gunqiude\n"
     ]
    }
   ],
   "source": [
    "# if 语句练习\n",
    "# 如果age小雨18岁，则打印信息“去叫家长”\n",
    "age = 17\n",
    "if age < 18:\n",
    "    print(\"去叫家长把，孩子\")\n",
    "    print(\"我们不带你玩\")\n",
    "    print(\"gunqiude\")\n",
    "    "
   ]
  },
  {
   "cell_type": "code",
   "execution_count": 3,
   "metadata": {},
   "outputs": [
    {
     "name": "stdout",
     "output_type": "stream",
     "text": [
      "开始上车喽，老司机们\n"
     ]
    }
   ],
   "source": [
    "# if 语句练习\n",
    "# 如果age大于18岁，执行与if相等缩进的下一句话\n",
    "age = 19\n",
    "if age < 18:\n",
    "    print(\"去叫家长把，孩子\")\n",
    "    print(\"我们不带你玩\")\n",
    "    print(\"gunqiude\")\n",
    "\n",
    "print(\"开始上车喽，老司机们\")"
   ]
  },
  {
   "cell_type": "markdown",
   "metadata": {},
   "source": [
    "### 双向分支\n",
    "- if...else...语句\n",
    "            if 条件表达式：\n",
    "                语句1\n",
    "                语句2\n",
    "            else：\n",
    "                语句1\n",
    "                语句2"
   ]
  },
  {
   "cell_type": "code",
   "execution_count": 5,
   "metadata": {},
   "outputs": [
    {
     "name": "stdout",
     "output_type": "stream",
     "text": [
      "请输入性别：女\n",
      "你输入的性别是:女\n",
      "来，叔叔给你糖吃\n",
      "开始讲for循环了\n"
     ]
    }
   ],
   "source": [
    "# input的作用是\n",
    "# 1. 在屏幕上输出货号内的字符串\n",
    "# 2. 在接受用户输入的内容并返回到程序\n",
    "# 3. input 返回的内容一定是字符串类型\n",
    "\n",
    "gender = input(\"请输入性别：\")\n",
    "print(\"你输入的性别是:{0}\".format(gender))\n",
    "if gender == \"男\":\n",
    "    print(\"来，我们纪念一下吧，代码敲十遍\")\n",
    "else:\n",
    "        print(\"来，叔叔给你糖吃\")\n",
    "\n",
    "print(\"开始讲for循环了\")"
   ]
  },
  {
   "cell_type": "markdown",
   "metadata": {},
   "source": [
    "### 多相分支"
   ]
  },
  {
   "cell_type": "code",
   "execution_count": 6,
   "metadata": {},
   "outputs": [
    {
     "name": "stdout",
     "output_type": "stream",
     "text": [
      "请输入学生成绩：54\n",
      "起开，我没你这样的学生\n"
     ]
    }
   ],
   "source": [
    "# 考试成绩判断\n",
    "# 90分以上：输出优秀\n",
    "# 80-90 : 良\n",
    "# 70-80 : 中\n",
    "# 60-70 : 及格\n",
    "# 60以下 ：我没你这个学僧\n",
    "# score 存放学生成绩\n",
    "score = input(\"请输入学生成绩：\")\n",
    "# 需要把str转换成int\n",
    "score = int(score)\n",
    "if score>=90:\n",
    "    print(\"A\")\n",
    "if score>=80 and score<90:\n",
    "    print(\"B\")\n",
    "if score>=70 and score<80:\n",
    "    print(\"C\")\n",
    "if score>=60 and score<70:\n",
    "    print(\"D\")\n",
    "if score<60:\n",
    "    print(\"起开，我没你这样的学生\")"
   ]
  },
  {
   "cell_type": "markdown",
   "metadata": {},
   "source": [
    "## 多路分支\n",
    "    if 条件表达式：\n",
    "        语句1\n",
    "        ....\n",
    "    elif 条件表达式：\n",
    "    \n",
    "    elif 条件表达式：\n",
    "    \n",
    "    else:\n",
    "- elif 可以有很多\n",
    "- else 可选\n",
    "- 多路分支只会选择一个执行\n",
    "    "
   ]
  },
  {
   "cell_type": "code",
   "execution_count": 8,
   "metadata": {},
   "outputs": [
    {
     "name": "stdout",
     "output_type": "stream",
     "text": [
      "请输入学生成绩：87\n",
      "B\n"
     ]
    }
   ],
   "source": [
    "score = input(\"请输入学生成绩：\")\n",
    "# 需要把str转换成int\n",
    "score = int(score)\n",
    "if score>=90:\n",
    "    print(\"A\")\n",
    "elif score>=80:\n",
    "    print(\"B\")\n",
    "elif score>=70:\n",
    "    print(\"C\")\n",
    "elif score>=60:\n",
    "    print(\"D\")\n",
    "else:\n",
    "    print(\"起开，我没你这样的学生\")"
   ]
  },
  {
   "cell_type": "markdown",
   "metadata": {},
   "source": [
    "## if 语句其他：\n",
    "- if 语句金额以嵌套使用，但不推荐】\n",
    "- pyrhon 没有swich-ccase语句"
   ]
  },
  {
   "cell_type": "markdown",
   "metadata": {},
   "source": [
    "# 循环语句\n",
    "- 重复执行某些固定动作或者处理基本固定义务\n",
    "- 分类\n",
    "    - for循环\n",
    "    - while循环\n",
    "## for循环\n",
    "- for 循环\n",
    "        for 变量 in 序列：\n",
    "            语句1\n",
    "            语句2\n",
    "            ..."
   ]
  },
  {
   "cell_type": "code",
   "execution_count": 9,
   "metadata": {},
   "outputs": [
    {
     "name": "stdout",
     "output_type": "stream",
     "text": [
      "zhangsan\n",
      "lisi\n",
      "wangwu\n",
      "zhaoliu\n"
     ]
    }
   ],
   "source": [
    "# 列表就是一列数字或者其他值，一般用中括号表示\n",
    "# 例如['zhangsan', 'lisi', 'wangwu', 'zhaoliu']\n",
    "# 打印学生列表姓名\n",
    "for name in ['zhangsan', 'lisi', 'wangwu', 'zhaoliu']:\n",
    "    print(name)"
   ]
  },
  {
   "cell_type": "code",
   "execution_count": 10,
   "metadata": {},
   "outputs": [
    {
     "name": "stdout",
     "output_type": "stream",
     "text": [
      "zhangsan\n",
      "同学部门不约，请自重\n",
      "lisi\n",
      "同学部门不约，请自重\n",
      "wangwu\n",
      "同学部门不约，请自重\n",
      "zhaoliu\n",
      "我的最爱zhaoliu\n"
     ]
    }
   ],
   "source": [
    "# 打印学生列表姓名\n",
    "# 如果是zhaoliu， 那肯定是我的最爱啊，\n",
    "# 如果是别的学生，要冷酷的拒绝他\n",
    "for name in ['zhangsan', 'lisi', 'wangwu', 'zhaoliu']:\n",
    "    print(name)\n",
    "    if name == \"zhaoliu\":\n",
    "        print(\"我的最爱{0}\".format(name))\n",
    "    else:\n",
    "        print(\"同学部门不约，请自重\")"
   ]
  },
  {
   "cell_type": "markdown",
   "metadata": {},
   "source": [
    "## range介绍\n",
    "- 生成一个数字序列\n",
    "- 具体范围可以设定"
   ]
  },
  {
   "cell_type": "code",
   "execution_count": 12,
   "metadata": {},
   "outputs": [
    {
     "name": "stdout",
     "output_type": "stream",
     "text": [
      "1\n",
      "2\n",
      "3\n",
      "4\n",
      "5\n",
      "6\n",
      "7\n",
      "8\n",
      "9\n",
      "10\n"
     ]
    }
   ],
   "source": [
    "# range练习\n",
    "# 打印从1-10的数字\n",
    "# 注意，一般在python中，如果由表示数字范围的俩个数，一般包含左边数字不包含右边数字\n",
    "# randint是特列，他是左右都包括\n",
    "# range函数在python2和3中有严重区别\n",
    "for i in range(1,11):\n",
    "    print(i)"
   ]
  },
  {
   "cell_type": "markdown",
   "metadata": {},
   "source": [
    "## for-else语句\n",
    "- 当for循环结束的时候，会执行else语句，else语句可选\n"
   ]
  },
  {
   "cell_type": "code",
   "execution_count": 13,
   "metadata": {},
   "outputs": [
    {
     "name": "stdout",
     "output_type": "stream",
     "text": [
      "zhangsan\n",
      "同学部门不约，请自重\n",
      "lisi\n",
      "同学部门不约，请自重\n",
      "wangwu\n",
      "同学部门不约，请自重\n",
      "zhaoliu\n",
      "我的最爱zhaoliu\n",
      "别的都不是我的学生，不会再爱了\n"
     ]
    }
   ],
   "source": [
    "# for-else语句\n",
    "# 打印历表中的同学\n",
    "# 如果没有在列表中，或者列表借宿了，我们需要打印提示语句，表示不再爱了\n",
    "# 打印学生列表姓名\n",
    "# 如果是zhaoliu， 那肯定是我的最爱啊，\n",
    "# 如果是别的学生，要冷酷的拒绝他\n",
    "for name in ['zhangsan', 'lisi', 'wangwu', 'zhaoliu']:\n",
    "    print(name)\n",
    "    if name == \"zhaoliu\":\n",
    "        print(\"我的最爱{0}\".format(name))\n",
    "    else:\n",
    "        print(\"同学部门不约，请自重\")\n",
    "else:\n",
    "    print(\"别的都不是我的学生，不会再爱了\")"
   ]
  },
  {
   "cell_type": "markdown",
   "metadata": {},
   "source": [
    "## 循环之break,continue,pass\n",
    "- break: 无条件结束整个循环\n",
    "- continue：无条件结束本次循环。从新进入下一轮\n",
    "- pass：表示略过，通常用于站位"
   ]
  },
  {
   "cell_type": "code",
   "execution_count": 14,
   "metadata": {},
   "outputs": [
    {
     "name": "stdout",
     "output_type": "stream",
     "text": [
      "1\n",
      "2\n",
      "3\n",
      "4\n",
      "5\n",
      "6\n",
      "我找到了7了\n"
     ]
    }
   ],
   "source": [
    "# 在1-10的数字中，寻找数字7，一旦找到，打印出来，其余则什么都不做\n",
    "# 在for循环中的变量表示，一般用i, k, m, n或者indx, idx, item之类\n",
    "# 在python中，如果循环变量名称不重要，可以用下划线(-)代替\n",
    "for i in range(1,11):\n",
    "    if i == 7:\n",
    "        print(\"我找到了7了\")\n",
    "        break\n",
    "    else:\n",
    "        print(i)\n",
    "    "
   ]
  },
  {
   "cell_type": "code",
   "execution_count": 15,
   "metadata": {},
   "outputs": [
    {
     "name": "stdout",
     "output_type": "stream",
     "text": [
      "2是偶数\n",
      "4是偶数\n",
      "6是偶数\n",
      "8是偶数\n",
      "10是偶数\n"
     ]
    }
   ],
   "source": [
    "# continue 语句练习\n",
    "# 在数字1-10中，寻找所有偶数，找到偶数后打印偶数\n",
    "\n",
    "for i in range(1,11):\n",
    "    if i % 2 == 1:\n",
    "        continue\n",
    "    else:\n",
    "        print(\"{0}是偶数\".format(i))"
   ]
  },
  {
   "cell_type": "code",
   "execution_count": 16,
   "metadata": {},
   "outputs": [
    {
     "name": "stdout",
     "output_type": "stream",
     "text": [
      "2是偶数\n",
      "4是偶数\n",
      "6是偶数\n",
      "8是偶数\n",
      "10是偶数\n"
     ]
    }
   ],
   "source": [
    "# 版本2\n",
    "for i in range(1,11):\n",
    "    if i % 2 == 0:\n",
    "        print(\"{0}是偶数\".format(i))"
   ]
  },
  {
   "cell_type": "code",
   "execution_count": 17,
   "metadata": {},
   "outputs": [
    {
     "name": "stdout",
     "output_type": "stream",
     "text": [
      "2是偶数\n",
      "4是偶数\n",
      "6是偶数\n",
      "8是偶数\n",
      "10是偶数\n"
     ]
    }
   ],
   "source": [
    "# 版本3\n",
    "for i in range(1,11):\n",
    "    if i % 2 == 1:\n",
    "        continue\n",
    "   \n",
    "    print(\"{0}是偶数\".format(i))"
   ]
  },
  {
   "cell_type": "code",
   "execution_count": 18,
   "metadata": {},
   "outputs": [],
   "source": [
    "# pass例子，一般用于占位\n",
    "# 啥也没干，但不报错\n",
    "for i in range(1,11):\n",
    "    pass"
   ]
  },
  {
   "cell_type": "markdown",
   "metadata": {},
   "source": [
    "# for循环练习"
   ]
  },
  {
   "cell_type": "code",
   "execution_count": 3,
   "metadata": {},
   "outputs": [
    {
     "name": "stdout",
     "output_type": "stream",
     "text": [
      "* * * * *\n",
      "* * * * *\n",
      "* * * * *\n",
      "* * * * *\n"
     ]
    }
   ],
   "source": [
    "# 简单图形打印\n",
    "'''\n",
    "打印一下图形在输出上面\n",
    "* * * * *\n",
    "* * * * *\n",
    "* * * * *\n",
    "* * * * *\n",
    "'''\n",
    "print('* * * * *')\n",
    "print('* * * * *')\n",
    "print('* * * * *')\n",
    "print('* * * * *')"
   ]
  },
  {
   "cell_type": "code",
   "execution_count": 4,
   "metadata": {},
   "outputs": [
    {
     "name": "stdout",
     "output_type": "stream",
     "text": [
      "* * * * * \n",
      "* * * * * \n",
      "* * * * * \n",
      "* * * * * \n"
     ]
    }
   ],
   "source": [
    "# 更改上面代码\n",
    "print('* ' * 5)\n",
    "print('* ' * 5)\n",
    "print('* ' * 5)\n",
    "print('* ' * 5)"
   ]
  },
  {
   "cell_type": "code",
   "execution_count": 5,
   "metadata": {},
   "outputs": [
    {
     "name": "stdout",
     "output_type": "stream",
     "text": [
      "* * * * * \n",
      "* * * * * \n",
      "* * * * * \n",
      "* * * * * \n"
     ]
    }
   ],
   "source": [
    "# 利用for循环更改上面案例\n",
    "for i in range(0,4):\n",
    "    print('* * * * * ')"
   ]
  },
  {
   "cell_type": "code",
   "execution_count": 8,
   "metadata": {},
   "outputs": [
    {
     "name": "stdout",
     "output_type": "stream",
     "text": [
      "* * * * * \n",
      "* * * * * \n",
      "* * * * * \n",
      "* * * * * \n"
     ]
    }
   ],
   "source": [
    "# 利用双层for循环更改生面图案\n",
    "for i in range(0,4):\n",
    "    # 利用for循环打印一行星号\n",
    "    for j in range(5):\n",
    "        # print默认自动换行\n",
    "        # 通过end参数控制，\n",
    "        print('* ', end= '')\n",
    "    # 利用print自动换行和利用与for循环层级相同\n",
    "    print()"
   ]
  },
  {
   "cell_type": "code",
   "execution_count": 32,
   "metadata": {},
   "outputs": [
    {
     "name": "stdout",
     "output_type": "stream",
     "text": [
      "* * * * * \n",
      "*       * \n",
      "*       * \n",
      "* * * * * \n"
     ]
    }
   ],
   "source": [
    "# 简单打印图形\n",
    "\"\"\"\n",
    "* * * * *\n",
    "*       *\n",
    "*       *\n",
    "* * * * *\n",
    "思路：\n",
    "1.正常利用for循环控制打印行\n",
    "2.如果是第一行和最后一行则完整打印\n",
    "3.否则，判断打印列，如果是第一列或者最后一列，咋打印型号，否则打印空格\n",
    "\"\"\"\n",
    "\n",
    "# 外层循环控制行\n",
    "for i in range(0,4):\n",
    "    if i == 0 or i == 3:\n",
    "        print('* ' * 5)\n",
    "    else:\n",
    "        for j in range(0,5):\n",
    "            if j == 0 or j == 4 :\n",
    "                print('* ',end='')\n",
    "            else:\n",
    "                print('  ',end='')\n",
    "        print()\n",
    "        "
   ]
  },
  {
   "cell_type": "code",
   "execution_count": 35,
   "metadata": {},
   "outputs": [
    {
     "name": "stdout",
     "output_type": "stream",
     "text": [
      "* \n",
      "* * \n",
      "* * * \n",
      "* * * * \n",
      "* * * * * \n"
     ]
    }
   ],
   "source": [
    "'''\n",
    "打印三角形\n",
    "*\n",
    "* *\n",
    "* * *\n",
    "* * * *\n",
    "* * * * *\n",
    "'''\n",
    "for i in range(5):\n",
    "    # 每一行打印及几个星号跟行号相关\n",
    "    print('* ' * (i + 1))\n",
    "    "
   ]
  },
  {
   "cell_type": "code",
   "execution_count": 38,
   "metadata": {},
   "outputs": [
    {
     "name": "stdout",
     "output_type": "stream",
     "text": [
      "* \n",
      "* * \n",
      "* * * \n",
      "* * * * \n",
      "* * * * * \n"
     ]
    }
   ],
   "source": [
    "# 另一种逻辑\n",
    "for i in range(5):\n",
    "    for j in range(i + 1):\n",
    "        print('* ',end='')\n",
    "    print()"
   ]
  },
  {
   "cell_type": "code",
   "execution_count": 53,
   "metadata": {},
   "outputs": [
    {
     "name": "stdout",
     "output_type": "stream",
     "text": [
      "* \n",
      "* * \n",
      "*   * \n",
      "*     * \n",
      "* * * * * \n"
     ]
    }
   ],
   "source": [
    "'''\n",
    "打印空心三角形\n",
    "*\n",
    "* *\n",
    "*   *\n",
    "*     *\n",
    "* * * * *\n",
    "'''\n",
    "for i in range(5):\n",
    "    if i == 0 or i == 1 or i == 4:\n",
    "            print('* ' * (i+1))\n",
    "    else:\n",
    "        for j in range(i+1):\n",
    "            if j == 0 or j == (i):\n",
    "                print('* ',end='')\n",
    "            else:\n",
    "                print('  ',end='')\n",
    "        print()\n",
    "            "
   ]
  },
  {
   "cell_type": "code",
   "execution_count": 57,
   "metadata": {},
   "outputs": [
    {
     "name": "stdout",
     "output_type": "stream",
     "text": [
      "* * * * * \n",
      "* * * * \n",
      "* * * \n",
      "* * \n",
      "* \n"
     ]
    }
   ],
   "source": [
    "'''\n",
    "打印倒立三角\n",
    "* * * * *\n",
    "*     * \n",
    "*   *\n",
    "* *\n",
    "*\n",
    "'''\n",
    "# i-for 控制行号\n",
    "# j-for控制列号\n",
    "for i in range(5, 0, -1):\n",
    "    for j in range(i, 0, -1):\n",
    "        print('* ', end='')\n",
    "    print()"
   ]
  },
  {
   "cell_type": "code",
   "execution_count": 62,
   "metadata": {},
   "outputs": [
    {
     "name": "stdout",
     "output_type": "stream",
     "text": [
      "* * * * * \n",
      "*     * \n",
      "*   * \n",
      "* * \n",
      "* \n"
     ]
    }
   ],
   "source": [
    "# 打印空三角\n",
    "'''\n",
    "* * * * *\n",
    "*     * \n",
    "*   *\n",
    "* *\n",
    "*\n",
    "'''\n",
    "for i in range(5):\n",
    "    for j in range(5-i):\n",
    "        if i == 0:\n",
    "            print('* ',end='')\n",
    "            # continue 保证了当i=0时下面的永远不被执行\n",
    "            continue\n",
    "            \n",
    "        if j == 0 or j == (4-i):\n",
    "            print('* ',end='')\n",
    "        else:\n",
    "            print('  ',end='')\n",
    "    print()\n",
    "        \n"
   ]
  },
  {
   "cell_type": "code",
   "execution_count": 64,
   "metadata": {},
   "outputs": [
    {
     "name": "stdout",
     "output_type": "stream",
     "text": [
      "      * \n",
      "     * * \n",
      "    * * * \n",
      "   * * * * \n",
      "  * * * * * \n",
      " * * * * * * \n"
     ]
    }
   ],
   "source": [
    "# 打印正三角形\n",
    "'''\n",
    "    *\n",
    "   * *\n",
    "  * * * \n",
    " * * * *\n",
    "* * * * *\n",
    "'''\n",
    "# i-for 控制行\n",
    "# j-for 控制列\n",
    "\n",
    "for i in range(6):\n",
    "    # 总体思路是，先打印一行空格，代表每一行星星前的空格\n",
    "    # 再不换行，打印型号\n",
    "    for j in range(6-i):\n",
    "        print(' ',end='')\n",
    "    for m in range(i+1):\n",
    "        print('* ',end='')\n",
    "    print()\n",
    "    \n",
    "    "
   ]
  },
  {
   "cell_type": "markdown",
   "metadata": {},
   "source": [
    "# while循环\n",
    "- 一个循环语句\n",
    "- 表示当某条件成立的时候，就循环\n",
    "- 不知道具体循环次数，但是能确定循环的成立条件的时候用while 循环\n",
    "- while语法：\n",
    "            \n",
    "            while 条件表达式：\n",
    "                语句块\n",
    "                \n",
    "            # 另外一种形式\n",
    "            while 条件表达式：\n",
    "                语句块1\n",
    "            else：\n",
    "                语句块2"
   ]
  },
  {
   "cell_type": "code",
   "execution_count": 2,
   "metadata": {},
   "outputs": [
    {
     "name": "stdout",
     "output_type": "stream",
     "text": [
      "第1年拿了106700.0块钱\n",
      "第2年拿了113848.9块钱\n",
      "第3年拿了121476.77629999998块钱\n",
      "第4年拿了129615.72031209998块钱\n",
      "第5年拿了138299.97357301068块钱\n",
      "第6年拿了147566.07180240238块钱\n",
      "第7年拿了157452.99861316333块钱\n",
      "第8年拿了168002.34952024528块钱\n",
      "第9年拿了179258.5069381017块钱\n",
      "第10年拿了191268.8269029545块钱\n",
      "第11年拿了204083.83830545243块钱\n",
      "我不存了\n"
     ]
    }
   ],
   "source": [
    "# 如果说年利率是6.7%，则多少年后本钱会翻倍，年复利。\n",
    "NP = 100000\n",
    "year = 0\n",
    "while NP <  200000:\n",
    "    NP = NP * (1+0.067)\n",
    "    year += 1\n",
    "    print('第{0}年拿了{1}块钱'.format(year, NP))\n",
    "else:\n",
    "    print('我不存了')"
   ]
  },
  {
   "cell_type": "markdown",
   "metadata": {},
   "source": [
    "# 函数\n",
    "- 代码的一种组织形式\n",
    "- 一个函数一般完成一项特定的功能\n",
    "- 一个函数一般不要太多\n",
    "- 函数使用\n",
    "    - 函数需要先定义\n",
    "    - 使用函数，俗称调用"
   ]
  },
  {
   "cell_type": "code",
   "execution_count": 3,
   "metadata": {},
   "outputs": [
    {
     "name": "stdout",
     "output_type": "stream",
     "text": [
      "我是一个函数\n",
      "我要完成一定功能\n",
      "我结素了\n"
     ]
    }
   ],
   "source": [
    "# 定义一个函数\n",
    "# 只是定义的时候不会执行\n",
    "# 1.def 关键字，后跟一个空格\n",
    "# 2.函数名，自己定义，起名需要遵循命名规则，不能用大驼峰\n",
    "# 3. 后面括号和冒号不能省，括号内可以有参数\n",
    "# 4. 函数内所有代码缩进\n",
    "def func():\n",
    "    print('我是一个函数')\n",
    "    print('我要完成一定功能')\n",
    "    print('我结素了')\n",
    "# 函数的调用\n",
    "func()"
   ]
  },
  {
   "cell_type": "markdown",
   "metadata": {},
   "source": [
    "### 函数的参数和返回值\n",
    "- 参数：负责给函数传递一些必要的数据和信息\n",
    "    - 形参：在函数定义时用到的参数没有具体值，只是一个站位的符号\n",
    "    - 实参：在调用函数的时候输入的值\n",
    "- 返回值：函数的执行结果\n",
    "    - 使用return关键字\n",
    "    - 如果没有return，默认返回一个None\n",
    "    - 函数一旦执行人 return语句，则无条件返回，即结束函数的执行\n",
    "    - 查找函数帮助文档"
   ]
  },
  {
   "cell_type": "code",
   "execution_count": 6,
   "metadata": {},
   "outputs": [
    {
     "name": "stdout",
     "output_type": "stream",
     "text": [
      "明月，你肿么列\n",
      "sir, 你不理我我就走列\n"
     ]
    }
   ],
   "source": [
    "# 参数的定义和使用\n",
    "# 参数person只是一个符号，代表的是调用的时候的某一个数据\n",
    "# 调用的时候， 会用p代替函数中所有的person\n",
    "def hello(person):\n",
    "    print(\"{0}，你肿么列\".format(person))\n",
    "    print(\"sir, 你不理我我就走列\")\n",
    "p = \"明月\"\n",
    "hello(p)"
   ]
  },
  {
   "cell_type": "code",
   "execution_count": 8,
   "metadata": {},
   "outputs": [
    {
     "name": "stdout",
     "output_type": "stream",
     "text": [
      "明月，你肿么列\n",
      "sir, 你不理我我就走列\n",
      "我已经跟明月打招呼了，明月不理我\n"
     ]
    }
   ],
   "source": [
    "# return语句的基本使用\n",
    "# 函数打完招呼后返回一句话\n",
    "def hello(person):\n",
    "    print(\"{0}，你肿么列\".format(person))\n",
    "    print(\"sir, 你不理我我就走列\")\n",
    "    \n",
    "    return \"我已经跟{0}打招呼了，{1}不理我\".format(person, person)\n",
    "p = \"明月\"\n",
    "rst = hello(p)\n",
    "print(rst)"
   ]
  },
  {
   "cell_type": "code",
   "execution_count": 10,
   "metadata": {},
   "outputs": [
    {
     "name": "stdout",
     "output_type": "stream",
     "text": [
      "明月，你肿么列\n",
      "哈哈，我提前结速了\n"
     ]
    }
   ],
   "source": [
    "# return案例2\n",
    "def hello(person):\n",
    "    print(\"{0}，你肿么列\".format(person))\n",
    "    return \"哈哈，我提前结速了\"\n",
    "    print(\"sir, 你不理我我就走列\")\n",
    "    \n",
    "    return \"我已经跟{0}打招呼了，{1}不理我\".format(person, person)\n",
    "p = \"明月\"\n",
    "rst = hello(p)\n",
    "print(rst)"
   ]
  },
  {
   "cell_type": "code",
   "execution_count": 18,
   "metadata": {},
   "outputs": [
    {
     "name": "stdout",
     "output_type": "stream",
     "text": [
      "1 \n",
      "2 4 \n",
      "3 6 9 \n",
      "4 8 12 16 \n",
      "5 10 15 20 25 \n",
      "6 12 18 24 30 36 \n",
      "7 14 21 28 35 42 49 \n",
      "8 16 24 32 40 48 56 64 \n",
      "9 18 27 36 45 54 63 72 81 \n"
     ]
    }
   ],
   "source": [
    "# 做一个99乘法表\n",
    "# 自己的做法\n",
    "for i in range(1,10):\n",
    "    for j in range(i):\n",
    "        print(str(i * (j+1)) + ' ', end = '')\n",
    "    print()"
   ]
  },
  {
   "cell_type": "code",
   "execution_count": 31,
   "metadata": {},
   "outputs": [
    {
     "name": "stdout",
     "output_type": "stream",
     "text": [
      "1  ............\n",
      "2  4  ............\n",
      "3  6  9  ............\n",
      "4  8  12  16  ............\n",
      "5  10  15  20  25  ............\n",
      "6  12  18  24  30  36  ............\n",
      "7  14  21  28  35  42  49  ............\n",
      "8  16  24  32  40  48  56  64  ............\n",
      "9  18  27  36  45  54  63  72  81  ............\n"
     ]
    }
   ],
   "source": [
    "# 老师的做法\n",
    "for row in range(1, 10):\n",
    "    # 打印一行\n",
    "    for col in range(1, row + 1):\n",
    "        print(row * col, end='  ')\n",
    "    print(\"............\")\n",
    "    "
   ]
  },
  {
   "cell_type": "code",
   "execution_count": 37,
   "metadata": {},
   "outputs": [
    {
     "name": "stdout",
     "output_type": "stream",
     "text": [
      "1  \n",
      "2  4  \n",
      "3  6  9  \n",
      "4  8  12  16  \n",
      "5  10  15  20  25  \n",
      "6  12  18  24  30  36  \n",
      "7  14  21  28  35  42  49  \n",
      "8  16  24  32  40  48  56  64  \n",
      "9  18  27  36  45  54  63  72  81  \n"
     ]
    }
   ],
   "source": [
    "# 定一个函数，打印一行九九乘法表\n",
    "def printLine(row):\n",
    "    for col in range(1, row + 1):\n",
    "        print(row * col, end='  ')\n",
    "    print()\n",
    "for row in range(1,10):\n",
    "    printLine(row)"
   ]
  },
  {
   "cell_type": "markdown",
   "metadata": {},
   "source": [
    "## 参数详解\n",
    "- [参考资料](https://www.cnblogs.com/bingabcd/p/6671368.html)\n",
    "- python 参考资料： headfirst python -> 零基础入门学习python(小甲鱼)-> 习题\n",
    "- 参数分类\n",
    "    - 普通参数\n",
    "    - 默认参数\n",
    "    - 关键字参数\n",
    "    - 收集参数\n",
    "- 普通参数 \n",
    "    - 参加上例子\n",
    "    - 定义的时候直接定义变量名\n",
    "    - 调用的时候直接把变量或者值放入指定位置\n",
    "        \n",
    "            def 函数名（参数1，参数2， 。。。）：\n",
    "                  函数体\n",
    "            # 调用\n",
    "            函数名（value1，value2，......)\n",
    "            \n",
    "            # 调用的时候，具体值参考的是未知，按位置赋值\n",
    "- 默认参数\n",
    "    - 形参带有默认值\n",
    "    - 调用的时候，如果没有对应的形参赋值，则使用默认值\n",
    "            \n",
    "            def func_name(p1=vi, p2=v2.......):\n",
    "                func_block\n",
    "            # 调用1\n",
    "            func_name()\n",
    "            # 调用2(实际值跟默认值不一样）\n",
    "            value1 = 100\n",
    "            value2 = 200\n",
    "            func_name(value1,value2)\n",
    "            "
   ]
  },
  {
   "cell_type": "code",
   "execution_count": 38,
   "metadata": {},
   "outputs": [
    {
     "name": "stdout",
     "output_type": "stream",
     "text": [
      "mingyue is 21, and he is a good student\n",
      "xiaojing is 21, and she is a good student\n"
     ]
    }
   ],
   "source": [
    "# 默认参数示例\n",
    "# 报名函数，需要知道学生性别\n",
    "# 学习python 的学生基本上都是男生，所以，报名的时候没有特必然制定，我们的人物是男生\n",
    "def reg(name, age, gender = 'male'):\n",
    "    if gender == \"male\":\n",
    "        print(\"{0} is {1}, and he is a good student\".format(name, age))\n",
    "    else:\n",
    "        print(\"{0} is {1}, and she is a good student\".format(name, age))\n",
    "# 调用默认参数案例1\n",
    "reg(\"mingyue\", 21)\n",
    "reg(\"xiaojing\", 21, 'female')"
   ]
  },
  {
   "cell_type": "markdown",
   "metadata": {},
   "source": [
    "## 关键字参数开始\n",
    "- 常见语法\n",
    "                \n",
    "                def func(p1=v1,p2=v2....):\n",
    "                    func_body\n",
    "                \n",
    "                调用函数：\n",
    "                func(p1=value1, p2=value2....)\n",
    "- 比较麻烦，但也有好处\n",
    "    - 不容易混淆， 一般是餐盒形参只是安位置一一对应即可，容易出错\n",
    "    - 使用关键字参数，可以不考虑参数位置"
   ]
  },
  {
   "cell_type": "code",
   "execution_count": 3,
   "metadata": {},
   "outputs": [
    {
     "name": "stdout",
     "output_type": "stream",
     "text": [
      "I am a student\n",
      "我叫18, 我今年jingjing岁了， 我住我家\n"
     ]
    }
   ],
   "source": [
    "# 关键字参数案例\n",
    "def stu(name, age, addr):\n",
    "    print(\"I am a student\")\n",
    "    print(\"我叫{0}, 我今年{1}岁了， 我住{2}\".format(name, age, addr))\n",
    "n = \"jingjing\"\n",
    "a = 18\n",
    "addr = \"我家\"\n",
    "# 普通参数，只按照位置传递，容易出错\n",
    "stu(a, n, addr)"
   ]
  },
  {
   "cell_type": "code",
   "execution_count": 4,
   "metadata": {},
   "outputs": [
    {
     "name": "stdout",
     "output_type": "stream",
     "text": [
      "I am a student\n",
      "我叫jingjing, 我今年18岁了， 我住我家\n"
     ]
    }
   ],
   "source": [
    "# 关键字参数案例\n",
    "def stu_key(name=\"No name\", age=0, addr=\"No name\"):\n",
    "    print(\"I am a student\")\n",
    "    print(\"我叫{0}, 我今年{1}岁了， 我住{2}\".format(name, age, addr))\n",
    "n = \"jingjing\"\n",
    "a = 18\n",
    "addr = \"我家\"\n",
    "# 里面参数可以换位置\n",
    "# 参数不用空格，逗号后面接空格\n",
    "stu_key(name=n, age=a, addr=addr)"
   ]
  },
  {
   "cell_type": "markdown",
   "metadata": {},
   "source": [
    "## 收集参数\n",
    "- 把没有位置，不能和定义时的参数位置相对应的参数，放入一个特定的数据结构中区\n",
    "- 语法\n",
    "\n",
    "\n",
    "                def func(*args):\n",
    "                      func_body\n",
    "                        按照list使用方式访问args得到传入的参数\n",
    "                调用：\n",
    "                func(p1,p2,p2,.....)\n",
    "- 参数名args不是必须这么写，但是，我们推荐直接用args,约定俗成\n",
    "- 参数名args前需要由星号\n",
    "- 收集参数可以和其他参数共存"
   ]
  },
  {
   "cell_type": "code",
   "execution_count": 6,
   "metadata": {},
   "outputs": [
    {
     "name": "stdout",
     "output_type": "stream",
     "text": [
      "Hello 大家好，我自我介绍一下，简单说俩句：\n",
      "<class 'tuple'>\n",
      "liuying\n",
      "18\n",
      "北京大通州区\n",
      "wangxiaojing\n",
      "xingle\n",
      "Hello 大家好，我自我介绍一下，简单说俩句：\n",
      "<class 'tuple'>\n",
      "周大神\n"
     ]
    }
   ],
   "source": [
    "# 收集参数代码\n",
    "# 函数模拟一个学生进行自我介绍，但是具体内容不清楚\n",
    "# args吧他看作是一个list\n",
    "def stu( *args):\n",
    "    print(\"Hello 大家好，我自我介绍一下，简单说俩句：\")\n",
    "    # type函数作用是检测变量的类型\n",
    "    print(type(args))\n",
    "    for item in args:\n",
    "        print(item)\n",
    "\n",
    "\n",
    "stu(\"liuying\", 18, \"北京大通州区\",\"wangxiaojing\", \"xingle\")\n",
    "stu(\"周大神\")"
   ]
  },
  {
   "cell_type": "code",
   "execution_count": 7,
   "metadata": {},
   "outputs": [
    {
     "name": "stdout",
     "output_type": "stream",
     "text": [
      "Hello 大家好，我自我介绍一下，简单说俩句：\n",
      "<class 'tuple'>\n"
     ]
    }
   ],
   "source": [
    "stu()"
   ]
  },
  {
   "cell_type": "code",
   "execution_count": 8,
   "metadata": {},
   "outputs": [
    {
     "ename": "TypeError",
     "evalue": "stu() got an unexpected keyword argument 'name'",
     "output_type": "error",
     "traceback": [
      "\u001b[0;31m---------------------------------------------------------------------------\u001b[0m",
      "\u001b[0;31mTypeError\u001b[0m                                 Traceback (most recent call last)",
      "\u001b[0;32m<ipython-input-8-224c0388f3e5>\u001b[0m in \u001b[0;36m<module>\u001b[0;34m()\u001b[0m\n\u001b[1;32m      1\u001b[0m \u001b[0;31m# 如果使用关键字参数哥是调用，会出现问题\u001b[0m\u001b[0;34m\u001b[0m\u001b[0;34m\u001b[0m\u001b[0m\n\u001b[0;32m----> 2\u001b[0;31m \u001b[0mstu\u001b[0m\u001b[0;34m(\u001b[0m\u001b[0mname\u001b[0m\u001b[0;34m=\u001b[0m\u001b[0;34m\"liuying\"\u001b[0m\u001b[0;34m)\u001b[0m\u001b[0;34m\u001b[0m\u001b[0m\n\u001b[0m",
      "\u001b[0;31mTypeError\u001b[0m: stu() got an unexpected keyword argument 'name'"
     ]
    }
   ],
   "source": [
    "# 如果使用关键字参数哥是调用，会出现问题\n",
    "stu(name=\"liuying\")"
   ]
  },
  {
   "cell_type": "markdown",
   "metadata": {},
   "source": [
    "### 收集参数之关键字收集参数\n",
    "- 吧关键字参数按字典格式存入收集参数\n",
    "- 语法：\n",
    "\n",
    "                        def func( **kwargs):\n",
    "                                func_body\n",
    "                                \n",
    "                       # 调用：\n",
    "                       func(p1=v1, p2= v2, p3=v3.........)\n",
    "- kwargs一般约定俗成\n",
    "- 调用的时候，吧多余的关键字参数放入kwargs\n",
    "- 访问kwargs需要按字典格式访问"
   ]
  },
  {
   "cell_type": "code",
   "execution_count": 13,
   "metadata": {},
   "outputs": [
    {
     "name": "stdout",
     "output_type": "stream",
     "text": [
      "Hello 大家好，我先自我介绍一下:\n",
      "<class 'dict'>\n",
      "name --- liuying\n",
      "age --- 19\n",
      "addr --- 北京大通州区\n",
      "love --- wangxiaojing\n",
      "work --- teacher\n",
      "********\n",
      "Hello 大家好，我先自我介绍一下:\n",
      "<class 'dict'>\n",
      "name --- zhoudashen\n"
     ]
    }
   ],
   "source": [
    "# 收集参数案例\n",
    "# 自我介绍\n",
    "# 调用时使用关键字参数调用\n",
    "def stu( **kwargs):\n",
    "    print(\"Hello 大家好，我先自我介绍一下:\")\n",
    "    print(type(kwargs))\n",
    "    # 对于字典的访问，python2和python3的区别\n",
    "    for k,v in kwargs.items():\n",
    "        print(k, \"---\", v)\n",
    "\n",
    "stu(name=\"liuying\", age=19, addr=\"北京大通州区\", love=\"wangxiaojing\", work=\"teacher\")\n",
    "print(\"********\")\n",
    "stu(name=\"zhoudashen\")\n",
    "    "
   ]
  },
  {
   "cell_type": "markdown",
   "metadata": {},
   "source": [
    "### 收集参数混合调用的顺序问题\n",
    "- 收集参数，关键字参数，普通参数可以混合使用\n",
    "- 使用规则，普通参数和关键字参数优先处理\n",
    "- 定义的时候一般宅普通参数，关键字参数，收集参数tuple，收集参数dict"
   ]
  },
  {
   "cell_type": "code",
   "execution_count": 31,
   "metadata": {},
   "outputs": [
    {
     "name": "stdout",
     "output_type": "stream",
     "text": [
      "Hello 大家好\n",
      "我叫liuying,我今年19大了。\n",
      "对不起，我没有爱好\n",
      "********************\n",
      "Hello 大家好\n",
      "我叫liuying,我今年19大了。\n",
      "我的爱好是游泳\n",
      "********************\n",
      "Hello 大家好\n",
      "我叫liuying,我今年19大了。\n",
      "我的爱好是游泳\n",
      "wangxiaojing\n",
      "liushitou\n",
      "hobby2 --- 烹饪\n",
      "hobby3 --- 跟别人聊天\n",
      "********************\n"
     ]
    }
   ],
   "source": [
    "# 收集参数混合使用案例\n",
    "# stu 模拟一个学生的自我介绍\n",
    "def stu(name, age, *args, hobby=\"没有\", **kwargs):\n",
    "    print(\"Hello 大家好\")\n",
    "    print(\"我叫{0},我今年{1}大了。\".format(name, age))\n",
    "    if hobby == \"没有\":\n",
    "        print(\"对不起，我没有爱好\")\n",
    "    else:\n",
    "        print(\"我的爱好是{0}\".format(hobby))\n",
    "    for i in args:\n",
    "        print(i)   \n",
    "   \n",
    "    \n",
    "    \n",
    "    for k, v in kwargs.items():\n",
    "        print(k, \"---\", v)\n",
    "    print(\"*\" * 20)\n",
    "\n",
    "# 开始调用函数\n",
    "name = \"liuying\"\n",
    "age = 19\n",
    "# 调用的不同格式\n",
    "stu(name, age)\n",
    "stu(name, age, hobby = \"游泳\")\n",
    "stu(name, age, \"wangxiaojing\", \"liushitou\", hobby=\"游泳\", hobby2=\"烹饪\",hobby3=\"跟别人聊天\")"
   ]
  },
  {
   "cell_type": "markdown",
   "metadata": {},
   "source": [
    "### 收集参数的解包问题\n",
    "- 吧参数放入list或者字典中，直接吧list/dict中的树枝放入参数重\n",
    "- 语法：参看案例"
   ]
  },
  {
   "cell_type": "code",
   "execution_count": 33,
   "metadata": {},
   "outputs": [
    {
     "name": "stdout",
     "output_type": "stream",
     "text": [
      "hahahaah\n",
      "<class 'str'>\n",
      "0\n",
      "liuying\n",
      "<class 'str'>\n",
      "1\n",
      "liuxiaoying\n",
      "<class 'int'>\n",
      "2\n",
      "19\n",
      "<class 'int'>\n",
      "3\n",
      "200\n",
      "hahahaah\n",
      "<class 'list'>\n",
      "0\n",
      "['liuying', 20, 230]\n"
     ]
    }
   ],
   "source": [
    "# 收集参数的解包问题\n",
    "def stu(*args):\n",
    "    print(\"hahahaah\")\n",
    "    # n 用来表示循环次数\n",
    "    # 主要用来调试\n",
    "    n = 0\n",
    "    for i in args:\n",
    "        print(type(i))\n",
    "        print(n)\n",
    "        n += 1\n",
    "        print(i)\n",
    "stu(\"liuying\", \"liuxiaoying\", 19, 200)\n",
    "l = list()\n",
    "l.append(\"liuying\")\n",
    "l.append(20)\n",
    "l.append(230)\n",
    "stu(l)"
   ]
  },
  {
   "cell_type": "code",
   "execution_count": 36,
   "metadata": {},
   "outputs": [
    {
     "name": "stdout",
     "output_type": "stream",
     "text": [
      "hahahaah\n",
      "<class 'list'>\n",
      "0\n",
      "['liuying', 19, 23, 'wangxiaojing']\n",
      "hahahaah\n",
      "<class 'str'>\n",
      "0\n",
      "liuying\n",
      "<class 'int'>\n",
      "1\n",
      "19\n",
      "<class 'int'>\n",
      "2\n",
      "23\n",
      "<class 'str'>\n",
      "3\n",
      "wangxiaojing\n"
     ]
    }
   ],
   "source": [
    "# 收集参数的解包问题2\n",
    "def stu(*args):\n",
    "    print(\"hahahaah\")\n",
    "    # n 用来表示循环次数\n",
    "    # 主要用来调试\n",
    "    n = 0\n",
    "    for i in args:\n",
    "        print(type(i))\n",
    "        print(n)\n",
    "        n += 1\n",
    "        print(i)\n",
    "l = [\"liuying\", 19, 23, \"wangxiaojing\"]\n",
    "stu(l)\n",
    "# 此时，args的表示形式是字典里有一个元素，即args =  ([\"liuying\", 19, 23, \"wangxiaojing\"])\n",
    "# 很显然，违背最初想法\n",
    "\n",
    "# 此时的调用，我们要解包加个星号\n",
    "stu(*l)"
   ]
  },
  {
   "cell_type": "markdown",
   "metadata": {},
   "source": [
    "### 同理，dict类型收集参数一样可以解包，但是\n",
    "- 对dict类型进行解包需要俩个**"
   ]
  },
  {
   "cell_type": "markdown",
   "metadata": {},
   "source": [
    "## 返回值\n",
    "- 函数和过程的区别\n",
    "    - 有无返回值\n",
    "- 需要用return显示返回值内容，\n",
    "- 如果没有返回，则默认返回None\n",
    "- 推荐写法，无论有没有返回值，最后都以return结速了"
   ]
  },
  {
   "cell_type": "code",
   "execution_count": 39,
   "metadata": {},
   "outputs": [
    {
     "name": "stdout",
     "output_type": "stream",
     "text": [
      "有返回值呀\n",
      "1\n"
     ]
    }
   ],
   "source": [
    "# 返回值示例\n",
    "def finc_1():\n",
    "    print(\"有返回值呀\")\n",
    "    return 1\n",
    "\n",
    "def finc_2():\n",
    "    print(\"没有返回值\")\n",
    "    return None\n",
    "\n",
    "f1 = finc_1()\n",
    "print(f1)"
   ]
  },
  {
   "cell_type": "code",
   "execution_count": 40,
   "metadata": {},
   "outputs": [
    {
     "name": "stdout",
     "output_type": "stream",
     "text": [
      "没有返回值\n",
      "None\n"
     ]
    }
   ],
   "source": [
    "f2 = finc_2()\n",
    "print(f2)"
   ]
  },
  {
   "cell_type": "markdown",
   "metadata": {},
   "source": [
    "# 函数文档\n",
    "- 函数的文档的作用是对当前函数提供使用相关的参考信息\n",
    "- 文档的写法：\n",
    "    - 在函数内部开始的第一行使用3字符串定义符\n",
    "    - 一般具有特定合适\n",
    "    - 参看案例\n",
    "- 文档查看\n",
    "    - 使用help函数，形如help(func)\n",
    "    - 使用doc"
   ]
  },
  {
   "cell_type": "code",
   "execution_count": 44,
   "metadata": {},
   "outputs": [],
   "source": [
    "# 文档案例\n",
    "# 函数stu是模拟一个学生的自我介绍的内容\n",
    "def stu(name, age, *args):\n",
    "    '''\n",
    "    这是文档\n",
    "    这是文档\n",
    "    这是文档\n",
    "    '''\n",
    "    print(\"This is hanshu stu\")"
   ]
  },
  {
   "cell_type": "code",
   "execution_count": 45,
   "metadata": {},
   "outputs": [
    {
     "name": "stdout",
     "output_type": "stream",
     "text": [
      "Help on function stu in module __main__:\n",
      "\n",
      "stu(name, age, *args)\n",
      "    这是文档\n",
      "    这是文档\n",
      "    这是文档\n",
      "\n"
     ]
    },
    {
     "data": {
      "text/plain": [
       "'\\n    这是文档\\n    这是文档\\n    这是文档\\n    '"
      ]
     },
     "execution_count": 45,
     "metadata": {},
     "output_type": "execute_result"
    }
   ],
   "source": [
    "# 查看函数文档\n",
    "help(stu)\n",
    "# 使用doc\n",
    "stu.__doc__"
   ]
  },
  {
   "cell_type": "markdown",
   "metadata": {},
   "source": [
    "# 变量作用域\n",
    "- 变量有作用范围限制\n",
    "- 分类：按照作用域分类\n",
    "     - 全局(global):在函数外部定义\n",
    "     - 局部(local):在函数内部定义\n",
    "- 变量的作用范围：\n",
    "    - 全局变量：在整个全局范围都有效\n",
    "    - 全局变量在局部可以使用（即函数内部可以可以发表范围函数外部定义的变量）\n",
    "    - 局部变量在局部范围可以使用\n",
    "    - 局部变量在全局范围无法使用\n",
    "- LEGB原则\n",
    "    - L（local)局部作用域\n",
    "    - E（enclosing function local）外部嵌套函数作用域\n",
    "    - G(Global module）函数定义所在模块作用域\n",
    "    - B(Buildin）：python内置模块的作用域\n",
    "    可以从更小的范围访问小范围，但不能从外部访问函数内\n",
    "    如果出现函数内外都出现的同样变量，函数内部访问函数外部的不行\n",
    "    函数外不能访问函数内部变量\n",
    "    "
   ]
  },
  {
   "cell_type": "code",
   "execution_count": 6,
   "metadata": {},
   "outputs": [
    {
     "name": "stdout",
     "output_type": "stream",
     "text": [
      "100\n",
      "100\n",
      "I am in fun\n",
      "99\n"
     ]
    },
    {
     "ename": "NameError",
     "evalue": "name 'a2' is not defined",
     "output_type": "error",
     "traceback": [
      "\u001b[0;31m---------------------------------------------------------------------------\u001b[0m",
      "\u001b[0;31mNameError\u001b[0m                                 Traceback (most recent call last)",
      "\u001b[0;32m<ipython-input-6-df6afee57bf8>\u001b[0m in \u001b[0;36m<module>\u001b[0;34m()\u001b[0m\n\u001b[1;32m      9\u001b[0m \u001b[0mprint\u001b[0m\u001b[0;34m(\u001b[0m\u001b[0ma1\u001b[0m\u001b[0;34m)\u001b[0m\u001b[0;34m\u001b[0m\u001b[0m\n\u001b[1;32m     10\u001b[0m \u001b[0mfun\u001b[0m\u001b[0;34m(\u001b[0m\u001b[0;34m)\u001b[0m\u001b[0;34m\u001b[0m\u001b[0m\n\u001b[0;32m---> 11\u001b[0;31m \u001b[0mprint\u001b[0m\u001b[0;34m(\u001b[0m\u001b[0ma2\u001b[0m\u001b[0;34m)\u001b[0m\u001b[0;34m\u001b[0m\u001b[0m\n\u001b[0m",
      "\u001b[0;31mNameError\u001b[0m: name 'a2' is not defined"
     ]
    }
   ],
   "source": [
    "# 例子\n",
    "a1 = 100\n",
    "def fun():\n",
    "    print(a1)\n",
    "    print(\"I am in fun\")\n",
    "    a2 = 99\n",
    "    \n",
    "    print(a2)\n",
    "print(a1)\n",
    "fun()\n",
    "print(a2)"
   ]
  },
  {
   "cell_type": "markdown",
   "metadata": {},
   "source": [
    "## 提升局部变量为全局变量\n",
    "- 使用global\n",
    "- 案例如下"
   ]
  },
  {
   "cell_type": "code",
   "execution_count": 12,
   "metadata": {},
   "outputs": [
    {
     "name": "stdout",
     "output_type": "stream",
     "text": [
      "100\n",
      "100\n",
      "I am in fun\n",
      "99\n"
     ]
    }
   ],
   "source": [
    "\n",
    "def fun():\n",
    "    global b1\n",
    "    b1 = 100\n",
    "    print(b1)\n",
    "    print(\"I am in fun\")\n",
    "    # a2 的作用范围是fun\n",
    "    b2 = 99\n",
    "    print(b2)\n",
    "print(b1)\n",
    "fun()"
   ]
  },
  {
   "cell_type": "markdown",
   "metadata": {},
   "source": [
    "# globals, locals函数\n",
    "- 可以通过globals和locals显示出局部变量和全局变量\n",
    "- 参看以下案例"
   ]
  },
  {
   "cell_type": "code",
   "execution_count": 13,
   "metadata": {},
   "outputs": [
    {
     "name": "stdout",
     "output_type": "stream",
     "text": [
      "Locals={'c': 100, 'd': 200, 'e': 111}\n",
      "Globals={'__name__': '__main__', '__doc__': 'Automatically created module for IPython interactive environment', '__package__': None, '__loader__': None, '__spec__': None, '__builtin__': <module 'builtins' (built-in)>, '__builtins__': <module 'builtins' (built-in)>, '_ih': ['', '# 例子\\na1 = 100\\ndef fun():\\n    print(a)\\n    print(\"I am in fun\")\\n    a2 = 99\\n    \\n    print(a2)\\nprint(a1)', '# 例子\\na1 = 100\\ndef fun():\\n    print(a)\\n    print(\"I am in fun\")\\n    a2 = 99\\n    \\n    print(a2)\\nprint(a1)\\nprint(a2)', '# 例子\\na1 = 100\\ndef fun():\\n    print(a)\\n    print(\"I am in fun\")\\n    a2 = 99\\n    \\n    print(a2)\\nprint(a1)\\nfun()\\nprint(a2)', '# 例子\\na1 = 100\\ndef fun():\\n    print(a)\\n    print(\"I am in fun\")\\n    a2 = 99\\n    \\n    print(a2)\\nprint(a1)\\nfun()', '# 例子\\na1 = 100\\ndef fun():\\n    print(a1)\\n    print(\"I am in fun\")\\n    a2 = 99\\n    \\n    print(a2)\\nprint(a1)\\nfun()', '# 例子\\na1 = 100\\ndef fun():\\n    print(a1)\\n    print(\"I am in fun\")\\n    a2 = 99\\n    \\n    print(a2)\\nprint(a1)\\nfun()\\nprint(a2)', 'a1 = 100\\ndef fun():\\n    print(a1)\\n    print(\"I am in fun\")\\n    a2 = 99\\n    \\n    print(a2)\\nprint(a1)\\nfun()\\nprint(global(a2))', 'a1 = 100\\ndef fun():\\n    print(b1)\\n    print(\"I am in fun\")\\n    b2 = 99\\n    \\n    print(b2)\\nprint(b1)\\nfun()\\nprint(global(b2))', 'a1 = 100\\ndef fun():\\n    print(b1)\\n    print(\"I am in fun\")\\n    b2 = 99\\n    \\n    print(b2)\\nprint(b1)\\nfun()\\nprint(global.b2)', 'a1 = 100\\ndef fun():\\n    print(b1)\\n    print(\"I am in fun\")\\n    b2 = 99\\n    global b2\\n    print(b2)\\nprint(b1)\\nfun()\\nprint(b2)', 'b1 = 100\\ndef fun():\\n    print(b1)\\n    print(\"I am in fun\")\\n    b2 = 99\\n    global b2\\n    print(b2)\\nprint(b1)\\nfun()\\nprint(b2)', '\\ndef fun():\\n    global b1\\n    b1 = 100\\n    print(b1)\\n    print(\"I am in fun\")\\n    # a2 的作用范围是fun\\n    b2 = 99\\n    print(b2)\\nprint(b1)\\nfun()', \"# globals 和 locals\\na = 1\\nb = 2\\n\\ndef fun(c,d):\\n    e = 111\\n    print('Locals={0}'.format(locals()))\\n    print('Globals={0}'.format(globals()))\\nfun(100, 200)\"], '_oh': {}, '_dh': ['/Users/apple'], 'In': ['', '# 例子\\na1 = 100\\ndef fun():\\n    print(a)\\n    print(\"I am in fun\")\\n    a2 = 99\\n    \\n    print(a2)\\nprint(a1)', '# 例子\\na1 = 100\\ndef fun():\\n    print(a)\\n    print(\"I am in fun\")\\n    a2 = 99\\n    \\n    print(a2)\\nprint(a1)\\nprint(a2)', '# 例子\\na1 = 100\\ndef fun():\\n    print(a)\\n    print(\"I am in fun\")\\n    a2 = 99\\n    \\n    print(a2)\\nprint(a1)\\nfun()\\nprint(a2)', '# 例子\\na1 = 100\\ndef fun():\\n    print(a)\\n    print(\"I am in fun\")\\n    a2 = 99\\n    \\n    print(a2)\\nprint(a1)\\nfun()', '# 例子\\na1 = 100\\ndef fun():\\n    print(a1)\\n    print(\"I am in fun\")\\n    a2 = 99\\n    \\n    print(a2)\\nprint(a1)\\nfun()', '# 例子\\na1 = 100\\ndef fun():\\n    print(a1)\\n    print(\"I am in fun\")\\n    a2 = 99\\n    \\n    print(a2)\\nprint(a1)\\nfun()\\nprint(a2)', 'a1 = 100\\ndef fun():\\n    print(a1)\\n    print(\"I am in fun\")\\n    a2 = 99\\n    \\n    print(a2)\\nprint(a1)\\nfun()\\nprint(global(a2))', 'a1 = 100\\ndef fun():\\n    print(b1)\\n    print(\"I am in fun\")\\n    b2 = 99\\n    \\n    print(b2)\\nprint(b1)\\nfun()\\nprint(global(b2))', 'a1 = 100\\ndef fun():\\n    print(b1)\\n    print(\"I am in fun\")\\n    b2 = 99\\n    \\n    print(b2)\\nprint(b1)\\nfun()\\nprint(global.b2)', 'a1 = 100\\ndef fun():\\n    print(b1)\\n    print(\"I am in fun\")\\n    b2 = 99\\n    global b2\\n    print(b2)\\nprint(b1)\\nfun()\\nprint(b2)', 'b1 = 100\\ndef fun():\\n    print(b1)\\n    print(\"I am in fun\")\\n    b2 = 99\\n    global b2\\n    print(b2)\\nprint(b1)\\nfun()\\nprint(b2)', '\\ndef fun():\\n    global b1\\n    b1 = 100\\n    print(b1)\\n    print(\"I am in fun\")\\n    # a2 的作用范围是fun\\n    b2 = 99\\n    print(b2)\\nprint(b1)\\nfun()', \"# globals 和 locals\\na = 1\\nb = 2\\n\\ndef fun(c,d):\\n    e = 111\\n    print('Locals={0}'.format(locals()))\\n    print('Globals={0}'.format(globals()))\\nfun(100, 200)\"], 'Out': {}, 'get_ipython': <bound method InteractiveShell.get_ipython of <ipykernel.zmqshell.ZMQInteractiveShell object at 0x10fd62e48>>, 'exit': <IPython.core.autocall.ZMQExitAutocall object at 0x10fdbafd0>, 'quit': <IPython.core.autocall.ZMQExitAutocall object at 0x10fdbafd0>, '_': '', '__': '', '___': '', '_i': '\\ndef fun():\\n    global b1\\n    b1 = 100\\n    print(b1)\\n    print(\"I am in fun\")\\n    # a2 的作用范围是fun\\n    b2 = 99\\n    print(b2)\\nprint(b1)\\nfun()', '_ii': 'b1 = 100\\ndef fun():\\n    print(b1)\\n    print(\"I am in fun\")\\n    b2 = 99\\n    global b2\\n    print(b2)\\nprint(b1)\\nfun()\\nprint(b2)', '_iii': 'a1 = 100\\ndef fun():\\n    print(b1)\\n    print(\"I am in fun\")\\n    b2 = 99\\n    global b2\\n    print(b2)\\nprint(b1)\\nfun()\\nprint(b2)', '_i1': '# 例子\\na1 = 100\\ndef fun():\\n    print(a)\\n    print(\"I am in fun\")\\n    a2 = 99\\n    \\n    print(a2)\\nprint(a1)', 'a1': 100, 'fun': <function fun at 0x10ff5c6a8>, '_i2': '# 例子\\na1 = 100\\ndef fun():\\n    print(a)\\n    print(\"I am in fun\")\\n    a2 = 99\\n    \\n    print(a2)\\nprint(a1)\\nprint(a2)', '_i3': '# 例子\\na1 = 100\\ndef fun():\\n    print(a)\\n    print(\"I am in fun\")\\n    a2 = 99\\n    \\n    print(a2)\\nprint(a1)\\nfun()\\nprint(a2)', '_i4': '# 例子\\na1 = 100\\ndef fun():\\n    print(a)\\n    print(\"I am in fun\")\\n    a2 = 99\\n    \\n    print(a2)\\nprint(a1)\\nfun()', '_i5': '# 例子\\na1 = 100\\ndef fun():\\n    print(a1)\\n    print(\"I am in fun\")\\n    a2 = 99\\n    \\n    print(a2)\\nprint(a1)\\nfun()', '_i6': '# 例子\\na1 = 100\\ndef fun():\\n    print(a1)\\n    print(\"I am in fun\")\\n    a2 = 99\\n    \\n    print(a2)\\nprint(a1)\\nfun()\\nprint(a2)', '_i7': 'a1 = 100\\ndef fun():\\n    print(a1)\\n    print(\"I am in fun\")\\n    a2 = 99\\n    \\n    print(a2)\\nprint(a1)\\nfun()\\nprint(global(a2))', '_i8': 'a1 = 100\\ndef fun():\\n    print(b1)\\n    print(\"I am in fun\")\\n    b2 = 99\\n    \\n    print(b2)\\nprint(b1)\\nfun()\\nprint(global(b2))', '_i9': 'a1 = 100\\ndef fun():\\n    print(b1)\\n    print(\"I am in fun\")\\n    b2 = 99\\n    \\n    print(b2)\\nprint(b1)\\nfun()\\nprint(global.b2)', '_i10': 'a1 = 100\\ndef fun():\\n    print(b1)\\n    print(\"I am in fun\")\\n    b2 = 99\\n    global b2\\n    print(b2)\\nprint(b1)\\nfun()\\nprint(b2)', '_i11': 'b1 = 100\\ndef fun():\\n    print(b1)\\n    print(\"I am in fun\")\\n    b2 = 99\\n    global b2\\n    print(b2)\\nprint(b1)\\nfun()\\nprint(b2)', 'b1': 100, '_i12': '\\ndef fun():\\n    global b1\\n    b1 = 100\\n    print(b1)\\n    print(\"I am in fun\")\\n    # a2 的作用范围是fun\\n    b2 = 99\\n    print(b2)\\nprint(b1)\\nfun()', '_i13': \"# globals 和 locals\\na = 1\\nb = 2\\n\\ndef fun(c,d):\\n    e = 111\\n    print('Locals={0}'.format(locals()))\\n    print('Globals={0}'.format(globals()))\\nfun(100, 200)\", 'a': 1, 'b': 2}\n"
     ]
    }
   ],
   "source": [
    "# globals 和 locals\n",
    "a = 1\n",
    "b = 2\n",
    "\n",
    "def fun(c,d):\n",
    "    e = 111\n",
    "    print('Locals={0}'.format(locals()))\n",
    "    print('Globals={0}'.format(globals()))\n",
    "fun(100, 200)"
   ]
  },
  {
   "cell_type": "markdown",
   "metadata": {},
   "source": [
    "# eval()函数\n",
    "- 把一个字符串当成一个表达式来执行，返回表达式执行后的结果\n",
    "- 语法：\n",
    "\n",
    "                    eval(string_code, globals=None, locals=None)\n",
    "# exec()函数\n",
    "- 跟eval功能类事，但是，不返回结果\n",
    "- 语法：\n",
    "\n",
    "                         exec（string_code, globals=None, locals=None)\n",
    "                \n",
    "                 \n",
    "                    "
   ]
  },
  {
   "cell_type": "code",
   "execution_count": 16,
   "metadata": {},
   "outputs": [
    {
     "name": "stdout",
     "output_type": "stream",
     "text": [
      "x+y 300\n",
      "300\n",
      "300\n",
      "None\n",
      "None\n"
     ]
    }
   ],
   "source": [
    "x = 100\n",
    "y = 200\n",
    "# 执行x+y\n",
    "# z = x + y\n",
    "z1 = x + y\n",
    "z2 = eval(\"x+y\")\n",
    "z3 = exec(\"x+y\")\n",
    "z4 = exec('print(\"x+y\", x+y)')\n",
    "print(z1)\n",
    "print(z2)\n",
    "print(z3)\n",
    "print(z4)"
   ]
  },
  {
   "cell_type": "markdown",
   "metadata": {},
   "source": [
    "# 递归函数\n",
    "- 函数直接或者间接调用自身\n",
    "- 优点：间接，理解容易\n",
    "- 缺点：对递归深度有限制，消耗资源大，python有递归层数限制，超过限制报错\n",
    "- 在写递归程序的时候，一定要注意结束层数"
   ]
  },
  {
   "cell_type": "code",
   "execution_count": 19,
   "metadata": {},
   "outputs": [
    {
     "name": "stdout",
     "output_type": "stream",
     "text": [
      "1\n",
      "2\n",
      "3\n",
      "4\n",
      "5\n",
      "6\n",
      "7\n",
      "8\n",
      "9\n",
      "10\n",
      "11\n",
      "12\n",
      "13\n",
      "14\n",
      "15\n",
      "16\n",
      "17\n",
      "18\n",
      "19\n",
      "20\n",
      "21\n",
      "22\n",
      "23\n",
      "24\n",
      "25\n",
      "26\n",
      "27\n",
      "28\n",
      "29\n",
      "30\n",
      "31\n",
      "32\n",
      "33\n",
      "34\n",
      "35\n",
      "36\n",
      "37\n",
      "38\n",
      "39\n",
      "40\n",
      "41\n",
      "42\n",
      "43\n",
      "44\n",
      "45\n",
      "46\n",
      "47\n",
      "48\n",
      "49\n",
      "50\n",
      "51\n",
      "52\n",
      "53\n",
      "54\n",
      "55\n",
      "56\n",
      "57\n",
      "58\n",
      "59\n",
      "60\n",
      "61\n",
      "62\n",
      "63\n",
      "64\n",
      "65\n",
      "66\n",
      "67\n",
      "68\n",
      "69\n",
      "70\n",
      "71\n",
      "72\n",
      "73\n",
      "74\n",
      "75\n",
      "76\n",
      "77\n",
      "78\n",
      "79\n",
      "80\n",
      "81\n",
      "82\n",
      "83\n",
      "84\n",
      "85\n",
      "86\n",
      "87\n",
      "88\n",
      "89\n",
      "90\n",
      "91\n",
      "92\n",
      "93\n",
      "94\n",
      "95\n",
      "96\n",
      "97\n",
      "98\n",
      "99\n",
      "100\n",
      "101\n",
      "102\n",
      "103\n",
      "104\n",
      "105\n",
      "106\n",
      "107\n",
      "108\n",
      "109\n",
      "110\n",
      "111\n",
      "112\n",
      "113\n",
      "114\n",
      "115\n",
      "116\n",
      "117\n",
      "118\n",
      "119\n",
      "120\n",
      "121\n",
      "122\n",
      "123\n",
      "124\n",
      "125\n",
      "126\n",
      "127\n",
      "128\n",
      "129\n",
      "130\n",
      "131\n",
      "132\n",
      "133\n",
      "134\n",
      "135\n",
      "136\n",
      "137\n",
      "138\n",
      "139\n",
      "140\n",
      "141\n",
      "142\n",
      "143\n",
      "144\n",
      "145\n",
      "146\n",
      "147\n",
      "148\n",
      "149\n",
      "150\n",
      "151\n",
      "152\n",
      "153\n",
      "154\n",
      "155\n",
      "156\n",
      "157\n",
      "158\n",
      "159\n",
      "160\n",
      "161\n",
      "162\n",
      "163\n",
      "164\n",
      "165\n",
      "166\n",
      "167\n",
      "168\n",
      "169\n",
      "170\n",
      "171\n",
      "172\n",
      "173\n",
      "174\n",
      "175\n",
      "176\n",
      "177\n",
      "178\n",
      "179\n",
      "180\n",
      "181\n",
      "182\n",
      "183\n",
      "184\n",
      "185\n",
      "186\n",
      "187\n",
      "188\n",
      "189\n",
      "190\n",
      "191\n",
      "192\n",
      "193\n",
      "194\n",
      "195\n",
      "196\n",
      "197\n",
      "198\n",
      "199\n",
      "200\n",
      "201\n",
      "202\n",
      "203\n",
      "204\n",
      "205\n",
      "206\n",
      "207\n",
      "208\n",
      "209\n",
      "210\n",
      "211\n",
      "212\n",
      "213\n",
      "214\n",
      "215\n",
      "216\n",
      "217\n",
      "218\n",
      "219\n",
      "220\n",
      "221\n",
      "222\n",
      "223\n",
      "224\n",
      "225\n",
      "226\n",
      "227\n",
      "228\n",
      "229\n",
      "230\n",
      "231\n",
      "232\n",
      "233\n",
      "234\n",
      "235\n",
      "236\n",
      "237\n",
      "238\n",
      "239\n",
      "240\n",
      "241\n",
      "242\n",
      "243\n",
      "244\n",
      "245\n",
      "246\n",
      "247\n",
      "248\n",
      "249\n",
      "250\n",
      "251\n",
      "252\n",
      "253\n",
      "254\n",
      "255\n",
      "256\n",
      "257\n",
      "258\n",
      "259\n",
      "260\n",
      "261\n",
      "262\n",
      "263\n",
      "264\n",
      "265\n",
      "266\n",
      "267\n",
      "268\n",
      "269\n",
      "270\n",
      "271\n",
      "272\n",
      "273\n",
      "274\n",
      "275\n",
      "276\n",
      "277\n",
      "278\n",
      "279\n",
      "280\n",
      "281\n",
      "282\n",
      "283\n",
      "284\n",
      "285\n",
      "286\n",
      "287\n",
      "288\n",
      "289\n",
      "290\n",
      "291\n",
      "292\n",
      "293\n",
      "294\n",
      "295\n",
      "296\n",
      "297\n",
      "298\n",
      "299\n",
      "300\n",
      "301\n",
      "302\n",
      "303\n",
      "304\n",
      "305\n",
      "306\n",
      "307\n",
      "308\n",
      "309\n",
      "310\n",
      "311\n",
      "312\n",
      "313\n",
      "314\n",
      "315\n",
      "316\n",
      "317\n",
      "318\n",
      "319\n",
      "320\n",
      "321\n",
      "322\n",
      "323\n",
      "324\n",
      "325\n",
      "326\n",
      "327\n",
      "328\n",
      "329\n",
      "330\n",
      "331\n",
      "332\n",
      "333\n",
      "334\n",
      "335\n",
      "336\n",
      "337\n",
      "338\n",
      "339\n",
      "340\n",
      "341\n",
      "342\n",
      "343\n",
      "344\n",
      "345\n",
      "346\n",
      "347\n",
      "348\n",
      "349\n",
      "350\n",
      "351\n",
      "352\n",
      "353\n",
      "354\n",
      "355\n",
      "356\n",
      "357\n",
      "358\n",
      "359\n",
      "360\n",
      "361\n",
      "362\n",
      "363\n",
      "364\n",
      "365\n",
      "366\n",
      "367\n",
      "368\n",
      "369\n",
      "370\n",
      "371\n",
      "372\n",
      "373\n",
      "374\n",
      "375\n",
      "376\n",
      "377\n",
      "378\n",
      "379\n",
      "380\n",
      "381\n",
      "382\n",
      "383\n",
      "384\n",
      "385\n",
      "386\n",
      "387\n",
      "388\n",
      "389\n",
      "390\n",
      "391\n",
      "392\n",
      "393\n",
      "394\n",
      "395\n",
      "396\n",
      "397\n",
      "398\n",
      "399\n",
      "400\n",
      "401\n",
      "402\n",
      "403\n",
      "404\n",
      "405\n",
      "406\n",
      "407\n",
      "408\n",
      "409\n",
      "410\n",
      "411\n",
      "412\n",
      "413\n",
      "414\n",
      "415\n",
      "416\n",
      "417\n",
      "418\n",
      "419\n",
      "420\n",
      "421\n",
      "422\n",
      "423\n",
      "424\n",
      "425\n",
      "426\n",
      "427\n",
      "428\n",
      "429\n",
      "430\n",
      "431\n",
      "432\n",
      "433\n",
      "434\n",
      "435\n",
      "436\n",
      "437\n",
      "438\n",
      "439\n",
      "440\n",
      "441\n",
      "442\n",
      "443\n",
      "444\n",
      "445\n",
      "446\n",
      "447\n",
      "448\n",
      "449\n",
      "450\n",
      "451\n",
      "452\n",
      "453\n",
      "454\n",
      "455\n",
      "456\n",
      "457\n",
      "458\n",
      "459\n",
      "460\n",
      "461\n",
      "462\n",
      "463\n",
      "464\n",
      "465\n",
      "466\n",
      "467\n",
      "468\n",
      "469\n",
      "470\n",
      "471\n",
      "472\n",
      "473\n",
      "474\n",
      "475\n",
      "476\n",
      "477\n",
      "478\n",
      "479\n",
      "480\n",
      "481\n",
      "482\n",
      "483\n",
      "484\n",
      "485\n",
      "486\n",
      "487\n",
      "488\n",
      "489\n",
      "490\n",
      "491\n",
      "492\n",
      "493\n",
      "494\n",
      "495\n",
      "496\n",
      "497\n",
      "498\n",
      "499\n",
      "500\n",
      "501\n",
      "502\n",
      "503\n",
      "504\n",
      "505\n",
      "506\n",
      "507\n",
      "508\n",
      "509\n",
      "510\n",
      "511\n",
      "512\n",
      "513\n",
      "514\n",
      "515\n",
      "516\n",
      "517\n",
      "518\n",
      "519\n",
      "520\n",
      "521\n",
      "522\n",
      "523\n",
      "524\n",
      "525\n",
      "526\n",
      "527\n",
      "528\n",
      "529\n",
      "530\n",
      "531\n",
      "532\n",
      "533\n",
      "534\n",
      "535\n",
      "536\n",
      "537\n",
      "538\n",
      "539\n",
      "540\n",
      "541\n",
      "542\n",
      "543\n",
      "544\n",
      "545\n",
      "546\n",
      "547\n",
      "548\n",
      "549\n",
      "550\n",
      "551\n",
      "552\n",
      "553\n",
      "554\n",
      "555\n",
      "556\n",
      "557\n",
      "558\n",
      "559\n",
      "560\n",
      "561\n",
      "562\n",
      "563\n",
      "564\n",
      "565\n",
      "566\n",
      "567\n",
      "568\n",
      "569\n",
      "570\n",
      "571\n",
      "572\n",
      "573\n",
      "574\n",
      "575\n",
      "576\n",
      "577\n",
      "578\n",
      "579\n",
      "580\n",
      "581\n",
      "582\n",
      "583\n",
      "584\n",
      "585\n",
      "586\n",
      "587\n",
      "588\n",
      "589\n",
      "590\n",
      "591\n",
      "592\n",
      "593\n",
      "594\n",
      "595\n",
      "596\n",
      "597\n",
      "598\n",
      "599\n",
      "600\n",
      "601\n",
      "602\n",
      "603\n",
      "604\n",
      "605\n",
      "606\n",
      "607\n",
      "608\n",
      "609\n",
      "610\n",
      "611\n",
      "612\n",
      "613\n",
      "614\n",
      "615\n",
      "616\n",
      "617\n",
      "618\n",
      "619\n",
      "620\n",
      "621\n",
      "622\n",
      "623\n",
      "624\n",
      "625\n",
      "626\n",
      "627\n",
      "628\n",
      "629\n",
      "630\n",
      "631\n",
      "632\n",
      "633\n",
      "634\n",
      "635\n",
      "636\n",
      "637\n",
      "638\n",
      "639\n",
      "640\n",
      "641\n",
      "642\n",
      "643\n",
      "644\n",
      "645\n",
      "646\n",
      "647\n",
      "648\n",
      "649\n",
      "650\n",
      "651\n",
      "652\n",
      "653\n",
      "654\n",
      "655\n",
      "656\n",
      "657\n",
      "658\n",
      "659\n",
      "660\n",
      "661\n",
      "662\n",
      "663\n",
      "664\n",
      "665\n",
      "666\n",
      "667\n",
      "668\n",
      "669\n",
      "670\n",
      "671\n",
      "672\n",
      "673\n",
      "674\n",
      "675\n",
      "676\n",
      "677\n",
      "678\n",
      "679\n",
      "680\n",
      "681\n",
      "682\n",
      "683\n",
      "684\n",
      "685\n",
      "686\n",
      "687\n",
      "688\n",
      "689\n",
      "690\n",
      "691\n",
      "692\n",
      "693\n",
      "694\n",
      "695\n",
      "696\n",
      "697\n",
      "698\n",
      "699\n",
      "700\n",
      "701\n",
      "702\n",
      "703\n",
      "704\n",
      "705\n",
      "706\n",
      "707\n",
      "708\n",
      "709\n",
      "710\n",
      "711\n",
      "712\n",
      "713\n",
      "714\n",
      "715\n",
      "716\n",
      "717\n",
      "718\n",
      "719\n",
      "720\n",
      "721\n",
      "722\n",
      "723\n",
      "724\n",
      "725\n",
      "726\n",
      "727\n",
      "728\n",
      "729\n",
      "730\n",
      "731\n",
      "732\n",
      "733\n",
      "734\n",
      "735\n",
      "736\n",
      "737\n",
      "738\n",
      "739\n",
      "740\n",
      "741\n",
      "742\n",
      "743\n",
      "744\n",
      "745\n",
      "746\n",
      "747\n",
      "748\n",
      "749\n",
      "750\n",
      "751\n",
      "752\n",
      "753\n",
      "754\n",
      "755\n",
      "756\n",
      "757\n",
      "758\n",
      "759\n",
      "760\n",
      "761\n",
      "762\n",
      "763\n",
      "764\n",
      "765\n",
      "766\n",
      "767\n",
      "768\n",
      "769\n",
      "770\n",
      "771\n",
      "772\n",
      "773\n",
      "774\n",
      "775\n",
      "776\n",
      "777\n",
      "778\n",
      "779\n",
      "780\n",
      "781\n",
      "782\n",
      "783\n",
      "784\n",
      "785\n",
      "786\n",
      "787\n",
      "788\n",
      "789\n",
      "790\n",
      "791\n",
      "792\n",
      "793\n",
      "794\n",
      "795\n",
      "796\n",
      "797\n",
      "798\n",
      "799\n",
      "800\n",
      "801\n",
      "802\n",
      "803\n",
      "804\n",
      "805\n",
      "806\n",
      "807\n",
      "808\n",
      "809\n",
      "810\n",
      "811\n",
      "812\n",
      "813\n",
      "814\n",
      "815\n",
      "816\n",
      "817\n",
      "818\n",
      "819\n",
      "820\n",
      "821\n",
      "822\n",
      "823\n",
      "824\n",
      "825\n",
      "826\n",
      "827\n",
      "828\n",
      "829\n",
      "830\n",
      "831\n",
      "832\n",
      "833\n",
      "834\n",
      "835\n",
      "836\n",
      "837\n",
      "838\n",
      "839\n",
      "840\n",
      "841\n",
      "842\n",
      "843\n",
      "844\n",
      "845\n",
      "846\n",
      "847\n",
      "848\n",
      "849\n",
      "850\n",
      "851\n",
      "852\n",
      "853\n",
      "854\n",
      "855\n",
      "856\n",
      "857\n",
      "858\n",
      "859\n",
      "860\n",
      "861\n",
      "862\n",
      "863\n",
      "864\n",
      "865\n",
      "866\n",
      "867\n",
      "868\n",
      "869\n",
      "870\n",
      "871\n",
      "872\n",
      "873\n",
      "874\n",
      "875\n",
      "876\n",
      "877\n",
      "878\n",
      "879\n",
      "880\n",
      "881\n",
      "882\n",
      "883\n",
      "884\n",
      "885\n",
      "886\n",
      "887\n",
      "888\n",
      "889\n",
      "890\n",
      "891\n",
      "892\n",
      "893\n",
      "894\n",
      "895\n",
      "896\n",
      "897\n",
      "898\n",
      "899\n",
      "900\n",
      "901\n",
      "902\n",
      "903\n",
      "904\n",
      "905\n",
      "906\n",
      "907\n",
      "908\n",
      "909\n",
      "910\n",
      "911\n",
      "912\n",
      "913\n",
      "914\n",
      "915\n",
      "916\n",
      "917\n",
      "918\n",
      "919\n",
      "920\n",
      "921\n",
      "922\n",
      "923\n",
      "924\n",
      "925\n",
      "926\n",
      "927\n",
      "928\n",
      "929\n",
      "930\n",
      "931\n",
      "932\n",
      "933\n",
      "934\n",
      "935\n",
      "936\n",
      "937\n",
      "938\n",
      "939\n",
      "940\n",
      "941\n",
      "942\n",
      "943\n",
      "944\n",
      "945\n",
      "946\n",
      "947\n",
      "948\n",
      "949\n",
      "950\n",
      "951\n",
      "952\n",
      "953\n",
      "954\n",
      "955\n",
      "956\n",
      "957\n",
      "958\n",
      "959\n",
      "960\n",
      "961\n",
      "962\n",
      "963\n",
      "964\n",
      "965\n",
      "966\n",
      "967\n",
      "968\n",
      "969\n",
      "970\n",
      "971\n",
      "972\n",
      "973\n",
      "974\n",
      "975\n",
      "976\n",
      "977\n",
      "978\n",
      "979\n",
      "980\n",
      "981\n",
      "982\n",
      "983\n",
      "984\n",
      "985\n",
      "986\n",
      "987\n",
      "988\n",
      "989\n",
      "990\n",
      "991\n",
      "992\n",
      "993\n",
      "994\n",
      "995\n",
      "996\n",
      "997\n",
      "998\n",
      "999\n",
      "1000\n",
      "1001\n",
      "1002\n",
      "1003\n",
      "1004\n",
      "1005\n",
      "1006\n",
      "1007\n",
      "1008\n",
      "1009\n",
      "1010\n",
      "1011\n",
      "1012\n",
      "1013\n",
      "1014\n",
      "1015\n",
      "1016\n",
      "1017\n",
      "1018\n",
      "1019\n",
      "1020\n",
      "1021\n",
      "1022\n",
      "1023\n",
      "1024\n",
      "1025\n",
      "1026\n",
      "1027\n",
      "1028\n",
      "1029\n",
      "1030\n",
      "1031\n",
      "1032\n",
      "1033\n",
      "1034\n",
      "1035\n",
      "1036\n",
      "1037\n",
      "1038\n",
      "1039\n",
      "1040\n",
      "1041\n",
      "1042\n",
      "1043\n",
      "1044\n",
      "1045\n",
      "1046\n",
      "1047\n",
      "1048\n",
      "1049\n",
      "1050\n",
      "1051\n",
      "1052\n",
      "1053\n",
      "1054\n",
      "1055\n",
      "1056\n",
      "1057\n",
      "1058\n",
      "1059\n",
      "1060\n",
      "1061\n",
      "1062\n",
      "1063\n",
      "1064\n",
      "1065\n",
      "1066\n",
      "1067\n",
      "1068\n",
      "1069\n",
      "1070\n",
      "1071\n",
      "1072\n",
      "1073\n",
      "1074\n",
      "1075\n",
      "1076\n",
      "1077\n",
      "1078\n",
      "1079\n",
      "1080\n",
      "1081\n",
      "1082\n",
      "1083\n",
      "1084\n",
      "1085\n",
      "1086\n",
      "1087\n",
      "1088\n",
      "1089\n",
      "1090\n",
      "1091\n",
      "1092\n",
      "1093\n",
      "1094\n",
      "1095\n",
      "1096\n",
      "1097\n",
      "1098\n",
      "1099\n",
      "1100\n",
      "1101\n",
      "1102\n",
      "1103\n",
      "1104\n",
      "1105\n",
      "1106\n",
      "1107\n",
      "1108\n",
      "1109\n",
      "1110\n",
      "1111\n",
      "1112\n",
      "1113\n",
      "1114\n",
      "1115\n",
      "1116\n",
      "1117\n",
      "1118\n",
      "1119\n",
      "1120\n",
      "1121\n",
      "1122\n",
      "1123\n",
      "1124\n",
      "1125\n",
      "1126\n",
      "1127\n",
      "1128\n",
      "1129\n",
      "1130\n",
      "1131\n",
      "1132\n",
      "1133\n",
      "1134\n",
      "1135\n",
      "1136\n",
      "1137\n",
      "1138\n",
      "1139\n",
      "1140\n",
      "1141\n",
      "1142\n",
      "1143\n",
      "1144\n",
      "1145\n",
      "1146\n",
      "1147\n",
      "1148\n",
      "1149\n",
      "1150\n",
      "1151\n",
      "1152\n",
      "1153\n",
      "1154\n",
      "1155\n",
      "1156\n",
      "1157\n",
      "1158\n",
      "1159\n",
      "1160\n",
      "1161\n",
      "1162\n",
      "1163\n",
      "1164\n",
      "1165\n",
      "1166\n",
      "1167\n",
      "1168\n",
      "1169\n",
      "1170\n",
      "1171\n",
      "1172\n",
      "1173\n",
      "1174\n",
      "1175\n",
      "1176\n",
      "1177\n",
      "1178\n",
      "1179\n",
      "1180\n",
      "1181\n",
      "1182\n",
      "1183\n",
      "1184\n",
      "1185\n",
      "1186\n",
      "1187\n",
      "1188\n",
      "1189\n",
      "1190\n",
      "1191\n",
      "1192\n",
      "1193\n",
      "1194\n",
      "1195\n",
      "1196\n",
      "1197\n",
      "1198\n",
      "1199\n",
      "1200\n",
      "1201\n",
      "1202\n",
      "1203\n",
      "1204\n",
      "1205\n",
      "1206\n",
      "1207\n",
      "1208\n",
      "1209\n",
      "1210\n",
      "1211\n",
      "1212\n",
      "1213\n",
      "1214\n",
      "1215\n",
      "1216\n",
      "1217\n",
      "1218\n",
      "1219\n",
      "1220\n",
      "1221\n",
      "1222\n",
      "1223\n",
      "1224\n",
      "1225\n",
      "1226\n",
      "1227\n",
      "1228\n",
      "1229\n",
      "1230\n",
      "1231\n",
      "1232\n",
      "1233\n",
      "1234\n",
      "1235\n",
      "1236\n",
      "1237\n",
      "1238\n",
      "1239\n",
      "1240\n",
      "1241\n",
      "1242\n",
      "1243\n",
      "1244\n",
      "1245\n",
      "1246\n",
      "1247\n",
      "1248\n",
      "1249\n",
      "1250\n",
      "1251\n",
      "1252\n",
      "1253\n",
      "1254\n",
      "1255\n",
      "1256\n",
      "1257\n",
      "1258\n",
      "1259\n",
      "1260\n",
      "1261\n",
      "1262\n",
      "1263\n",
      "1264\n",
      "1265\n",
      "1266\n",
      "1267\n",
      "1268\n",
      "1269\n",
      "1270\n",
      "1271\n",
      "1272\n",
      "1273\n",
      "1274\n",
      "1275\n",
      "1276\n",
      "1277\n",
      "1278\n",
      "1279\n",
      "1280\n",
      "1281\n",
      "1282\n",
      "1283\n",
      "1284\n",
      "1285\n",
      "1286\n",
      "1287\n",
      "1288\n",
      "1289\n",
      "1290\n",
      "1291\n",
      "1292\n",
      "1293\n",
      "1294\n",
      "1295\n",
      "1296\n",
      "1297\n",
      "1298\n",
      "1299\n",
      "1300\n",
      "1301\n",
      "1302\n",
      "1303\n",
      "1304\n",
      "1305\n",
      "1306\n",
      "1307\n",
      "1308\n",
      "1309\n",
      "1310\n",
      "1311\n",
      "1312\n",
      "1313\n",
      "1314\n",
      "1315\n",
      "1316\n",
      "1317\n",
      "1318\n",
      "1319\n",
      "1320\n",
      "1321\n",
      "1322\n",
      "1323\n",
      "1324\n",
      "1325\n",
      "1326\n",
      "1327\n",
      "1328\n",
      "1329\n",
      "1330\n",
      "1331\n",
      "1332\n",
      "1333\n",
      "1334\n",
      "1335\n",
      "1336\n",
      "1337\n",
      "1338\n",
      "1339\n",
      "1340\n",
      "1341\n",
      "1342\n",
      "1343\n",
      "1344\n",
      "1345\n",
      "1346\n",
      "1347\n",
      "1348\n",
      "1349\n",
      "1350\n",
      "1351\n",
      "1352\n",
      "1353\n",
      "1354\n",
      "1355\n",
      "1356\n",
      "1357\n",
      "1358\n",
      "1359\n",
      "1360\n",
      "1361\n",
      "1362\n",
      "1363\n",
      "1364\n",
      "1365\n",
      "1366\n",
      "1367\n",
      "1368\n",
      "1369\n",
      "1370\n",
      "1371\n",
      "1372\n",
      "1373\n",
      "1374\n",
      "1375\n",
      "1376\n",
      "1377\n",
      "1378\n",
      "1379\n",
      "1380\n",
      "1381\n",
      "1382\n",
      "1383\n",
      "1384\n",
      "1385\n",
      "1386\n",
      "1387\n",
      "1388\n",
      "1389\n",
      "1390\n",
      "1391\n",
      "1392\n",
      "1393\n",
      "1394\n",
      "1395\n",
      "1396\n",
      "1397\n",
      "1398\n",
      "1399\n",
      "1400\n",
      "1401\n",
      "1402\n",
      "1403\n",
      "1404\n",
      "1405\n",
      "1406\n",
      "1407\n",
      "1408\n",
      "1409\n",
      "1410\n",
      "1411\n",
      "1412\n",
      "1413\n",
      "1414\n",
      "1415\n",
      "1416\n",
      "1417\n",
      "1418\n",
      "1419\n",
      "1420\n",
      "1421\n",
      "1422\n",
      "1423\n",
      "1424\n",
      "1425\n",
      "1426\n",
      "1427\n",
      "1428\n",
      "1429\n",
      "1430\n",
      "1431\n",
      "1432\n",
      "1433\n",
      "1434\n",
      "1435\n",
      "1436\n",
      "1437\n",
      "1438\n",
      "1439\n",
      "1440\n",
      "1441\n",
      "1442\n",
      "1443\n",
      "1444\n",
      "1445\n",
      "1446\n",
      "1447\n",
      "1448\n",
      "1449\n",
      "1450\n",
      "1451\n",
      "1452\n",
      "1453\n",
      "1454\n",
      "1455\n",
      "1456\n",
      "1457\n",
      "1458\n",
      "1459\n",
      "1460\n",
      "1461\n",
      "1462\n",
      "1463\n",
      "1464\n",
      "1465\n",
      "1466\n",
      "1467\n",
      "1468\n",
      "1469\n",
      "1470\n",
      "1471\n",
      "1472\n",
      "1473\n",
      "1474\n",
      "1475\n",
      "1476\n",
      "1477\n",
      "1478\n",
      "1479\n",
      "1480\n",
      "1481\n",
      "1482\n",
      "1483\n",
      "1484\n",
      "1485\n",
      "1486\n",
      "1487\n",
      "1488\n",
      "1489\n",
      "1490\n",
      "1491\n",
      "1492\n",
      "1493\n",
      "1494\n",
      "1495\n",
      "1496\n",
      "1497\n",
      "1498\n",
      "1499\n",
      "1500\n",
      "1501\n",
      "1502\n",
      "1503\n",
      "1504\n",
      "1505\n",
      "1506\n",
      "1507\n",
      "1508\n",
      "1509\n",
      "1510\n",
      "1511\n",
      "1512\n",
      "1513\n",
      "1514\n",
      "1515\n",
      "1516\n",
      "1517\n",
      "1518\n",
      "1519\n",
      "1520\n",
      "1521\n",
      "1522\n",
      "1523\n",
      "1524\n",
      "1525\n",
      "1526\n",
      "1527\n",
      "1528\n",
      "1529\n",
      "1530\n",
      "1531\n",
      "1532\n",
      "1533\n",
      "1534\n",
      "1535\n",
      "1536\n",
      "1537\n",
      "1538\n",
      "1539\n",
      "1540\n",
      "1541\n",
      "1542\n",
      "1543\n",
      "1544\n",
      "1545\n",
      "1546\n",
      "1547\n",
      "1548\n",
      "1549\n",
      "1550\n",
      "1551\n",
      "1552\n",
      "1553\n",
      "1554\n",
      "1555\n",
      "1556\n",
      "1557\n",
      "1558\n",
      "1559\n",
      "1560\n",
      "1561\n",
      "1562\n",
      "1563\n",
      "1564\n",
      "1565\n",
      "1566\n",
      "1567\n",
      "1568\n",
      "1569\n",
      "1570\n",
      "1571\n",
      "1572\n",
      "1573\n",
      "1574\n",
      "1575\n",
      "1576\n",
      "1577\n",
      "1578\n",
      "1579\n",
      "1580\n",
      "1581\n",
      "1582\n",
      "1583\n",
      "1584\n",
      "1585\n",
      "1586\n",
      "1587\n",
      "1588\n",
      "1589\n",
      "1590\n",
      "1591\n",
      "1592\n",
      "1593\n",
      "1594\n",
      "1595\n",
      "1596\n",
      "1597\n",
      "1598\n",
      "1599\n",
      "1600\n",
      "1601\n",
      "1602\n",
      "1603\n",
      "1604\n",
      "1605\n",
      "1606\n",
      "1607\n",
      "1608\n",
      "1609\n",
      "1610\n",
      "1611\n",
      "1612\n",
      "1613\n",
      "1614\n",
      "1615\n",
      "1616\n",
      "1617\n",
      "1618\n",
      "1619\n",
      "1620\n",
      "1621\n",
      "1622\n",
      "1623\n",
      "1624\n",
      "1625\n",
      "1626\n",
      "1627\n",
      "1628\n",
      "1629\n",
      "1630\n",
      "1631\n",
      "1632\n",
      "1633\n",
      "1634\n",
      "1635\n",
      "1636\n",
      "1637\n",
      "1638\n",
      "1639\n",
      "1640\n",
      "1641\n",
      "1642\n",
      "1643\n",
      "1644\n",
      "1645\n",
      "1646\n",
      "1647\n",
      "1648\n",
      "1649\n",
      "1650\n",
      "1651\n",
      "1652\n",
      "1653\n",
      "1654\n",
      "1655\n",
      "1656\n",
      "1657\n",
      "1658\n",
      "1659\n",
      "1660\n",
      "1661\n",
      "1662\n",
      "1663\n",
      "1664\n",
      "1665\n",
      "1666\n",
      "1667\n",
      "1668\n",
      "1669\n",
      "1670\n",
      "1671\n",
      "1672\n",
      "1673\n",
      "1674\n",
      "1675\n",
      "1676\n",
      "1677\n",
      "1678\n",
      "1679\n",
      "1680\n",
      "1681\n",
      "1682\n",
      "1683\n",
      "1684\n",
      "1685\n",
      "1686\n",
      "1687\n",
      "1688\n",
      "1689\n",
      "1690\n",
      "1691\n",
      "1692\n",
      "1693\n",
      "1694\n",
      "1695\n",
      "1696\n",
      "1697\n",
      "1698\n",
      "1699\n",
      "1700\n",
      "1701\n",
      "1702\n",
      "1703\n",
      "1704\n",
      "1705\n",
      "1706\n",
      "1707\n",
      "1708\n",
      "1709\n",
      "1710\n",
      "1711\n",
      "1712\n",
      "1713\n",
      "1714\n",
      "1715\n",
      "1716\n",
      "1717\n",
      "1718\n",
      "1719\n",
      "1720\n",
      "1721\n",
      "1722\n",
      "1723\n",
      "1724\n",
      "1725\n",
      "1726\n",
      "1727\n",
      "1728\n",
      "1729\n",
      "1730\n",
      "1731\n",
      "1732\n",
      "1733\n",
      "1734\n",
      "1735\n",
      "1736\n",
      "1737\n",
      "1738\n",
      "1739\n",
      "1740\n",
      "1741\n",
      "1742\n",
      "1743\n",
      "1744\n",
      "1745\n",
      "1746\n",
      "1747\n",
      "1748\n",
      "1749\n",
      "1750\n",
      "1751\n",
      "1752\n",
      "1753\n",
      "1754\n",
      "1755\n",
      "1756\n",
      "1757\n",
      "1758\n",
      "1759\n",
      "1760\n",
      "1761\n",
      "1762\n",
      "1763\n",
      "1764\n",
      "1765\n",
      "1766\n",
      "1767\n",
      "1768\n",
      "1769\n",
      "1770\n",
      "1771\n",
      "1772\n",
      "1773\n",
      "1774\n",
      "1775\n",
      "1776\n",
      "1777\n",
      "1778\n",
      "1779\n",
      "1780\n",
      "1781\n",
      "1782\n",
      "1783\n",
      "1784\n",
      "1785\n",
      "1786\n",
      "1787\n",
      "1788\n",
      "1789\n",
      "1790\n",
      "1791\n",
      "1792\n",
      "1793\n",
      "1794\n",
      "1795\n",
      "1796\n",
      "1797\n",
      "1798\n",
      "1799\n",
      "1800\n",
      "1801\n",
      "1802\n",
      "1803\n",
      "1804\n",
      "1805\n",
      "1806\n",
      "1807\n",
      "1808\n",
      "1809\n",
      "1810\n",
      "1811\n",
      "1812\n",
      "1813\n",
      "1814\n",
      "1815\n",
      "1816\n",
      "1817\n",
      "1818\n",
      "1819\n",
      "1820\n",
      "1821\n",
      "1822\n",
      "1823\n",
      "1824\n",
      "1825\n",
      "1826\n",
      "1827\n",
      "1828\n",
      "1829\n",
      "1830\n",
      "1831\n",
      "1832\n",
      "1833\n",
      "1834\n",
      "1835\n",
      "1836\n",
      "1837\n",
      "1838\n",
      "1839\n",
      "1840\n",
      "1841\n",
      "1842\n",
      "1843\n",
      "1844\n",
      "1845\n",
      "1846\n",
      "1847\n",
      "1848\n",
      "1849\n",
      "1850\n",
      "1851\n",
      "1852\n",
      "1853\n",
      "1854\n",
      "1855\n",
      "1856\n",
      "1857\n",
      "1858\n",
      "1859\n",
      "1860\n",
      "1861\n",
      "1862\n",
      "1863\n",
      "1864\n",
      "1865\n",
      "1866\n",
      "1867\n",
      "1868\n",
      "1869\n",
      "1870\n",
      "1871\n",
      "1872\n",
      "1873\n",
      "1874\n",
      "1875\n",
      "1876\n",
      "1877\n",
      "1878\n",
      "1879\n",
      "1880\n",
      "1881\n",
      "1882\n",
      "1883\n",
      "1884\n",
      "1885\n",
      "1886\n",
      "1887\n",
      "1888\n",
      "1889\n",
      "1890\n",
      "1891\n",
      "1892\n",
      "1893\n",
      "1894\n",
      "1895\n",
      "1896\n",
      "1897\n",
      "1898\n",
      "1899\n",
      "1900\n",
      "1901\n",
      "1902\n",
      "1903\n",
      "1904\n",
      "1905\n",
      "1906\n",
      "1907\n",
      "1908\n",
      "1909\n",
      "1910\n",
      "1911\n",
      "1912\n",
      "1913\n",
      "1914\n",
      "1915\n",
      "1916\n",
      "1917\n",
      "1918\n",
      "1919\n",
      "1920\n",
      "1921\n",
      "1922\n",
      "1923\n",
      "1924\n",
      "1925\n",
      "1926\n",
      "1927\n",
      "1928\n",
      "1929\n",
      "1930\n",
      "1931\n",
      "1932\n",
      "1933\n",
      "1934\n",
      "1935\n",
      "1936\n",
      "1937\n",
      "1938\n",
      "1939\n",
      "1940\n",
      "1941\n",
      "1942\n",
      "1943\n",
      "1944\n",
      "1945\n",
      "1946\n",
      "1947\n",
      "1948\n",
      "1949\n",
      "1950\n",
      "1951\n",
      "1952\n",
      "1953\n",
      "1954\n",
      "1955\n",
      "1956\n",
      "1957\n",
      "1958\n",
      "1959\n",
      "1960\n",
      "1961\n",
      "1962\n",
      "1963\n",
      "1964\n",
      "1965\n",
      "1966\n",
      "1967\n",
      "1968\n",
      "1969\n",
      "1970\n",
      "1971\n",
      "1972\n",
      "1973\n",
      "1974\n",
      "1975\n",
      "1976\n",
      "1977\n",
      "1978\n",
      "1979\n",
      "1980\n",
      "1981\n",
      "1982\n",
      "1983\n",
      "1984\n",
      "1985\n",
      "1986\n",
      "1987\n",
      "1988\n",
      "1989\n",
      "1990\n",
      "1991\n",
      "1992\n",
      "1993\n",
      "1994\n",
      "1995\n",
      "1996\n",
      "1997\n",
      "1998\n",
      "1999\n",
      "2000\n",
      "2001\n",
      "2002\n",
      "2003\n",
      "2004\n",
      "2005\n",
      "2006\n",
      "2007\n",
      "2008\n",
      "2009\n",
      "2010\n",
      "2011\n",
      "2012\n",
      "2013\n",
      "2014\n",
      "2015\n",
      "2016\n",
      "2017\n",
      "2018\n",
      "2019\n",
      "2020\n",
      "2021\n",
      "2022\n",
      "2023\n",
      "2024\n",
      "2025\n",
      "2026\n",
      "2027\n",
      "2028\n",
      "2029\n",
      "2030\n",
      "2031\n",
      "2032\n",
      "2033\n",
      "2034\n",
      "2035\n",
      "2036\n",
      "2037\n",
      "2038\n",
      "2039\n",
      "2040\n",
      "2041\n",
      "2042\n",
      "2043\n",
      "2044\n",
      "2045\n",
      "2046\n",
      "2047\n",
      "2048\n",
      "2049\n",
      "2050\n",
      "2051\n",
      "2052\n",
      "2053\n",
      "2054\n",
      "2055\n",
      "2056\n",
      "2057\n",
      "2058\n",
      "2059\n",
      "2060\n",
      "2061\n",
      "2062\n",
      "2063\n",
      "2064\n",
      "2065\n",
      "2066\n",
      "2067\n",
      "2068\n",
      "2069\n",
      "2070\n",
      "2071\n",
      "2072\n",
      "2073\n",
      "2074\n",
      "2075\n",
      "2076\n",
      "2077\n",
      "2078\n",
      "2079\n",
      "2080\n",
      "2081\n",
      "2082\n",
      "2083\n",
      "2084\n",
      "2085\n",
      "2086\n",
      "2087\n",
      "2088\n",
      "2089\n",
      "2090\n",
      "2091\n",
      "2092\n",
      "2093\n",
      "2094\n",
      "2095\n",
      "2096\n",
      "2097\n",
      "2098\n",
      "2099\n",
      "2100\n",
      "2101\n",
      "2102\n",
      "2103\n",
      "2104\n",
      "2105\n",
      "2106\n",
      "2107\n",
      "2108\n",
      "2109\n",
      "2110\n",
      "2111\n",
      "2112\n",
      "2113\n",
      "2114\n",
      "2115\n",
      "2116\n",
      "2117\n",
      "2118\n",
      "2119\n",
      "2120\n",
      "2121\n",
      "2122\n",
      "2123\n",
      "2124\n",
      "2125\n",
      "2126\n",
      "2127\n",
      "2128\n",
      "2129\n",
      "2130\n",
      "2131\n",
      "2132\n",
      "2133\n",
      "2134\n",
      "2135\n",
      "2136\n",
      "2137\n",
      "2138\n",
      "2139\n",
      "2140\n",
      "2141\n",
      "2142\n",
      "2143\n",
      "2144\n",
      "2145\n",
      "2146\n",
      "2147\n",
      "2148\n",
      "2149\n",
      "2150\n",
      "2151\n",
      "2152\n",
      "2153\n",
      "2154\n",
      "2155\n",
      "2156\n",
      "2157\n",
      "2158\n",
      "2159\n",
      "2160\n",
      "2161\n",
      "2162\n",
      "2163\n",
      "2164\n",
      "2165\n",
      "2166\n",
      "2167\n",
      "2168\n",
      "2169\n",
      "2170\n",
      "2171\n",
      "2172\n",
      "2173\n",
      "2174\n",
      "2175\n",
      "2176\n",
      "2177\n",
      "2178\n",
      "2179\n",
      "2180\n",
      "2181\n",
      "2182\n",
      "2183\n",
      "2184\n",
      "2185\n",
      "2186\n",
      "2187\n",
      "2188\n",
      "2189\n",
      "2190\n",
      "2191\n",
      "2192\n",
      "2193\n",
      "2194\n",
      "2195\n",
      "2196\n",
      "2197\n",
      "2198\n",
      "2199\n",
      "2200\n",
      "2201\n",
      "2202\n",
      "2203\n",
      "2204\n",
      "2205\n",
      "2206\n",
      "2207\n",
      "2208\n",
      "2209\n",
      "2210\n",
      "2211\n",
      "2212\n",
      "2213\n",
      "2214\n",
      "2215\n",
      "2216\n",
      "2217\n",
      "2218\n",
      "2219\n",
      "2220\n",
      "2221\n",
      "2222\n",
      "2223\n",
      "2224\n",
      "2225\n",
      "2226\n",
      "2227\n",
      "2228\n",
      "2229\n",
      "2230\n",
      "2231\n",
      "2232\n",
      "2233\n",
      "2234\n",
      "2235\n",
      "2236\n",
      "2237\n",
      "2238\n",
      "2239\n",
      "2240\n",
      "2241\n",
      "2242\n",
      "2243\n",
      "2244\n",
      "2245\n",
      "2246\n",
      "2247\n",
      "2248\n",
      "2249\n",
      "2250\n",
      "2251\n",
      "2252\n",
      "2253\n",
      "2254\n",
      "2255\n",
      "2256\n",
      "2257\n",
      "2258\n",
      "2259\n",
      "2260\n",
      "2261\n",
      "2262\n",
      "2263\n",
      "2264\n",
      "2265\n",
      "2266\n",
      "2267\n",
      "2268\n",
      "2269\n",
      "2270\n",
      "2271\n",
      "2272\n",
      "2273\n",
      "2274\n",
      "2275\n",
      "2276\n",
      "2277\n",
      "2278\n",
      "2279\n",
      "2280\n",
      "2281\n",
      "2282\n",
      "2283\n",
      "2284\n",
      "2285\n",
      "2286\n",
      "2287\n",
      "2288\n",
      "2289\n",
      "2290\n",
      "2291\n",
      "2292\n",
      "2293\n",
      "2294\n",
      "2295\n",
      "2296\n",
      "2297\n",
      "2298\n",
      "2299\n",
      "2300\n",
      "2301\n",
      "2302\n",
      "2303\n",
      "2304\n",
      "2305\n",
      "2306\n",
      "2307\n",
      "2308\n",
      "2309\n",
      "2310\n",
      "2311\n",
      "2312\n",
      "2313\n",
      "2314\n",
      "2315\n",
      "2316\n",
      "2317\n",
      "2318\n",
      "2319\n",
      "2320\n",
      "2321\n",
      "2322\n",
      "2323\n",
      "2324\n"
     ]
    },
    {
     "name": "stdout",
     "output_type": "stream",
     "text": [
      "2325\n",
      "2326\n",
      "2327\n",
      "2328\n",
      "2329\n",
      "2330\n",
      "2331\n",
      "2332\n",
      "2333\n",
      "2334\n",
      "2335\n",
      "2336\n",
      "2337\n",
      "2338\n",
      "2339\n",
      "2340\n",
      "2341\n",
      "2342\n",
      "2343\n",
      "2344\n",
      "2345\n",
      "2346\n",
      "2347\n",
      "2348\n",
      "2349\n",
      "2350\n",
      "2351\n",
      "2352\n",
      "2353\n",
      "2354\n",
      "2355\n",
      "2356\n",
      "2357\n",
      "2358\n",
      "2359\n",
      "2360\n",
      "2361\n",
      "2362\n",
      "2363\n",
      "2364\n",
      "2365\n",
      "2366\n",
      "2367\n",
      "2368\n",
      "2369\n",
      "2370\n",
      "2371\n",
      "2372\n",
      "2373\n",
      "2374\n",
      "2375\n",
      "2376\n",
      "2377\n",
      "2378\n",
      "2379\n",
      "2380\n",
      "2381\n",
      "2382\n",
      "2383\n",
      "2384\n",
      "2385\n",
      "2386\n",
      "2387\n",
      "2388\n",
      "2389\n",
      "2390\n",
      "2391\n",
      "2392\n",
      "2393\n",
      "2394\n",
      "2395\n",
      "2396\n",
      "2397\n",
      "2398\n",
      "2399\n",
      "2400\n",
      "2401\n",
      "2402\n",
      "2403\n",
      "2404\n",
      "2405\n",
      "2406\n",
      "2407\n",
      "2408\n",
      "2409\n",
      "2410\n",
      "2411\n",
      "2412\n",
      "2413\n",
      "2414\n",
      "2415\n",
      "2416\n",
      "2417\n",
      "2418\n",
      "2419\n",
      "2420\n",
      "2421\n",
      "2422\n",
      "2423\n",
      "2424\n",
      "2425\n",
      "2426\n",
      "2427\n",
      "2428\n",
      "2429\n",
      "2430\n",
      "2431\n",
      "2432\n",
      "2433\n",
      "2434\n",
      "2435\n",
      "2436\n",
      "2437\n",
      "2438\n",
      "2439\n",
      "2440\n",
      "2441\n",
      "2442\n",
      "2443\n",
      "2444\n",
      "2445\n",
      "2446\n",
      "2447\n",
      "2448\n",
      "2449\n",
      "2450\n",
      "2451\n",
      "2452\n",
      "2453\n",
      "2454\n",
      "2455\n",
      "2456\n",
      "2457\n",
      "2458\n",
      "2459\n",
      "2460\n",
      "2461\n",
      "2462\n",
      "2463\n",
      "2464\n",
      "2465\n",
      "2466\n",
      "2467\n",
      "2468\n",
      "2469\n",
      "2470\n",
      "2471\n",
      "2472\n",
      "2473\n",
      "2474\n",
      "2475\n",
      "2476\n",
      "2477\n",
      "2478\n",
      "2479\n",
      "2480\n",
      "2481\n",
      "2482\n",
      "2483\n",
      "2484\n",
      "2485\n",
      "2486\n",
      "2487\n",
      "2488\n",
      "2489\n",
      "2490\n",
      "2491\n",
      "2492\n",
      "2493\n",
      "2494\n",
      "2495\n",
      "2496\n",
      "2497\n",
      "2498\n",
      "2499\n",
      "2500\n",
      "2501\n",
      "2502\n",
      "2503\n",
      "2504\n",
      "2505\n",
      "2506\n",
      "2507\n",
      "2508\n",
      "2509\n",
      "2510\n",
      "2511\n",
      "2512\n",
      "2513\n",
      "2514\n",
      "2515\n",
      "2516\n",
      "2517\n",
      "2518\n",
      "2519\n",
      "2520\n",
      "2521\n",
      "2522\n",
      "2523\n",
      "2524\n",
      "2525\n",
      "2526\n",
      "2527\n",
      "2528\n",
      "2529\n",
      "2530\n",
      "2531\n",
      "2532\n",
      "2533\n",
      "2534\n",
      "2535\n",
      "2536\n",
      "2537\n",
      "2538\n",
      "2539\n",
      "2540\n",
      "2541\n",
      "2542\n",
      "2543\n",
      "2544\n",
      "2545\n",
      "2546\n",
      "2547\n",
      "2548\n",
      "2549\n",
      "2550\n",
      "2551\n",
      "2552\n",
      "2553\n",
      "2554\n",
      "2555\n",
      "2556\n",
      "2557\n",
      "2558\n",
      "2559\n",
      "2560\n",
      "2561\n",
      "2562\n",
      "2563\n",
      "2564\n",
      "2565\n",
      "2566\n",
      "2567\n",
      "2568\n",
      "2569\n",
      "2570\n",
      "2571\n",
      "2572\n",
      "2573\n",
      "2574\n",
      "2575\n",
      "2576\n",
      "2577\n",
      "2578\n",
      "2579\n",
      "2580\n",
      "2581\n",
      "2582\n",
      "2583\n",
      "2584\n",
      "2585\n",
      "2586\n",
      "2587\n",
      "2588\n",
      "2589\n",
      "2590\n",
      "2591\n",
      "2592\n",
      "2593\n",
      "2594\n",
      "2595\n",
      "2596\n",
      "2597\n",
      "2598\n",
      "2599\n",
      "2600\n",
      "2601\n",
      "2602\n",
      "2603\n",
      "2604\n",
      "2605\n",
      "2606\n",
      "2607\n",
      "2608\n",
      "2609\n",
      "2610\n",
      "2611\n",
      "2612\n",
      "2613\n",
      "2614\n",
      "2615\n",
      "2616\n",
      "2617\n",
      "2618\n",
      "2619\n",
      "2620\n",
      "2621\n",
      "2622\n",
      "2623\n",
      "2624\n",
      "2625\n",
      "2626\n",
      "2627\n",
      "2628\n",
      "2629\n",
      "2630\n",
      "2631\n",
      "2632\n",
      "2633\n",
      "2634\n",
      "2635\n",
      "2636\n",
      "2637\n",
      "2638\n",
      "2639\n",
      "2640\n",
      "2641\n",
      "2642\n",
      "2643\n",
      "2644\n",
      "2645\n",
      "2646\n",
      "2647\n",
      "2648\n",
      "2649\n",
      "2650\n",
      "2651\n",
      "2652\n",
      "2653\n",
      "2654\n",
      "2655\n",
      "2656\n",
      "2657\n",
      "2658\n",
      "2659\n",
      "2660\n",
      "2661\n",
      "2662\n",
      "2663\n",
      "2664\n",
      "2665\n",
      "2666\n",
      "2667\n",
      "2668\n",
      "2669\n",
      "2670\n",
      "2671\n",
      "2672\n",
      "2673\n",
      "2674\n",
      "2675\n",
      "2676\n",
      "2677\n",
      "2678\n",
      "2679\n",
      "2680\n",
      "2681\n",
      "2682\n",
      "2683\n",
      "2684\n",
      "2685\n",
      "2686\n",
      "2687\n",
      "2688\n",
      "2689\n",
      "2690\n",
      "2691\n",
      "2692\n",
      "2693\n",
      "2694\n",
      "2695\n",
      "2696\n",
      "2697\n",
      "2698\n",
      "2699\n",
      "2700\n",
      "2701\n",
      "2702\n",
      "2703\n",
      "2704\n",
      "2705\n",
      "2706\n",
      "2707\n",
      "2708\n",
      "2709\n",
      "2710\n",
      "2711\n",
      "2712\n",
      "2713\n",
      "2714\n",
      "2715\n",
      "2716\n",
      "2717\n",
      "2718\n",
      "2719\n",
      "2720\n",
      "2721\n",
      "2722\n",
      "2723\n",
      "2724\n",
      "2725\n",
      "2726\n",
      "2727\n",
      "2728\n",
      "2729\n",
      "2730\n",
      "2731\n",
      "2732\n",
      "2733\n",
      "2734\n",
      "2735\n",
      "2736\n",
      "2737\n",
      "2738\n",
      "2739\n",
      "2740\n",
      "2741\n",
      "2742\n",
      "2743\n",
      "2744\n",
      "2745\n",
      "2746\n",
      "2747\n",
      "2748\n",
      "2749\n",
      "2750\n",
      "2751\n",
      "2752\n",
      "2753\n",
      "2754\n",
      "2755\n",
      "2756\n",
      "2757\n",
      "2758\n",
      "2759\n",
      "2760\n",
      "2761\n",
      "2762\n",
      "2763\n",
      "2764\n",
      "2765\n",
      "2766\n",
      "2767\n",
      "2768\n",
      "2769\n",
      "2770\n",
      "2771\n",
      "2772\n",
      "2773\n",
      "2774\n",
      "2775\n",
      "2776\n",
      "2777\n",
      "2778\n",
      "2779\n",
      "2780\n",
      "2781\n",
      "2782\n",
      "2783\n",
      "2784\n",
      "2785\n",
      "2786\n",
      "2787\n",
      "2788\n",
      "2789\n",
      "2790\n",
      "2791\n",
      "2792\n",
      "2793\n",
      "2794\n",
      "2795\n",
      "2796\n",
      "2797\n",
      "2798\n",
      "2799\n",
      "2800\n",
      "2801\n",
      "2802\n",
      "2803\n",
      "2804\n",
      "2805\n",
      "2806\n",
      "2807\n",
      "2808\n",
      "2809\n",
      "2810\n",
      "2811\n",
      "2812\n",
      "2813\n",
      "2814\n",
      "2815\n",
      "2816\n",
      "2817\n",
      "2818\n",
      "2819\n",
      "2820\n",
      "2821\n",
      "2822\n",
      "2823\n",
      "2824\n",
      "2825\n",
      "2826\n",
      "2827\n",
      "2828\n",
      "2829\n",
      "2830\n",
      "2831\n",
      "2832\n",
      "2833\n",
      "2834\n",
      "2835\n",
      "2836\n",
      "2837\n",
      "2838\n",
      "2839\n",
      "2840\n",
      "2841\n",
      "2842\n",
      "2843\n",
      "2844\n",
      "2845\n",
      "2846\n",
      "2847\n",
      "2848\n",
      "2849\n",
      "2850\n",
      "2851\n",
      "2852\n",
      "2853\n",
      "2854\n",
      "2855\n",
      "2856\n",
      "2857\n",
      "2858\n",
      "2859\n",
      "2860\n",
      "2861\n",
      "2862\n",
      "2863\n",
      "2864\n",
      "2865\n",
      "2866\n",
      "2867\n",
      "2868\n",
      "2869\n",
      "2870\n",
      "2871\n",
      "2872\n",
      "2873\n",
      "2874\n",
      "2875\n",
      "2876\n",
      "2877\n",
      "2878\n",
      "2879\n",
      "2880\n",
      "2881\n",
      "2882\n",
      "2883\n",
      "2884\n",
      "2885\n",
      "2886\n",
      "2887\n",
      "2888\n",
      "2889\n",
      "2890\n",
      "2891\n",
      "2892\n",
      "2893\n",
      "2894\n",
      "2895\n",
      "2896\n",
      "2897\n",
      "2898\n",
      "2899\n",
      "2900\n",
      "2901\n",
      "2902\n",
      "2903\n",
      "2904\n",
      "2905\n",
      "2906\n",
      "2907\n",
      "2908\n",
      "2909\n",
      "2910\n",
      "2911\n",
      "2912\n",
      "2913\n",
      "2914\n",
      "2915\n",
      "2916\n",
      "2917\n",
      "2918\n",
      "2919\n",
      "2920\n",
      "2921\n",
      "2922\n",
      "2923\n",
      "2924\n",
      "2925\n",
      "2926\n",
      "2927\n",
      "2928\n",
      "2929\n",
      "2930\n",
      "2931\n",
      "2932\n",
      "2933\n",
      "2934\n",
      "2935\n",
      "2936\n",
      "2937\n",
      "2938\n",
      "2939\n",
      "2940\n",
      "2941\n",
      "2942\n",
      "2943\n",
      "2944\n",
      "2945\n",
      "2946\n",
      "2947\n",
      "2948\n",
      "2949\n",
      "2950\n",
      "2951\n",
      "2952\n",
      "2953\n",
      "2954\n",
      "2955\n",
      "2956\n",
      "2957\n",
      "2958\n",
      "2959\n",
      "2960\n",
      "2961\n",
      "2962\n"
     ]
    },
    {
     "ename": "RecursionError",
     "evalue": "maximum recursion depth exceeded while calling a Python object",
     "output_type": "error",
     "traceback": [
      "\u001b[0;31m---------------------------------------------------------------------------\u001b[0m",
      "\u001b[0;31mRecursionError\u001b[0m                            Traceback (most recent call last)",
      "\u001b[0;32m<ipython-input-19-70f379bcf7f9>\u001b[0m in \u001b[0;36m<module>\u001b[0;34m()\u001b[0m\n\u001b[1;32m      8\u001b[0m     \u001b[0mfun\u001b[0m\u001b[0;34m(\u001b[0m\u001b[0;34m)\u001b[0m\u001b[0;34m\u001b[0m\u001b[0m\n\u001b[1;32m      9\u001b[0m \u001b[0;31m# 调用函数\u001b[0m\u001b[0;34m\u001b[0m\u001b[0;34m\u001b[0m\u001b[0m\n\u001b[0;32m---> 10\u001b[0;31m \u001b[0mfun\u001b[0m\u001b[0;34m(\u001b[0m\u001b[0;34m)\u001b[0m\u001b[0;34m\u001b[0m\u001b[0m\n\u001b[0m",
      "\u001b[0;32m<ipython-input-19-70f379bcf7f9>\u001b[0m in \u001b[0;36mfun\u001b[0;34m()\u001b[0m\n\u001b[1;32m      6\u001b[0m     \u001b[0mprint\u001b[0m\u001b[0;34m(\u001b[0m\u001b[0mx\u001b[0m\u001b[0;34m)\u001b[0m\u001b[0;34m\u001b[0m\u001b[0m\n\u001b[1;32m      7\u001b[0m     \u001b[0;31m# 函数调用自己\u001b[0m\u001b[0;34m\u001b[0m\u001b[0;34m\u001b[0m\u001b[0m\n\u001b[0;32m----> 8\u001b[0;31m     \u001b[0mfun\u001b[0m\u001b[0;34m(\u001b[0m\u001b[0;34m)\u001b[0m\u001b[0;34m\u001b[0m\u001b[0m\n\u001b[0m\u001b[1;32m      9\u001b[0m \u001b[0;31m# 调用函数\u001b[0m\u001b[0;34m\u001b[0m\u001b[0;34m\u001b[0m\u001b[0m\n\u001b[1;32m     10\u001b[0m \u001b[0mfun\u001b[0m\u001b[0;34m(\u001b[0m\u001b[0;34m)\u001b[0m\u001b[0;34m\u001b[0m\u001b[0m\n",
      "... last 1 frames repeated, from the frame below ...\n",
      "\u001b[0;32m<ipython-input-19-70f379bcf7f9>\u001b[0m in \u001b[0;36mfun\u001b[0;34m()\u001b[0m\n\u001b[1;32m      6\u001b[0m     \u001b[0mprint\u001b[0m\u001b[0;34m(\u001b[0m\u001b[0mx\u001b[0m\u001b[0;34m)\u001b[0m\u001b[0;34m\u001b[0m\u001b[0m\n\u001b[1;32m      7\u001b[0m     \u001b[0;31m# 函数调用自己\u001b[0m\u001b[0;34m\u001b[0m\u001b[0;34m\u001b[0m\u001b[0m\n\u001b[0;32m----> 8\u001b[0;31m     \u001b[0mfun\u001b[0m\u001b[0;34m(\u001b[0m\u001b[0;34m)\u001b[0m\u001b[0;34m\u001b[0m\u001b[0m\n\u001b[0m\u001b[1;32m      9\u001b[0m \u001b[0;31m# 调用函数\u001b[0m\u001b[0;34m\u001b[0m\u001b[0;34m\u001b[0m\u001b[0m\n\u001b[1;32m     10\u001b[0m \u001b[0mfun\u001b[0m\u001b[0;34m(\u001b[0m\u001b[0;34m)\u001b[0m\u001b[0;34m\u001b[0m\u001b[0m\n",
      "\u001b[0;31mRecursionError\u001b[0m: maximum recursion depth exceeded while calling a Python object"
     ]
    }
   ],
   "source": [
    "# 递归调用深度限制代码\n",
    "x = 0\n",
    "def fun():\n",
    "    global x\n",
    "    x += 1\n",
    "    print(x)\n",
    "    # 函数调用自己\n",
    "    fun()\n",
    "# 调用函数\n",
    "fun()"
   ]
  },
  {
   "cell_type": "code",
   "execution_count": 1,
   "metadata": {},
   "outputs": [
    {
     "name": "stdout",
     "output_type": "stream",
     "text": [
      "5\n"
     ]
    }
   ],
   "source": [
    "# 斐波那契数列\n",
    "# 一列数字，第一个数字1，第二个也是1，从地个开始，每一个数字的值等于前俩个数字出现的值的和\n",
    "# 数学公式为： f(1)=1, f(2)= 1, f(n-1)+f(n-2)\n",
    "# 例如：1，1，2，3，5，8，13。。。。。\n",
    "\n",
    "# 第n个数字的斐波那契数列的值\n",
    "def fib(n):\n",
    "    if n == 1:\n",
    "        return 1\n",
    "    \n",
    "    if n == 2:\n",
    "        return 1\n",
    "    if n <= 0:\n",
    "        return None\n",
    "    \n",
    "    return fib(n-1) + fib(n-2)\n",
    "print(fib(5))\n",
    "    "
   ]
  },
  {
   "cell_type": "markdown",
   "metadata": {},
   "source": [
    "# 内置数据结构（变量类型）\n",
    "- list\n",
    "- set\n",
    "- dict\n",
    "- tuple\n",
    "## list(列表）\n",
    "- 一组有顺序的数据的组合\n",
    "- 创建列表\n",
    "    - 空列表"
   ]
  },
  {
   "cell_type": "code",
   "execution_count": 6,
   "metadata": {},
   "outputs": [
    {
     "name": "stdout",
     "output_type": "stream",
     "text": [
      "<class 'list'>\n",
      "[]\n",
      "<class 'list'>\n",
      "[100]\n",
      "<class 'list'>\n",
      "[2, 3, 1, 4, 5, 3, 5]\n",
      "<class 'list'>\n",
      "[]\n"
     ]
    }
   ],
   "source": [
    "# 创建空列表\n",
    "l1 = []\n",
    "print(type(l1))\n",
    "print(l1)\n",
    "# 创建带值的列表\n",
    "l2 = [100]\n",
    "print(type(l2))\n",
    "print(l2)\n",
    "\n",
    "l3 = [2,3,1,4,5,3,5]\n",
    "print(type(l3))\n",
    "print(l3)\n",
    "\n",
    "l4 = list()\n",
    "print(type(l4))\n",
    "print(l4)\n",
    "\n"
   ]
  },
  {
   "cell_type": "markdown",
   "metadata": {},
   "source": [
    "## 列表常用操作\n",
    "- 访问\n",
    "    - 使用下标操作（索引）\n",
    "    - 列表的位置是从0开始\n",
    "- 分片操作\n",
    "    - 对列表进行任意一段的截取\n",
    "    - l[:]\n",
    "    "
   ]
  },
  {
   "cell_type": "code",
   "execution_count": 10,
   "metadata": {},
   "outputs": [
    {
     "name": "stdout",
     "output_type": "stream",
     "text": [
      "4\n",
      "[2, 1, 4]\n",
      "[3, 2, 1, 4, 6, 3, 2]\n"
     ]
    }
   ],
   "source": [
    "# 下标访问列表\n",
    "l = [3,2,1,4,6,3,2]\n",
    "print(l[3])\n",
    "# 分片操作,包左不包右\n",
    "print(l[1:4])\n",
    "# 下标值可以为空\n",
    "print(l[:])\n"
   ]
  },
  {
   "cell_type": "code",
   "execution_count": 11,
   "metadata": {},
   "outputs": [
    {
     "name": "stdout",
     "output_type": "stream",
     "text": [
      "[2, 1, 4, 6, 3]\n"
     ]
    }
   ],
   "source": [
    "# 分片操作可以控制增长幅度，默认增长幅度为一\n",
    "print(l[1:6:1])"
   ]
  },
  {
   "cell_type": "code",
   "execution_count": 14,
   "metadata": {},
   "outputs": [
    {
     "name": "stdout",
     "output_type": "stream",
     "text": [
      "[2, 4, 3]\n",
      "[3, 2]\n"
     ]
    }
   ],
   "source": [
    "# 打印下标1开始的数据，每次隔一个\n",
    "print(l[1:6:2])\n",
    "# 下标可以超出范围，超出后不再考虑多余下标内容\n",
    "print(l[2:10])\n",
    "# 下标值，增长幅度可以为负数\n",
    "# 为负数，表明顺序是从右往左\n",
    "# 规定：数组最后一个数字的下标是-1"
   ]
  },
  {
   "cell_type": "markdown",
   "metadata": {},
   "source": [
    "## 分片操作是生成一个新的list\n",
    "- 内置函数id,负责显示一个变量或者数据的唯一确定编号"
   ]
  },
  {
   "cell_type": "code",
   "execution_count": 17,
   "metadata": {},
   "outputs": [
    {
     "name": "stdout",
     "output_type": "stream",
     "text": [
      "4300628128\n",
      "4300631328\n",
      "4300628128\n",
      "101\n",
      "100\n"
     ]
    }
   ],
   "source": [
    "# id函数剧烈\n",
    "a = 100\n",
    "b = 200\n",
    "print(id(a))\n",
    "print(id(b))\n",
    "# 如果a跟c只想一份数据，则更改a的值同样也会更改c的值\n",
    "# 但是结果并非如此，为什么？\n",
    "c = a \n",
    "a = 101\n",
    "print(id(c))\n",
    "print(a)\n",
    "print(c)"
   ]
  },
  {
   "cell_type": "code",
   "execution_count": 21,
   "metadata": {},
   "outputs": [
    {
     "name": "stdout",
     "output_type": "stream",
     "text": [
      "4334596488\n",
      "4333947976\n",
      "4333947976\n",
      "[3, 100, 56, 76, 32, 21, 43, 5]\n",
      "[3, 4, 56, 76, 32, 21, 43, 5]\n",
      "[3, 100, 56, 76, 32, 21, 43, 5]\n",
      "[3, 100, 56, 76, 32, 21, 43, 5]\n"
     ]
    }
   ],
   "source": [
    "# 通过id可以直接判断出分片是重新生成可一份数据还是使用的同一份数据\n",
    "l = [3,4,56,76,32,21,43,5]\n",
    "ll = l[:]\n",
    "lll = ll\n",
    "# 如果俩个id值一样，则表明分片产生的列表是使用的同一地址同一份数据\n",
    "print(id(l))\n",
    "print(id(ll))\n",
    "print(id(lll))\n",
    "# 通过id知道，ll和lll是同一份数据，验证代码如下\n",
    "l[1] = 100\n",
    "print(l)\n",
    "print(ll)\n",
    "\n",
    "ll[1] = 100\n",
    "print(ll)\n",
    "print(lll)"
   ]
  },
  {
   "cell_type": "markdown",
   "metadata": {},
   "source": [
    "# 汉诺塔问题\n",
    "- 规则1，每次只能移动一个盘子，2，任何一次移动，3个塔的的状态必须是大盘子在下，小盘子在上\n",
    "- 移动，n =1，a->c\n",
    "- n=2: a->b a->c b->c\n",
    "- n=3:变成n = 2\n",
    "    - 把a上的俩个盘子，通过c移动到b上去，调用递归实现\n",
    "    - 把a上的剩下的最大的盘子移动到c上，a->c\n",
    "    - 吧b上俩个盘子，借助a，移动到c上去，调用递归\n",
    "- n=n:\n",
    "    - 把a上的n-1个盘子，借助c，移动到b上去，调用递归\n",
    "    - 吧a上的最大盘子，也是唯一一个，移动号到c上，a->c\n",
    "    - 把b上n-1个盘子，借助a，移动c上去，调用递归"
   ]
  },
  {
   "cell_type": "code",
   "execution_count": 2,
   "metadata": {},
   "outputs": [
    {
     "name": "stdout",
     "output_type": "stream",
     "text": [
      "A --> C\n",
      "A --> B\n",
      "C --> B\n",
      "A --> C\n",
      "B --> A\n",
      "B --> C\n",
      "A --> C\n"
     ]
    }
   ],
   "source": [
    "def hano(n, a, b, c):\n",
    "    \"\"\"\n",
    "    汉诺塔的递归实现\n",
    "    n:  代表几个盘子\n",
    "    a:  代表第一个塔\n",
    "    b：代表第二个塔\n",
    "    c：代表第三个塔\n",
    "    遵守汉诺塔规则\n",
    "    \"\"\"\n",
    "    if n == 1:\n",
    "        print(a, \"-->\", c)\n",
    "        return None\n",
    "    \"\"\"\n",
    "    if n == 2:\n",
    "        print(a, \"-->\", b)\n",
    "        print(a, \"-->\", c)\n",
    "        print(b, \"-->\", c)\n",
    "        return None\n",
    "    \"\"\"\n",
    "    # 把n-1个盘子，从a塔借助c塔，挪到b上去\n",
    "    hano(n-1, a, c, b)\n",
    "    print(a, \"-->\", c)\n",
    "    # 把n-1和盘子，从b塔，借助于a塔，挪到c上\n",
    "    hano(n-1, b, a, c)\n",
    "a = \"A\"\n",
    "b = \"B\"\n",
    "c = \"C\"\n",
    "hano(3, a, b, c)"
   ]
  },
  {
   "cell_type": "markdown",
   "metadata": {},
   "source": [
    "# List(列表）\n",
    "- del:删除命令"
   ]
  },
  {
   "cell_type": "code",
   "execution_count": 3,
   "metadata": {},
   "outputs": [
    {
     "name": "stdout",
     "output_type": "stream",
     "text": [
      "[1, 2, 4, 5, 6]\n"
     ]
    }
   ],
   "source": [
    "# del 删除\n",
    "a = [1, 2, 3, 4, 5, 6]\n",
    "del a[2]\n",
    "print(a)"
   ]
  },
  {
   "cell_type": "code",
   "execution_count": 4,
   "metadata": {},
   "outputs": [
    {
     "name": "stdout",
     "output_type": "stream",
     "text": [
      "4452247688\n",
      "[1, 2, 4, 5, 6]\n",
      "4452247688\n"
     ]
    }
   ],
   "source": [
    "# del 删除\n",
    "# 如归使用del之后，id的值和删除前不一样，则说明删除生成了一个新的list\n",
    "a = [1, 2, 3, 4, 5, 6]\n",
    "print(id(a))\n",
    "del a[2]\n",
    "print(a)\n",
    "print(id(a))\n"
   ]
  },
  {
   "cell_type": "code",
   "execution_count": 5,
   "metadata": {},
   "outputs": [
    {
     "ename": "NameError",
     "evalue": "name 'a' is not defined",
     "output_type": "error",
     "traceback": [
      "\u001b[0;31m---------------------------------------------------------------------------\u001b[0m",
      "\u001b[0;31mNameError\u001b[0m                                 Traceback (most recent call last)",
      "\u001b[0;32m<ipython-input-5-c342333e421e>\u001b[0m in \u001b[0;36m<module>\u001b[0;34m()\u001b[0m\n\u001b[1;32m      1\u001b[0m \u001b[0;32mdel\u001b[0m \u001b[0ma\u001b[0m\u001b[0;34m\u001b[0m\u001b[0m\n\u001b[0;32m----> 2\u001b[0;31m \u001b[0mprint\u001b[0m\u001b[0;34m(\u001b[0m\u001b[0ma\u001b[0m\u001b[0;34m)\u001b[0m\u001b[0;34m\u001b[0m\u001b[0m\n\u001b[0m",
      "\u001b[0;31mNameError\u001b[0m: name 'a' is not defined"
     ]
    }
   ],
   "source": [
    "# del一个变量之后不能再使用此变量\n",
    "del a\n",
    "print(a)"
   ]
  },
  {
   "cell_type": "markdown",
   "metadata": {},
   "source": [
    "### 列表相加\n",
    "- 使用加号连接俩个列表"
   ]
  },
  {
   "cell_type": "code",
   "execution_count": 6,
   "metadata": {},
   "outputs": [
    {
     "name": "stdout",
     "output_type": "stream",
     "text": [
      "[1, 2, 3, 4, 5, 6, 7, 8, 9, 10, 'a', 'b', 'c']\n"
     ]
    }
   ],
   "source": [
    "a = [1, 2, 3, 4, 5]\n",
    "b = [6, 7, 8, 9, 10]\n",
    "d = ['a', 'b', 'c']\n",
    "c = a + b + d\n",
    "print(c)"
   ]
  },
  {
   "cell_type": "code",
   "execution_count": 7,
   "metadata": {},
   "outputs": [
    {
     "name": "stdout",
     "output_type": "stream",
     "text": [
      "[1, 2, 3, 4, 5, 1, 2, 3, 4, 5, 1, 2, 3, 4, 5, 1, 2, 3, 4, 5, 1, 2, 3, 4, 5, 1, 2, 3, 4, 5, 1, 2, 3, 4, 5, 1, 2, 3, 4, 5, 1, 2, 3, 4, 5, 1, 2, 3, 4, 5]\n"
     ]
    }
   ],
   "source": [
    "# 使用乘号操作列表\n",
    "# 列表直接跟一个整数相乘\n",
    "# 相当于把n个列表接在一起\n",
    "a = [1, 2, 3, 4, 5]\n",
    "b = a * 10\n",
    "print(b)"
   ]
  },
  {
   "cell_type": "code",
   "execution_count": 9,
   "metadata": {},
   "outputs": [
    {
     "name": "stdout",
     "output_type": "stream",
     "text": [
      "False\n",
      "True\n"
     ]
    }
   ],
   "source": [
    "# 成员资格运算\n",
    "# 就是判断一个元素是否在list里边\n",
    "a = [1, 2, 3, 4, 5, 6]\n",
    "b = 8\n",
    "# c 的值是一个布尔值\n",
    "c = b in a\n",
    "print(c)\n",
    "b = 4\n",
    "print(b in a)"
   ]
  },
  {
   "cell_type": "code",
   "execution_count": 10,
   "metadata": {},
   "outputs": [
    {
     "name": "stdout",
     "output_type": "stream",
     "text": [
      "True\n"
     ]
    }
   ],
   "source": [
    "# not in \n",
    "a = [1, 2, 3, 4, 5]\n",
    "b = 9\n",
    "print(b not in a)"
   ]
  },
  {
   "cell_type": "markdown",
   "metadata": {},
   "source": [
    "# 链表的遍历\n",
    "- for\n",
    "- while"
   ]
  },
  {
   "cell_type": "code",
   "execution_count": 8,
   "metadata": {},
   "outputs": [
    {
     "name": "stdout",
     "output_type": "stream",
     "text": [
      "1\n",
      "2\n",
      "3\n",
      "4\n",
      "5\n"
     ]
    }
   ],
   "source": [
    "# for in list\n",
    "a = [1,2,3,4,5]\n",
    "# 挨个打印出来\n",
    "for i in a:\n",
    "    print(i)"
   ]
  },
  {
   "cell_type": "code",
   "execution_count": 13,
   "metadata": {},
   "outputs": [
    {
     "name": "stdout",
     "output_type": "stream",
     "text": [
      "i love wangxiaojing\n"
     ]
    }
   ],
   "source": [
    "b = [\"i love wangxiaojing\"]\n",
    "for i in b:\n",
    "    print(i)"
   ]
  },
  {
   "cell_type": "code",
   "execution_count": 14,
   "metadata": {},
   "outputs": [
    {
     "name": "stdout",
     "output_type": "stream",
     "text": [
      "1\n",
      "<class 'type'>\n",
      "2\n",
      "<class 'type'>\n",
      "3\n",
      "<class 'type'>\n",
      "4\n",
      "<class 'type'>\n",
      "5\n",
      "<class 'type'>\n",
      "6\n",
      "<class 'type'>\n",
      "7\n",
      "<class 'type'>\n",
      "8\n",
      "<class 'type'>\n",
      "9\n",
      "<class 'type'>\n"
     ]
    }
   ],
   "source": [
    "# range\n",
    "for i in range(1,10):\n",
    "    print(i)\n",
    "    print(type(range))"
   ]
  },
  {
   "cell_type": "code",
   "execution_count": 4,
   "metadata": {},
   "outputs": [
    {
     "name": "stdout",
     "output_type": "stream",
     "text": [
      "1\n",
      "2\n",
      "3\n",
      "4\n",
      "5\n",
      "6\n"
     ]
    }
   ],
   "source": [
    "# while 循环访问list\n",
    "# 一般情况下不用while\n",
    "a = [1,2,3,4,5,6]\n",
    "length = len(a)\n",
    "# index 表示的是list的下标\n",
    "index = 0\n",
    "while index < length:\n",
    "    print(a[index])\n",
    "    index += 1\n",
    "    "
   ]
  },
  {
   "cell_type": "code",
   "execution_count": 9,
   "metadata": {},
   "outputs": [
    {
     "name": "stdout",
     "output_type": "stream",
     "text": [
      "one -- 1\n",
      "two -- 2\n",
      "three -- 3\n"
     ]
    }
   ],
   "source": [
    "# 双层列表循环\n",
    "# a为嵌套列表，或双层列表\n",
    "a = [[\"one\", 1], [\"two\", 2], [\"three\", 3]]\n",
    "for k,v in a:\n",
    "    print(k, \"--\", v)\n",
    "    "
   ]
  },
  {
   "cell_type": "code",
   "execution_count": 10,
   "metadata": {},
   "outputs": [
    {
     "ename": "SyntaxError",
     "evalue": "invalid character in identifier (<ipython-input-10-e12808e9ae08>, line 3)",
     "output_type": "error",
     "traceback": [
      "\u001b[0;36m  File \u001b[0;32m\"<ipython-input-10-e12808e9ae08>\"\u001b[0;36m, line \u001b[0;32m3\u001b[0m\n\u001b[0;31m    a = [[\"one\", 1], [\"two\", 2], [\"three\", 3，4，5，6，7]]\u001b[0m\n\u001b[0m                                                   ^\u001b[0m\n\u001b[0;31mSyntaxError\u001b[0m\u001b[0;31m:\u001b[0m invalid character in identifier\n"
     ]
    }
   ],
   "source": [
    "# 双层列表循环\n",
    "# a为嵌套列表，或双层列表\n",
    "a = [[\"one\", 1], [\"two\", 2], [\"three\", 3，4，5，6，7]]\n",
    "for k,v in a:\n",
    "    print(k, \"--\", v)\n",
    "    "
   ]
  },
  {
   "cell_type": "code",
   "execution_count": 12,
   "metadata": {},
   "outputs": [
    {
     "name": "stdout",
     "output_type": "stream",
     "text": [
      "one -- 1 -- eins\n",
      "two -- 2 -- zwei\n",
      "three -- 3 -- drei\n"
     ]
    }
   ],
   "source": [
    "# 双层列表循环\n",
    "# a为嵌套列表，或双层列表\n",
    "a = [[\"one\",1,\"eins\"], [\"two\",2,\"zwei\"], [\"three\",3,\"drei\"]]\n",
    "for k,v,w in a:\n",
    "    print(k, \"--\", v,\"--\",w)\n",
    "    "
   ]
  },
  {
   "cell_type": "markdown",
   "metadata": {},
   "source": [
    "# 列表内涵：list content\n",
    "- 通过简单方法仓做列表"
   ]
  },
  {
   "cell_type": "code",
   "execution_count": 13,
   "metadata": {},
   "outputs": [
    {
     "name": "stdout",
     "output_type": "stream",
     "text": [
      "['a', 'b', 'c']\n"
     ]
    }
   ],
   "source": [
    "# for 创建\n",
    "a = [\"a\", \"b\", \"c\"]\n",
    "# 用list a创建一个list b\n",
    "# 下面代码的含义是，对于所有a中的元素，逐个放入新的列表b中\n",
    "b = [i for i in a]\n",
    "print(b)"
   ]
  },
  {
   "cell_type": "code",
   "execution_count": 14,
   "metadata": {},
   "outputs": [
    {
     "name": "stdout",
     "output_type": "stream",
     "text": [
      "[10, 20, 30, 40, 50]\n"
     ]
    }
   ],
   "source": [
    "# 对a中的所有元素乘以10，生成一个新的list\n",
    "a = [1,2,3,4,5]\n",
    "# 用list a 创建一个list b\n",
    "# 下面代码的含义是，对于所有a中的元素，逐个放入新的列表b中\n",
    "b = [i * 10 for i in a ]\n",
    "print(b)"
   ]
  },
  {
   "cell_type": "code",
   "execution_count": 15,
   "metadata": {},
   "outputs": [
    {
     "name": "stdout",
     "output_type": "stream",
     "text": [
      "[2, 4, 6, 8, 10, 12, 14, 16, 18, 20, 22, 24, 26, 28, 30, 32, 34]\n"
     ]
    }
   ],
   "source": [
    "# 还可以过滤掉原来list中的内容放入新list\n",
    "# 比如原油列表a， 需要把所有a中有偶数生成新的列表b\n",
    "\n",
    "a = [x for x in range(1,35)]# 生成从1到34的一个列表\n",
    "# 把a中所有偶数生成一个新的列b\n",
    "b = [m for m in a if m % 2 == 0]\n",
    "print(b)"
   ]
  },
  {
   "cell_type": "code",
   "execution_count": 22,
   "metadata": {},
   "outputs": [
    {
     "name": "stdout",
     "output_type": "stream",
     "text": [
      "[1, 2, 3]\n",
      "[100, 200, 300]\n",
      "[101, 201, 301, 102, 202, 302, 103, 203, 303]\n",
      "101  201  301  102  202  302  103  203  303  \n",
      "[101, 201, 102, 202, 103, 203]\n"
     ]
    }
   ],
   "source": [
    "# 列表生成式也可以嵌套\n",
    "# 由俩个列表a,b\n",
    "a = [i for i in range(1,4)] # 生成list a\n",
    "print(a)\n",
    "\n",
    "b = [i for i in range(100,400) if i % 100 == 0]\n",
    "print(b)\n",
    "# 列表生成时可以嵌套\n",
    "c = [m + n for m in a for n in b]\n",
    "print(c)\n",
    "\n",
    "for m in a:\n",
    "    for n in b:\n",
    "        print(m+n, end=\"  \")\n",
    "print()\n",
    "\n",
    "c = [m+n for m in a for n in b if m+n <250]\n",
    "print(c)"
   ]
  },
  {
   "cell_type": "markdown",
   "metadata": {},
   "source": [
    "# 关于列表的常见函数"
   ]
  },
  {
   "cell_type": "code",
   "execution_count": 25,
   "metadata": {},
   "outputs": [
    {
     "name": "stdout",
     "output_type": "stream",
     "text": [
      "99\n",
      "99\n",
      "python\n"
     ]
    }
   ],
   "source": [
    "# len:求列表长度\n",
    "a = [x for x in range(1,100)]\n",
    "print(len(a))\n",
    "\n",
    "# max:求列表中的最大值\n",
    "# min: 同理\n",
    "print(max(a))\n",
    "\n",
    "b = ['man', 'film', 'python']\n",
    "print(max(b))"
   ]
  },
  {
   "cell_type": "code",
   "execution_count": 27,
   "metadata": {},
   "outputs": [
    {
     "name": "stdout",
     "output_type": "stream",
     "text": [
      "[1, 2, 3]\n"
     ]
    }
   ],
   "source": [
    "# list：将其他格式数据转换成list\n",
    "a = [1, 2, 3]\n",
    "print(list(a))"
   ]
  },
  {
   "cell_type": "code",
   "execution_count": 28,
   "metadata": {},
   "outputs": [
    {
     "name": "stdout",
     "output_type": "stream",
     "text": [
      "['w', 'o', 'a', 'i', 'w', 'a', 'n', 'g', 'x', 'i', 'a', 'o', 'j', 'i', 'n', 'g']\n"
     ]
    }
   ],
   "source": [
    "s = \"woaiwangxiaojing\"\n",
    "print(list(s))"
   ]
  },
  {
   "cell_type": "code",
   "execution_count": 29,
   "metadata": {},
   "outputs": [
    {
     "name": "stdout",
     "output_type": "stream",
     "text": [
      "[12, 13, 14, 15, 16, 17, 18]\n"
     ]
    }
   ],
   "source": [
    "print(list(range(12, 19)))\n",
    "# 被转换的格式必须时可迭代的"
   ]
  },
  {
   "cell_type": "code",
   "execution_count": 1,
   "metadata": {},
   "outputs": [
    {
     "name": "stdout",
     "output_type": "stream",
     "text": [
      "[1, 2, 3, 4, 5, 6]\n",
      "[1, 2, 300, 4, 5, 6]\n",
      "[1, 2, 300, 4, 5, 6]\n",
      "9\n",
      "109\n",
      "9\n"
     ]
    }
   ],
   "source": [
    "# 一个同学的问题\n",
    "# 传值和传地址的区别，值和列表的区别\n",
    "def a(n):\n",
    "    n[2] = 300\n",
    "    print(n)\n",
    "    return None\n",
    "\n",
    "def b(n):\n",
    "    n += 100\n",
    "    print(n)\n",
    "    return None\n",
    "\n",
    "an = [1, 2, 3, 4, 5, 6]\n",
    "bn = 9\n",
    "print(an)\n",
    "a(an)\n",
    "print(an)\n",
    "\n",
    "print(bn)\n",
    "b(bn)\n",
    "print(bn)"
   ]
  },
  {
   "cell_type": "markdown",
   "metadata": {},
   "source": [
    "# 关于列表的函数"
   ]
  },
  {
   "cell_type": "code",
   "execution_count": 3,
   "metadata": {},
   "outputs": [
    {
     "data": {
      "text/plain": [
       "['a', 'i love wangxiaojing', 45, 766, (5+4j)]"
      ]
     },
     "execution_count": 3,
     "metadata": {},
     "output_type": "execute_result"
    }
   ],
   "source": [
    "l = ['a', 'i love wangxiaojing', 45, 766, 5+4j]\n",
    "l"
   ]
  },
  {
   "cell_type": "code",
   "execution_count": 4,
   "metadata": {},
   "outputs": [
    {
     "name": "stdout",
     "output_type": "stream",
     "text": [
      "[1, 2, 3, 4]\n",
      "[1, 2, 3, 4, 100]\n",
      "[1, 2, 3, 666, 4, 100]\n"
     ]
    }
   ],
   "source": [
    "# append 插入一个内容,在末尾追加\n",
    "a = [i for i in range(1,5)]\n",
    "print(a)\n",
    "a.append(100)\n",
    "print(a)\n",
    "# insert:指定位置插入\n",
    "# insert(index, data)\n",
    "a.insert(3, 666)\n",
    "print(a)"
   ]
  },
  {
   "cell_type": "code",
   "execution_count": 6,
   "metadata": {},
   "outputs": [
    {
     "name": "stdout",
     "output_type": "stream",
     "text": [
      "4\n",
      "[1, 2, 3, 666]\n"
     ]
    }
   ],
   "source": [
    "# 删除\n",
    "# del 删除第几个元素\n",
    "# pop， 从对位拿出一个元素，即把最后一个元素取出来\n",
    "# pop 把拿出来的元素放到别的变量中\n",
    "last_ele = a.pop()\n",
    "print(last_ele)\n",
    "print(a)"
   ]
  },
  {
   "cell_type": "code",
   "execution_count": 11,
   "metadata": {},
   "outputs": [
    {
     "name": "stdout",
     "output_type": "stream",
     "text": [
      "4401059080\n",
      "[1, 2, 3, 666]\n",
      "[1, 2, 3]\n",
      "4401059080\n"
     ]
    }
   ],
   "source": [
    "# remove：在列表中删除指定的值的元素\n",
    "# 如果被删除的值没在list中，则报错\n",
    "# 即， 删除list指定值的操作应该使用try。。。excepty语句，或者进行先行判断\n",
    "# if x in list:\n",
    "# list.remove(x)\n",
    "a.insert(4,666)\n",
    "print(id(a))\n",
    "print(a)\n",
    "\n",
    "a.remove(666)\n",
    "print(a)\n",
    "print(id(a))\n",
    "# 输出俩个id值一样，说明，remove操作时子啊远list直接操作"
   ]
  },
  {
   "cell_type": "code",
   "execution_count": 13,
   "metadata": {},
   "outputs": [
    {
     "name": "stdout",
     "output_type": "stream",
     "text": [
      "[1, 2, 3]\n",
      "4401059080\n",
      "4401059080\n"
     ]
    }
   ],
   "source": [
    "# clear:清空\n",
    "print(a)\n",
    "print(id(a))\n",
    "a.clear()\n",
    "print(id(a))\n"
   ]
  },
  {
   "cell_type": "code",
   "execution_count": 15,
   "metadata": {},
   "outputs": [
    {
     "name": "stdout",
     "output_type": "stream",
     "text": [
      "[1, 2, 3, 4, 5]\n",
      "4402405000\n",
      "[5, 4, 3, 2, 1]\n",
      "4402405000\n"
     ]
    }
   ],
   "source": [
    "# 如果不需要列表地址保持不变，则清空列表可以使用以下方式\n",
    "# a = list()\n",
    "# a = []\n",
    "# reverse:翻转列表内容，原地反转\n",
    "a = [1,2,3,4,5]\n",
    "print(a)\n",
    "print(id(a))\n",
    "\n",
    "a.reverse()\n",
    "\n",
    "print(a)\n",
    "print(id(a))"
   ]
  },
  {
   "cell_type": "code",
   "execution_count": 16,
   "metadata": {},
   "outputs": [
    {
     "name": "stdout",
     "output_type": "stream",
     "text": [
      "[1, 2, 3, 4, 5]\n",
      "4401058120\n",
      "[5, 4, 3, 2, 1]\n",
      "4401058120\n"
     ]
    }
   ],
   "source": [
    "# extend:翻转列表内容，原地反转\n",
    "a = [1,2,3,4,5]\n",
    "print(a)\n",
    "print(id(a))\n",
    "\n",
    "a.reverse()\n",
    "\n",
    "print(a)\n",
    "print(id(a))"
   ]
  },
  {
   "cell_type": "code",
   "execution_count": 19,
   "metadata": {},
   "outputs": [
    {
     "name": "stdout",
     "output_type": "stream",
     "text": [
      "[5, 4, 3, 8, 8, 2, 1, 8, 8]\n",
      "[5, 4, 3, 8, 8, 8, 2, 1, 8, 8, 8]\n",
      "6\n"
     ]
    }
   ],
   "source": [
    "# count:查找列表中指定值或元素的个数\n",
    "print(a)\n",
    "a.append(8)\n",
    "a.insert(3,8)\n",
    "a_len = a.count(8)\n",
    "print(a)\n",
    "print(a_len)"
   ]
  },
  {
   "cell_type": "code",
   "execution_count": 24,
   "metadata": {},
   "outputs": [
    {
     "name": "stdout",
     "output_type": "stream",
     "text": [
      "[1, 2, 3, 4, 5, 666]\n",
      "[1, 2, 3, 777, 5, 666]\n",
      "[1, 2, 3, 777, 5, 666]\n",
      "******************************\n",
      "[1, 2, 3, 4]\n",
      "4402553032\n",
      "[1, 2, 3, 777]\n",
      "4402554056\n"
     ]
    }
   ],
   "source": [
    "# copy:拷贝，浅拷贝\n",
    "# 列表类型变量赋值示例\n",
    "a = [1,2,3,4,5,666]\n",
    "print(a)\n",
    "# list类型，简单赋值操作，是传地址\n",
    "b = a\n",
    "b[3] = 777\n",
    "print(a)\n",
    "print(b)\n",
    "\n",
    "print('*' * 30)\n",
    "\n",
    "# 为了解决上述传地址问题，list赋值需要采用copy函数\n",
    "a = [1,2,3,4]\n",
    "\n",
    "b = a.copy()\n",
    "b[3] = 777\n",
    "print(a)\n",
    "print(id(a))\n",
    "print(b)\n",
    "print(id(b))"
   ]
  },
  {
   "cell_type": "code",
   "execution_count": 25,
   "metadata": {},
   "outputs": [
    {
     "name": "stdout",
     "output_type": "stream",
     "text": [
      "4402553160\n",
      "4402553992\n",
      "4402553224\n",
      "4402553224\n",
      "[1, 2, 3, [10, 20, 666]]\n",
      "[1, 2, 3, [10, 20, 666]]\n"
     ]
    }
   ],
   "source": [
    "# 深拷贝跟深拷贝的区别\n",
    "a = [1,2,3,[10,20,30]]\n",
    "b = a.copy()\n",
    "print(id(a))\n",
    "print(id(b))\n",
    "print(id(a[3]))\n",
    "print(id(b[3]))\n",
    "a[3][2] = 666\n",
    "print(a)\n",
    "print(b)\n",
    "\n",
    "# 后面的【10，20，30】只是拷贝了一个地址，copy是一个浅拷贝，只拷贝一层\n",
    "# 深拷贝需要使用特定工具"
   ]
  },
  {
   "cell_type": "markdown",
   "metadata": {},
   "source": [
    "# 元祖- tuple\n",
    "- 元祖可以看成一个不可更改的list\n",
    "## 元祖创建\n"
   ]
  },
  {
   "cell_type": "code",
   "execution_count": 30,
   "metadata": {},
   "outputs": [
    {
     "name": "stdout",
     "output_type": "stream",
     "text": [
      "<class 'tuple'>\n",
      "<class 'tuple'>\n",
      "(1,)\n",
      "<class 'tuple'>\n",
      "(1,)\n",
      "<class 'tuple'>\n",
      "(1, 2, 3, 4, 5)\n",
      "<class 'tuple'>\n",
      "(1, 2, 3, 4, 5)\n",
      "<class 'tuple'>\n",
      "(1, 2, 3, 4, 5)\n"
     ]
    }
   ],
   "source": [
    "# 创建空元祖\n",
    "t = ()\n",
    "print(type(t))\n",
    "# 创建一个只有一个值的元祖\n",
    "t = (1,)\n",
    "print(type(t))\n",
    "print(t)\n",
    "t = 1,\n",
    "print(type(t))\n",
    "print(t)\n",
    "\n",
    "# 创建多个值\n",
    "t = (1,2,3,4,5)\n",
    "print(type(t))\n",
    "print(t)\n",
    "\n",
    "t = 1,2,3,4,5\n",
    "print(type(t))\n",
    "print(t)\n",
    "\n",
    "l = [1,2,3,4,5]\n",
    "t = tuple(l)\n",
    "print(type(t))\n",
    "print(t)\n",
    "\n",
    "\n"
   ]
  },
  {
   "cell_type": "markdown",
   "metadata": {},
   "source": [
    "## 元祖的特性\n",
    "- 是虚列表，有序\n",
    "- 原则数据可以访问，不能修改\n",
    "- 元祖数据可以是任何了形\n",
    "- 总之，list的特性除了不能修改都有\n",
    "- 也就意味着，list基友的一些操作，不如索引，分片，序列想家，相乘，成员呢资格操作等，一摸 - 一样"
   ]
  },
  {
   "cell_type": "code",
   "execution_count": 31,
   "metadata": {},
   "outputs": [
    {
     "name": "stdout",
     "output_type": "stream",
     "text": [
      "5\n"
     ]
    }
   ],
   "source": [
    "# 索引操作\n",
    "t = (1,2,3,4,5)\n",
    "print(t[4])"
   ]
  },
  {
   "cell_type": "code",
   "execution_count": 33,
   "metadata": {},
   "outputs": [
    {
     "ename": "IndexError",
     "evalue": "tuple index out of range",
     "output_type": "error",
     "traceback": [
      "\u001b[0;31m---------------------------------------------------------------------------\u001b[0m",
      "\u001b[0;31mIndexError\u001b[0m                                Traceback (most recent call last)",
      "\u001b[0;32m<ipython-input-33-0db0bf4ec3b5>\u001b[0m in \u001b[0;36m<module>\u001b[0;34m()\u001b[0m\n\u001b[1;32m      1\u001b[0m \u001b[0;31m# 超标错误\u001b[0m\u001b[0;34m\u001b[0m\u001b[0;34m\u001b[0m\u001b[0m\n\u001b[0;32m----> 2\u001b[0;31m \u001b[0mprint\u001b[0m\u001b[0;34m(\u001b[0m\u001b[0mt\u001b[0m\u001b[0;34m[\u001b[0m\u001b[0;36m12\u001b[0m\u001b[0;34m]\u001b[0m\u001b[0;34m)\u001b[0m\u001b[0;34m\u001b[0m\u001b[0m\n\u001b[0m",
      "\u001b[0;31mIndexError\u001b[0m: tuple index out of range"
     ]
    }
   ],
   "source": [
    "# 超标错误\n",
    "print(t[12])"
   ]
  },
  {
   "cell_type": "code",
   "execution_count": 36,
   "metadata": {},
   "outputs": [
    {
     "name": "stdout",
     "output_type": "stream",
     "text": [
      "4381183240\n",
      "4403134400\n",
      "(2, 4, 6)\n"
     ]
    }
   ],
   "source": [
    "t = (1,2,3,4,5,6)\n",
    "t1 = t[1::2]\n",
    "print(id(t))\n",
    "print(id(t1))\n",
    "print(t1)\n",
    "\n",
    "# 切片可以超标"
   ]
  },
  {
   "cell_type": "code",
   "execution_count": 39,
   "metadata": {},
   "outputs": [
    {
     "name": "stdout",
     "output_type": "stream",
     "text": [
      "(1, 2, 3)\n",
      "4403174784\n",
      "(1, 2, 3, 5, 6, 7)\n",
      "4401381288\n"
     ]
    },
    {
     "ename": "TypeError",
     "evalue": "'tuple' object does not support item assignment",
     "output_type": "error",
     "traceback": [
      "\u001b[0;31m---------------------------------------------------------------------------\u001b[0m",
      "\u001b[0;31mTypeError\u001b[0m                                 Traceback (most recent call last)",
      "\u001b[0;32m<ipython-input-39-d39267b16169>\u001b[0m in \u001b[0;36m<module>\u001b[0;34m()\u001b[0m\n\u001b[1;32m     16\u001b[0m \u001b[0;31m# tuple的不可修改，值的是内容的不可修改\u001b[0m\u001b[0;34m\u001b[0m\u001b[0;34m\u001b[0m\u001b[0m\n\u001b[1;32m     17\u001b[0m \u001b[0;34m\u001b[0m\u001b[0m\n\u001b[0;32m---> 18\u001b[0;31m \u001b[0mt1\u001b[0m\u001b[0;34m[\u001b[0m\u001b[0;36m1\u001b[0m\u001b[0;34m]\u001b[0m \u001b[0;34m=\u001b[0m \u001b[0;36m100\u001b[0m\u001b[0;34m\u001b[0m\u001b[0m\n\u001b[0m",
      "\u001b[0;31mTypeError\u001b[0m: 'tuple' object does not support item assignment"
     ]
    }
   ],
   "source": [
    "# 序列相加\n",
    "t1 = (1,2,3)\n",
    "t2 = (5,6,7)\n",
    "\n",
    "# 传地址操作\n",
    "print(t1)\n",
    "print(id(t1))\n",
    "t1 += t2\n",
    "print(t1)\n",
    "print(id(t1))\n",
    "\n",
    "# 以上操作，类似于\n",
    "t1 = (1,2,3)\n",
    "t1 = (2,3,4)\n",
    "\n",
    "# tuple的不可修改，值的是内容的不可修改\n",
    "\n",
    "t1[1] = 100\n",
    "# 会报错"
   ]
  },
  {
   "cell_type": "code",
   "execution_count": 40,
   "metadata": {},
   "outputs": [
    {
     "name": "stdout",
     "output_type": "stream",
     "text": [
      "(1, 2, 3, 1, 2, 3, 1, 2, 3)\n"
     ]
    }
   ],
   "source": [
    "# 元祖相乘\n",
    "t = (1,2,3)\n",
    "t = t * 3\n",
    "print(t)"
   ]
  },
  {
   "cell_type": "code",
   "execution_count": 42,
   "metadata": {},
   "outputs": [
    {
     "name": "stdout",
     "output_type": "stream",
     "text": [
      "yes\n"
     ]
    }
   ],
   "source": [
    "# 成员检测\n",
    "t = (1,2,3)\n",
    "if 2 in t:\n",
    "    print(\"yes\")\n",
    "else:\n",
    "    print(\"No\")\n",
    "    "
   ]
  },
  {
   "cell_type": "code",
   "execution_count": 44,
   "metadata": {},
   "outputs": [
    {
     "name": "stdout",
     "output_type": "stream",
     "text": [
      "1 2 3 wangxiaojing i love "
     ]
    }
   ],
   "source": [
    "# 元祖遍历，一般用for\n",
    "# 1，单层元祖遍历\n",
    "t = (1,2,3,'wangxiaojing', 'i', 'love')\n",
    "for i in t:\n",
    "    print(i, end = ' ')"
   ]
  },
  {
   "cell_type": "code",
   "execution_count": 45,
   "metadata": {},
   "outputs": [
    {
     "name": "stdout",
     "output_type": "stream",
     "text": [
      "(1, 2, 3)\n",
      "(2, 3, 4)\n",
      "('wangxiaojing', 'i', 'love')\n"
     ]
    }
   ],
   "source": [
    "# 2双层元祖的遍历\n",
    "t = ((1,2,3),(2,3,4),('wangxiaojing', 'i', 'love'))\n",
    "# 对以上元祖的遍历，可以如下\n",
    "# 1\n",
    "\n",
    "for i in t:\n",
    "    print(i)"
   ]
  },
  {
   "cell_type": "code",
   "execution_count": 46,
   "metadata": {},
   "outputs": [
    {
     "name": "stdout",
     "output_type": "stream",
     "text": [
      "1 -- 2 -- 3\n",
      "2 -- 3 -- 4\n",
      "wangxiaojing -- i -- love\n"
     ]
    }
   ],
   "source": [
    "for k,m,n in t:\n",
    "    print(k, '--',m,'--',n)"
   ]
  },
  {
   "cell_type": "markdown",
   "metadata": {},
   "source": [
    "# 习题课-str list dict\n",
    "- str\n",
    "- list\n",
    "- dict\n",
    "- set"
   ]
  },
  {
   "cell_type": "code",
   "execution_count": 51,
   "metadata": {},
   "outputs": [
    {
     "name": "stdout",
     "output_type": "stream",
     "text": [
      "i love wangxiaojing\n",
      "i love  wangxiaojing\n"
     ]
    }
   ],
   "source": [
    "# 字符串的简单操作\n",
    "# 连接操作\n",
    "s1 = \"i love \"\n",
    "s2 = \"wangxiaojing\"\n",
    "s3 = s1 + s2\n",
    "print(s3)\n",
    "print(s1 + ' ' + s2)"
   ]
  },
  {
   "cell_type": "code",
   "execution_count": 53,
   "metadata": {},
   "outputs": [
    {
     "name": "stdout",
     "output_type": "stream",
     "text": [
      "i love wangxiaojingi love wangxiaojingi love wangxiaojingi love wangxiaojingi love wangxiaojingi love wangxiaojingi love wangxiaojingi love wangxiaojingi love wangxiaojingi love wangxiaojing\n"
     ]
    }
   ],
   "source": [
    "# 字符串的乘法\n",
    "s = \"i love wangxiaojing\"\n",
    "s2 = s * 10\n",
    "print(s2)"
   ]
  },
  {
   "cell_type": "code",
   "execution_count": 54,
   "metadata": {},
   "outputs": [
    {
     "name": "stdout",
     "output_type": "stream",
     "text": [
      "i\n"
     ]
    }
   ],
   "source": [
    "# 字符串当成列表\n",
    "s = \" i love wang xiangjing\"\n",
    "print(s[1])"
   ]
  },
  {
   "cell_type": "code",
   "execution_count": 55,
   "metadata": {},
   "outputs": [
    {
     "name": "stdout",
     "output_type": "stream",
     "text": [
      "g\n"
     ]
    }
   ],
   "source": [
    "print(s[-1])"
   ]
  },
  {
   "cell_type": "code",
   "execution_count": 56,
   "metadata": {},
   "outputs": [
    {
     "name": "stdout",
     "output_type": "stream",
     "text": [
      "3456\n"
     ]
    }
   ],
   "source": [
    "s = \"123456789\"\n",
    "print(s[2:6])"
   ]
  },
  {
   "cell_type": "code",
   "execution_count": 57,
   "metadata": {},
   "outputs": [
    {
     "name": "stdout",
     "output_type": "stream",
     "text": [
      "123456789\n"
     ]
    }
   ],
   "source": [
    "print(s[:])"
   ]
  },
  {
   "cell_type": "code",
   "execution_count": 4,
   "metadata": {},
   "outputs": [
    {
     "ename": "SyntaxError",
     "evalue": "can't assign to literal (<ipython-input-4-755f680e71b1>, line 14)",
     "output_type": "error",
     "traceback": [
      "\u001b[0;36m  File \u001b[0;32m\"<ipython-input-4-755f680e71b1>\"\u001b[0;36m, line \u001b[0;32m14\u001b[0m\n\u001b[0;31m    s1 =[1] = \"A\"\u001b[0m\n\u001b[0m       ^\u001b[0m\n\u001b[0;31mSyntaxError\u001b[0m\u001b[0;31m:\u001b[0m can't assign to literal\n"
     ]
    }
   ],
   "source": [
    "# 切片返回的是一个全新的字符串吗\n",
    "# 主要看切的是\n",
    "print(id(s))\n",
    "print(id(s[:]))\n",
    "print(id(s[:5]))\n",
    "\n",
    "# 切片返回的是一个全新的字符串吗》\n",
    "# 如果切片去一部分，则返回全新字符串\n",
    "# 如果取完整切片，可能返回内容指向同一字符串\n",
    "\n",
    "s = \"i love wangxiaojing and zhangxiaojing\"\n",
    "s1 = s[:]\n",
    "# 不能直接对字符串进行下标元素赋值，否则会导致错误\n",
    "s1 =[1] = \"A\"\n",
    "print(s)\n",
    "print(s1)\n"
   ]
  },
  {
   "cell_type": "code",
   "execution_count": 7,
   "metadata": {},
   "outputs": [
    {
     "name": "stdout",
     "output_type": "stream",
     "text": [
      "4391019016\n",
      "4392533768\n"
     ]
    }
   ],
   "source": [
    "# 用实验证明部分切片和完整切片的区别\n",
    "l = [1,2,3,4,5,6,7,8,9]\n",
    "l1 = l[:2]\n",
    "print(id(l))\n",
    "print(id(l1))"
   ]
  },
  {
   "cell_type": "code",
   "execution_count": 6,
   "metadata": {},
   "outputs": [
    {
     "name": "stdout",
     "output_type": "stream",
     "text": [
      "Help on class str in module builtins:\n",
      "\n",
      "class str(object)\n",
      " |  str(object='') -> str\n",
      " |  str(bytes_or_buffer[, encoding[, errors]]) -> str\n",
      " |  \n",
      " |  Create a new string object from the given object. If encoding or\n",
      " |  errors is specified, then the object must expose a data buffer\n",
      " |  that will be decoded using the given encoding and error handler.\n",
      " |  Otherwise, returns the result of object.__str__() (if defined)\n",
      " |  or repr(object).\n",
      " |  encoding defaults to sys.getdefaultencoding().\n",
      " |  errors defaults to 'strict'.\n",
      " |  \n",
      " |  Methods defined here:\n",
      " |  \n",
      " |  __add__(self, value, /)\n",
      " |      Return self+value.\n",
      " |  \n",
      " |  __contains__(self, key, /)\n",
      " |      Return key in self.\n",
      " |  \n",
      " |  __eq__(self, value, /)\n",
      " |      Return self==value.\n",
      " |  \n",
      " |  __format__(self, format_spec, /)\n",
      " |      Return a formatted version of the string as described by format_spec.\n",
      " |  \n",
      " |  __ge__(self, value, /)\n",
      " |      Return self>=value.\n",
      " |  \n",
      " |  __getattribute__(self, name, /)\n",
      " |      Return getattr(self, name).\n",
      " |  \n",
      " |  __getitem__(self, key, /)\n",
      " |      Return self[key].\n",
      " |  \n",
      " |  __getnewargs__(...)\n",
      " |  \n",
      " |  __gt__(self, value, /)\n",
      " |      Return self>value.\n",
      " |  \n",
      " |  __hash__(self, /)\n",
      " |      Return hash(self).\n",
      " |  \n",
      " |  __iter__(self, /)\n",
      " |      Implement iter(self).\n",
      " |  \n",
      " |  __le__(self, value, /)\n",
      " |      Return self<=value.\n",
      " |  \n",
      " |  __len__(self, /)\n",
      " |      Return len(self).\n",
      " |  \n",
      " |  __lt__(self, value, /)\n",
      " |      Return self<value.\n",
      " |  \n",
      " |  __mod__(self, value, /)\n",
      " |      Return self%value.\n",
      " |  \n",
      " |  __mul__(self, value, /)\n",
      " |      Return self*value.\n",
      " |  \n",
      " |  __ne__(self, value, /)\n",
      " |      Return self!=value.\n",
      " |  \n",
      " |  __repr__(self, /)\n",
      " |      Return repr(self).\n",
      " |  \n",
      " |  __rmod__(self, value, /)\n",
      " |      Return value%self.\n",
      " |  \n",
      " |  __rmul__(self, value, /)\n",
      " |      Return value*self.\n",
      " |  \n",
      " |  __sizeof__(self, /)\n",
      " |      Return the size of the string in memory, in bytes.\n",
      " |  \n",
      " |  __str__(self, /)\n",
      " |      Return str(self).\n",
      " |  \n",
      " |  capitalize(self, /)\n",
      " |      Return a capitalized version of the string.\n",
      " |      \n",
      " |      More specifically, make the first character have upper case and the rest lower\n",
      " |      case.\n",
      " |  \n",
      " |  casefold(self, /)\n",
      " |      Return a version of the string suitable for caseless comparisons.\n",
      " |  \n",
      " |  center(self, width, fillchar=' ', /)\n",
      " |      Return a centered string of length width.\n",
      " |      \n",
      " |      Padding is done using the specified fill character (default is a space).\n",
      " |  \n",
      " |  count(...)\n",
      " |      S.count(sub[, start[, end]]) -> int\n",
      " |      \n",
      " |      Return the number of non-overlapping occurrences of substring sub in\n",
      " |      string S[start:end].  Optional arguments start and end are\n",
      " |      interpreted as in slice notation.\n",
      " |  \n",
      " |  encode(self, /, encoding='utf-8', errors='strict')\n",
      " |      Encode the string using the codec registered for encoding.\n",
      " |      \n",
      " |      encoding\n",
      " |        The encoding in which to encode the string.\n",
      " |      errors\n",
      " |        The error handling scheme to use for encoding errors.\n",
      " |        The default is 'strict' meaning that encoding errors raise a\n",
      " |        UnicodeEncodeError.  Other possible values are 'ignore', 'replace' and\n",
      " |        'xmlcharrefreplace' as well as any other name registered with\n",
      " |        codecs.register_error that can handle UnicodeEncodeErrors.\n",
      " |  \n",
      " |  endswith(...)\n",
      " |      S.endswith(suffix[, start[, end]]) -> bool\n",
      " |      \n",
      " |      Return True if S ends with the specified suffix, False otherwise.\n",
      " |      With optional start, test S beginning at that position.\n",
      " |      With optional end, stop comparing S at that position.\n",
      " |      suffix can also be a tuple of strings to try.\n",
      " |  \n",
      " |  expandtabs(self, /, tabsize=8)\n",
      " |      Return a copy where all tab characters are expanded using spaces.\n",
      " |      \n",
      " |      If tabsize is not given, a tab size of 8 characters is assumed.\n",
      " |  \n",
      " |  find(...)\n",
      " |      S.find(sub[, start[, end]]) -> int\n",
      " |      \n",
      " |      Return the lowest index in S where substring sub is found,\n",
      " |      such that sub is contained within S[start:end].  Optional\n",
      " |      arguments start and end are interpreted as in slice notation.\n",
      " |      \n",
      " |      Return -1 on failure.\n",
      " |  \n",
      " |  format(...)\n",
      " |      S.format(*args, **kwargs) -> str\n",
      " |      \n",
      " |      Return a formatted version of S, using substitutions from args and kwargs.\n",
      " |      The substitutions are identified by braces ('{' and '}').\n",
      " |  \n",
      " |  format_map(...)\n",
      " |      S.format_map(mapping) -> str\n",
      " |      \n",
      " |      Return a formatted version of S, using substitutions from mapping.\n",
      " |      The substitutions are identified by braces ('{' and '}').\n",
      " |  \n",
      " |  index(...)\n",
      " |      S.index(sub[, start[, end]]) -> int\n",
      " |      \n",
      " |      Return the lowest index in S where substring sub is found, \n",
      " |      such that sub is contained within S[start:end].  Optional\n",
      " |      arguments start and end are interpreted as in slice notation.\n",
      " |      \n",
      " |      Raises ValueError when the substring is not found.\n",
      " |  \n",
      " |  isalnum(self, /)\n",
      " |      Return True if the string is an alpha-numeric string, False otherwise.\n",
      " |      \n",
      " |      A string is alpha-numeric if all characters in the string are alpha-numeric and\n",
      " |      there is at least one character in the string.\n",
      " |  \n",
      " |  isalpha(self, /)\n",
      " |      Return True if the string is an alphabetic string, False otherwise.\n",
      " |      \n",
      " |      A string is alphabetic if all characters in the string are alphabetic and there\n",
      " |      is at least one character in the string.\n",
      " |  \n",
      " |  isascii(self, /)\n",
      " |      Return True if all characters in the string are ASCII, False otherwise.\n",
      " |      \n",
      " |      ASCII characters have code points in the range U+0000-U+007F.\n",
      " |      Empty string is ASCII too.\n",
      " |  \n",
      " |  isdecimal(self, /)\n",
      " |      Return True if the string is a decimal string, False otherwise.\n",
      " |      \n",
      " |      A string is a decimal string if all characters in the string are decimal and\n",
      " |      there is at least one character in the string.\n",
      " |  \n",
      " |  isdigit(self, /)\n",
      " |      Return True if the string is a digit string, False otherwise.\n",
      " |      \n",
      " |      A string is a digit string if all characters in the string are digits and there\n",
      " |      is at least one character in the string.\n",
      " |  \n",
      " |  isidentifier(self, /)\n",
      " |      Return True if the string is a valid Python identifier, False otherwise.\n",
      " |      \n",
      " |      Use keyword.iskeyword() to test for reserved identifiers such as \"def\" and\n",
      " |      \"class\".\n",
      " |  \n",
      " |  islower(self, /)\n",
      " |      Return True if the string is a lowercase string, False otherwise.\n",
      " |      \n",
      " |      A string is lowercase if all cased characters in the string are lowercase and\n",
      " |      there is at least one cased character in the string.\n",
      " |  \n",
      " |  isnumeric(self, /)\n",
      " |      Return True if the string is a numeric string, False otherwise.\n",
      " |      \n",
      " |      A string is numeric if all characters in the string are numeric and there is at\n",
      " |      least one character in the string.\n",
      " |  \n",
      " |  isprintable(self, /)\n",
      " |      Return True if the string is printable, False otherwise.\n",
      " |      \n",
      " |      A string is printable if all of its characters are considered printable in\n",
      " |      repr() or if it is empty.\n",
      " |  \n",
      " |  isspace(self, /)\n",
      " |      Return True if the string is a whitespace string, False otherwise.\n",
      " |      \n",
      " |      A string is whitespace if all characters in the string are whitespace and there\n",
      " |      is at least one character in the string.\n",
      " |  \n",
      " |  istitle(self, /)\n",
      " |      Return True if the string is a title-cased string, False otherwise.\n",
      " |      \n",
      " |      In a title-cased string, upper- and title-case characters may only\n",
      " |      follow uncased characters and lowercase characters only cased ones.\n",
      " |  \n",
      " |  isupper(self, /)\n",
      " |      Return True if the string is an uppercase string, False otherwise.\n",
      " |      \n",
      " |      A string is uppercase if all cased characters in the string are uppercase and\n",
      " |      there is at least one cased character in the string.\n",
      " |  \n",
      " |  join(self, iterable, /)\n",
      " |      Concatenate any number of strings.\n",
      " |      \n",
      " |      The string whose method is called is inserted in between each given string.\n",
      " |      The result is returned as a new string.\n",
      " |      \n",
      " |      Example: '.'.join(['ab', 'pq', 'rs']) -> 'ab.pq.rs'\n",
      " |  \n",
      " |  ljust(self, width, fillchar=' ', /)\n",
      " |      Return a left-justified string of length width.\n",
      " |      \n",
      " |      Padding is done using the specified fill character (default is a space).\n",
      " |  \n",
      " |  lower(self, /)\n",
      " |      Return a copy of the string converted to lowercase.\n",
      " |  \n",
      " |  lstrip(self, chars=None, /)\n",
      " |      Return a copy of the string with leading whitespace removed.\n",
      " |      \n",
      " |      If chars is given and not None, remove characters in chars instead.\n",
      " |  \n",
      " |  partition(self, sep, /)\n",
      " |      Partition the string into three parts using the given separator.\n",
      " |      \n",
      " |      This will search for the separator in the string.  If the separator is found,\n",
      " |      returns a 3-tuple containing the part before the separator, the separator\n",
      " |      itself, and the part after it.\n",
      " |      \n",
      " |      If the separator is not found, returns a 3-tuple containing the original string\n",
      " |      and two empty strings.\n",
      " |  \n",
      " |  replace(self, old, new, count=-1, /)\n",
      " |      Return a copy with all occurrences of substring old replaced by new.\n",
      " |      \n",
      " |        count\n",
      " |          Maximum number of occurrences to replace.\n",
      " |          -1 (the default value) means replace all occurrences.\n",
      " |      \n",
      " |      If the optional argument count is given, only the first count occurrences are\n",
      " |      replaced.\n",
      " |  \n",
      " |  rfind(...)\n",
      " |      S.rfind(sub[, start[, end]]) -> int\n",
      " |      \n",
      " |      Return the highest index in S where substring sub is found,\n",
      " |      such that sub is contained within S[start:end].  Optional\n",
      " |      arguments start and end are interpreted as in slice notation.\n",
      " |      \n",
      " |      Return -1 on failure.\n",
      " |  \n",
      " |  rindex(...)\n",
      " |      S.rindex(sub[, start[, end]]) -> int\n",
      " |      \n",
      " |      Return the highest index in S where substring sub is found,\n",
      " |      such that sub is contained within S[start:end].  Optional\n",
      " |      arguments start and end are interpreted as in slice notation.\n",
      " |      \n",
      " |      Raises ValueError when the substring is not found.\n",
      " |  \n",
      " |  rjust(self, width, fillchar=' ', /)\n",
      " |      Return a right-justified string of length width.\n",
      " |      \n",
      " |      Padding is done using the specified fill character (default is a space).\n",
      " |  \n",
      " |  rpartition(self, sep, /)\n",
      " |      Partition the string into three parts using the given separator.\n",
      " |      \n",
      " |      This will search for the separator in the string, starting at the end. If\n",
      " |      the separator is found, returns a 3-tuple containing the part before the\n",
      " |      separator, the separator itself, and the part after it.\n",
      " |      \n",
      " |      If the separator is not found, returns a 3-tuple containing two empty strings\n",
      " |      and the original string.\n",
      " |  \n",
      " |  rsplit(self, /, sep=None, maxsplit=-1)\n",
      " |      Return a list of the words in the string, using sep as the delimiter string.\n",
      " |      \n",
      " |        sep\n",
      " |          The delimiter according which to split the string.\n",
      " |          None (the default value) means split according to any whitespace,\n",
      " |          and discard empty strings from the result.\n",
      " |        maxsplit\n",
      " |          Maximum number of splits to do.\n",
      " |          -1 (the default value) means no limit.\n",
      " |      \n",
      " |      Splits are done starting at the end of the string and working to the front.\n",
      " |  \n",
      " |  rstrip(self, chars=None, /)\n",
      " |      Return a copy of the string with trailing whitespace removed.\n",
      " |      \n",
      " |      If chars is given and not None, remove characters in chars instead.\n",
      " |  \n",
      " |  split(self, /, sep=None, maxsplit=-1)\n",
      " |      Return a list of the words in the string, using sep as the delimiter string.\n",
      " |      \n",
      " |      sep\n",
      " |        The delimiter according which to split the string.\n",
      " |        None (the default value) means split according to any whitespace,\n",
      " |        and discard empty strings from the result.\n",
      " |      maxsplit\n",
      " |        Maximum number of splits to do.\n",
      " |        -1 (the default value) means no limit.\n",
      " |  \n",
      " |  splitlines(self, /, keepends=False)\n",
      " |      Return a list of the lines in the string, breaking at line boundaries.\n",
      " |      \n",
      " |      Line breaks are not included in the resulting list unless keepends is given and\n",
      " |      true.\n",
      " |  \n",
      " |  startswith(...)\n",
      " |      S.startswith(prefix[, start[, end]]) -> bool\n",
      " |      \n",
      " |      Return True if S starts with the specified prefix, False otherwise.\n",
      " |      With optional start, test S beginning at that position.\n",
      " |      With optional end, stop comparing S at that position.\n",
      " |      prefix can also be a tuple of strings to try.\n",
      " |  \n",
      " |  strip(self, chars=None, /)\n",
      " |      Return a copy of the string with leading and trailing whitespace remove.\n",
      " |      \n",
      " |      If chars is given and not None, remove characters in chars instead.\n",
      " |  \n",
      " |  swapcase(self, /)\n",
      " |      Convert uppercase characters to lowercase and lowercase characters to uppercase.\n",
      " |  \n",
      " |  title(self, /)\n",
      " |      Return a version of the string where each word is titlecased.\n",
      " |      \n",
      " |      More specifically, words start with uppercased characters and all remaining\n",
      " |      cased characters have lower case.\n",
      " |  \n",
      " |  translate(self, table, /)\n",
      " |      Replace each character in the string using the given translation table.\n",
      " |      \n",
      " |        table\n",
      " |          Translation table, which must be a mapping of Unicode ordinals to\n",
      " |          Unicode ordinals, strings, or None.\n",
      " |      \n",
      " |      The table must implement lookup/indexing via __getitem__, for instance a\n",
      " |      dictionary or list.  If this operation raises LookupError, the character is\n",
      " |      left untouched.  Characters mapped to None are deleted.\n",
      " |  \n",
      " |  upper(self, /)\n",
      " |      Return a copy of the string converted to uppercase.\n",
      " |  \n",
      " |  zfill(self, width, /)\n",
      " |      Pad a numeric string with zeros on the left, to fill a field of the given width.\n",
      " |      \n",
      " |      The string is never truncated.\n",
      " |  \n",
      " |  ----------------------------------------------------------------------\n",
      " |  Static methods defined here:\n",
      " |  \n",
      " |  __new__(*args, **kwargs) from builtins.type\n",
      " |      Create and return a new object.  See help(type) for accurate signature.\n",
      " |  \n",
      " |  maketrans(x, y=None, z=None, /)\n",
      " |      Return a translation table usable for str.translate().\n",
      " |      \n",
      " |      If there is only one argument, it must be a dictionary mapping Unicode\n",
      " |      ordinals (integers) or characters to Unicode ordinals, strings or None.\n",
      " |      Character keys will be then converted to ordinals.\n",
      " |      If there are two arguments, they must be strings of equal length, and\n",
      " |      in the resulting dictionary, each character in x will be mapped to the\n",
      " |      character at the same position in y. If there is a third argument, it\n",
      " |      must be a string, whose characters will be mapped to None in the result.\n",
      "\n"
     ]
    }
   ],
   "source": []
  },
  {
   "cell_type": "code",
   "execution_count": null,
   "metadata": {},
   "outputs": [],
   "source": []
  },
  {
   "cell_type": "markdown",
   "metadata": {},
   "source": [
    "# 关于元祖的函数\n",
    "- 查看以下代码\n",
    "- 基本跟list通用"
   ]
  },
  {
   "cell_type": "code",
   "execution_count": 3,
   "metadata": {},
   "outputs": [
    {
     "name": "stdout",
     "output_type": "stream",
     "text": [
      "3\n",
      "4\n",
      "1\n"
     ]
    }
   ],
   "source": [
    "# count: 计算指定数据出现的次数\n",
    "t = (2,1,2,3,45,1,2,1)\n",
    "print(t.count(2))\n",
    "\n",
    "# index 元素在元祖中的索引位置\n",
    "print(t.index(45))\n",
    "\n",
    "# 如果出现多个元素，则返回第一个\n",
    "print(t.index(1))"
   ]
  },
  {
   "cell_type": "markdown",
   "metadata": {},
   "source": [
    "# 元祖变量交换法\n",
    "- 俩个变量交换值"
   ]
  },
  {
   "cell_type": "code",
   "execution_count": null,
   "metadata": {},
   "outputs": [],
   "source": [
    "# 俩个变量交换值\n",
    "a = 1\n",
    "b = 3\n",
    "\n",
    "print(a)\n",
    "print(b)\n",
    "print(\"*\" * 20)\n",
    "# java程序员会这么写：\n",
    "c = a\n",
    "a = b\n",
    "b = c\n",
    "print(a)\n",
    "print(b)\n",
    "\n",
    "print(\"*\" * 20)\n",
    "# python的写法\n",
    "a,b = b,a\n",
    "print(a)\n",
    "print(b)"
   ]
  },
  {
   "cell_type": "markdown",
   "metadata": {},
   "source": [
    "# 集合-set\n",
    "- 集合是高中数学中的一个概念\n",
    "- 一堆确定的无序的唯一的数据，集合中每一个数据成为一个元素\n",
    "\n"
   ]
  },
  {
   "cell_type": "code",
   "execution_count": 8,
   "metadata": {},
   "outputs": [
    {
     "name": "stdout",
     "output_type": "stream",
     "text": [
      "<class 'set'>\n",
      "set()\n",
      "<class 'set'>\n",
      "{1, 2, 3, 4, 5, 6}\n"
     ]
    }
   ],
   "source": [
    "# 集合的定义\n",
    "s = set()\n",
    "print(type(s))\n",
    "print(s)\n",
    "\n",
    "\n",
    "# 此时大括号里一定要有值\n",
    "s = {1,2,3,4,5,6}\n",
    "print(type(s))\n",
    "print(s)"
   ]
  },
  {
   "cell_type": "code",
   "execution_count": 7,
   "metadata": {},
   "outputs": [
    {
     "name": "stdout",
     "output_type": "stream",
     "text": [
      "<class 'dict'>\n"
     ]
    }
   ],
   "source": [
    "# 如果只是用大括号定义，则定义的是一个dict类型\n",
    "d = {}\n",
    "print(type(d))3\n",
    "print(d)"
   ]
  },
  {
   "cell_type": "markdown",
   "metadata": {},
   "source": [
    "# 集合的特征\n",
    "- 集合的数据无序， 即无法索引和分片\n",
    "- 集合内部数据具有唯一性，可以用来排出重复数据\n",
    "- 集合内的数据，str, int, float, tuple, 冰冻集合等，即内部只能放置可哈希数据"
   ]
  },
  {
   "cell_type": "markdown",
   "metadata": {},
   "source": [
    "# 集合序列的操作"
   ]
  },
  {
   "cell_type": "code",
   "execution_count": 13,
   "metadata": {},
   "outputs": [
    {
     "name": "stdout",
     "output_type": "stream",
     "text": [
      "{4, 5, 'wangxiaojing', 'i', 'love'}\n",
      "aiya\n"
     ]
    }
   ],
   "source": [
    "# 成员检测\n",
    "# in ,not in\n",
    "s = {4,5,\"i\",'love',\"wangxiaojing\"}\n",
    "print(s)\n",
    "if \"love\" in s:\n",
    "    print(\"aiya\")"
   ]
  },
  {
   "cell_type": "markdown",
   "metadata": {},
   "source": [
    "# 集合遍历操作"
   ]
  },
  {
   "cell_type": "code",
   "execution_count": 14,
   "metadata": {},
   "outputs": [
    {
     "name": "stdout",
     "output_type": "stream",
     "text": [
      "4 5 wangxiaojing i love "
     ]
    }
   ],
   "source": [
    "# for 循环\n",
    "s = {4,5,\"i\",'love',\"wangxiaojing\"}\n",
    "for i in s:\n",
    "    print(i, end=\" \")"
   ]
  },
  {
   "cell_type": "code",
   "execution_count": 15,
   "metadata": {},
   "outputs": [
    {
     "name": "stdout",
     "output_type": "stream",
     "text": [
      "i love wangxiaojing\n",
      "4 5 6\n",
      "1 2 3\n"
     ]
    }
   ],
   "source": [
    "# 带有元祖的集合遍历\n",
    "s = {(1,2,3), (\"i\",\"love\",\"wangxiaojing\"),(4,5,6)}\n",
    "for k,m,n in s:\n",
    "    print(k,m,n)"
   ]
  },
  {
   "cell_type": "code",
   "execution_count": 16,
   "metadata": {},
   "outputs": [
    {
     "name": "stdout",
     "output_type": "stream",
     "text": [
      "('i', 'love', 'wangxiaojing')\n",
      "(4, 5, 6)\n",
      "(1, 2, 3)\n"
     ]
    }
   ],
   "source": [
    "for k in s:\n",
    "    print(k)"
   ]
  },
  {
   "cell_type": "markdown",
   "metadata": {},
   "source": [
    "# 集合的内涵\n"
   ]
  },
  {
   "cell_type": "code",
   "execution_count": 2,
   "metadata": {},
   "outputs": [
    {
     "name": "stdout",
     "output_type": "stream",
     "text": [
      "{545, 1, 3, 2, 4, 23, 223}\n",
      "{545, 2, 3, 4, 1, 23, 223}\n"
     ]
    }
   ],
   "source": [
    "# 普通的集合\n",
    "# 以下集合在初始化后自动过滤掉重复元素\n",
    "s = {23,223,545,3,1,2,3,4,3,2,3,1,2,4,3}\n",
    "print(s)\n",
    "# 普通集合内涵\n",
    "ss = {i for i in s}\n",
    "print(ss)"
   ]
  },
  {
   "cell_type": "code",
   "execution_count": 3,
   "metadata": {},
   "outputs": [
    {
     "name": "stdout",
     "output_type": "stream",
     "text": [
      "{2, 4}\n"
     ]
    }
   ],
   "source": [
    "# 带条件的集合内涵\n",
    "sss = {i for i in s if i % 2 == 0}\n",
    "print(sss)"
   ]
  },
  {
   "cell_type": "code",
   "execution_count": 6,
   "metadata": {},
   "outputs": [
    {
     "name": "stdout",
     "output_type": "stream",
     "text": [
      "{'i', 'ii', 'lovelove', 'iii', 'lovelovelove', 'wangxiaojingwangxiaojingwangxiaojing', 'wangxiaojingwangxiaojing', 'wangxiaojing', 'iiii', 'wangxiaojingwangxiaojingwangxiaojingwangxiaojing', 'love', 'lovelovelovelove'}\n",
      "set()\n"
     ]
    }
   ],
   "source": [
    "# 多循环的集合内涵\n",
    "s1 = {1,2,3,4}\n",
    "s2 = {\"i\", \"love\", \"wangxiaojing\"}\n",
    "s = {m*n for m in s1 for n in s2}\n",
    "print(s)\n",
    "s = {m*n for m in s1 for n in s2 if n == 2}\n",
    "print(s)"
   ]
  },
  {
   "cell_type": "code",
   "execution_count": 8,
   "metadata": {},
   "outputs": [
    {
     "name": "stdout",
     "output_type": "stream",
     "text": [
      "{1, 2, 3, 4, 23}\n"
     ]
    }
   ],
   "source": [
    "# len, max, min :跟其他函数基本一致\n",
    "# 生成一个集合\n",
    "l = [1,2,3,4,2,23,1,2,3,4]\n",
    "s = set(l)\n",
    "print(s)"
   ]
  },
  {
   "cell_type": "code",
   "execution_count": 10,
   "metadata": {},
   "outputs": [
    {
     "name": "stdout",
     "output_type": "stream",
     "text": [
      "{1, 223}\n"
     ]
    }
   ],
   "source": [
    "# add: 向集合内部添加元素\n",
    "s = {1}\n",
    "s.add(223)\n",
    "print(s)"
   ]
  },
  {
   "cell_type": "code",
   "execution_count": 11,
   "metadata": {},
   "outputs": [
    {
     "name": "stdout",
     "output_type": "stream",
     "text": [
      "4390768200\n",
      "4390768200\n"
     ]
    }
   ],
   "source": [
    "# clear\n",
    "s = {1,2,3,4,5}\n",
    "print(id(s))\n",
    "s.clear()\n",
    "print(id(s))\n",
    "# 结果表明clear原地清空数据"
   ]
  },
  {
   "cell_type": "code",
   "execution_count": 12,
   "metadata": {},
   "outputs": [
    {
     "name": "stdout",
     "output_type": "stream",
     "text": [
      "1\n",
      "{2, 3, 4, 5, 6, 7}\n"
     ]
    }
   ],
   "source": [
    "# copy：拷贝\n",
    "# remove：移除指定值，没有的话报错\n",
    "# discard:移除集合中指定的值，没有的话不报错\n",
    "# pop随机移除一个元素\n",
    "s = {1,2,3,4,5,6,7}\n",
    "d = s.pop()\n",
    "print(d)\n",
    "print(s)"
   ]
  },
  {
   "cell_type": "code",
   "execution_count": 13,
   "metadata": {},
   "outputs": [
    {
     "name": "stdout",
     "output_type": "stream",
     "text": [
      "{5, 6}\n"
     ]
    }
   ],
   "source": [
    "# 集合函数\n",
    "# intersection:交集\n",
    "# difference: 差集\n",
    "# union: 并集\n",
    "# issubset:检查一个集合是否为另一个子集\n",
    "# issuperset:检查一个集合是否为另一个集合的超集\n",
    "s1 = {1,2,3,4,5,6}\n",
    "s2 = {5,6,7,8,9}\n",
    "\n",
    "s_1 = s1.intersection(s2)\n",
    "print(s_1)"
   ]
  },
  {
   "cell_type": "code",
   "execution_count": 14,
   "metadata": {},
   "outputs": [
    {
     "name": "stdout",
     "output_type": "stream",
     "text": [
      "{1, 2, 3, 4}\n"
     ]
    }
   ],
   "source": [
    "s_2 = s1.difference(s2)\n",
    "print(s_2)"
   ]
  },
  {
   "cell_type": "code",
   "execution_count": 15,
   "metadata": {},
   "outputs": [
    {
     "name": "stdout",
     "output_type": "stream",
     "text": [
      "False\n"
     ]
    }
   ],
   "source": [
    "s_3 = s1.issubset(s2)\n",
    "print(s_3)"
   ]
  },
  {
   "cell_type": "code",
   "execution_count": 17,
   "metadata": {},
   "outputs": [
    {
     "name": "stdout",
     "output_type": "stream",
     "text": [
      "{1, 2, 3, 4}\n"
     ]
    }
   ],
   "source": [
    "# 集合的数学操作\n",
    "s1 = {1,2,3,4,5,6}\n",
    "s2 = {5,6,7,8,9}\n",
    "\n",
    "s_1 = s1 - s2\n",
    "print(s_1)"
   ]
  },
  {
   "cell_type": "markdown",
   "metadata": {},
   "source": [
    "# frozen set:冰冻集合\n",
    "- 就是不能进行任何修改的集合\n",
    "- frozen是一种特殊集合"
   ]
  },
  {
   "cell_type": "code",
   "execution_count": 20,
   "metadata": {},
   "outputs": [
    {
     "name": "stdout",
     "output_type": "stream",
     "text": [
      "<class 'frozenset'>\n",
      "frozenset()\n"
     ]
    }
   ],
   "source": [
    "# 创建\n",
    "s = frozenset()\n",
    "print(type(s))\n",
    "print(s)"
   ]
  },
  {
   "cell_type": "markdown",
   "metadata": {},
   "source": [
    "# dict字典\n",
    "- 字典是一种组合数据，没有顺序的组合数据，数据以键值对形式出现"
   ]
  },
  {
   "cell_type": "code",
   "execution_count": 24,
   "metadata": {},
   "outputs": [
    {
     "name": "stdout",
     "output_type": "stream",
     "text": [
      "{}\n",
      "{}\n",
      "{'one': 1, 'two': 2, 'three': 3}\n",
      "{'one': 1, 'two': 2, 'three': 3}\n",
      "{'one': 1, 'two': 2, 'three': 3}\n"
     ]
    }
   ],
   "source": [
    "# 字典的创建\n",
    "d = {}\n",
    "print(d)\n",
    "# 创建空字典\n",
    "d = dict()\n",
    "print(d)\n",
    "# 创建有值的字典，每一组数据用冒号隔开，每一对键值对用逗号隔开\n",
    "d = {\"one\":1, \"two\":2, \"three\":3}\n",
    "print(d)\n",
    "\n",
    "# 用dict创建有内容字典2\n",
    "# 利用关键字参数\n",
    "d = dict(one=1, two=2, three=3)\n",
    "print(d)\n",
    "\n",
    "#\n",
    "d = dict([(\"one\",1),(\"two\",2),(\"three\",3)])\n",
    "print(d)"
   ]
  },
  {
   "cell_type": "markdown",
   "metadata": {},
   "source": [
    "# 字典的特征\n",
    "- 字典是序列类型，但是是无序列，所以没有分片和索引\n",
    "- 字典中的数据每个都有键值对，即kv对\n",
    "    - key:必须是可哈希的值，比如int,string,float,tuple,但是list,set,dict不行\n",
    "    - value :任何值"
   ]
  },
  {
   "cell_type": "code",
   "execution_count": 29,
   "metadata": {},
   "outputs": [
    {
     "name": "stdout",
     "output_type": "stream",
     "text": [
      "1\n",
      "{'one': 'eins', 'two': 2, 'three': 3}\n",
      "{'two': 2, 'three': 3}\n",
      "key\n"
     ]
    }
   ],
   "source": [
    "# 字典常见操作\n",
    "# 访问数据\n",
    "d = {\"one\":1, \"two\":2, \"three\":3}\n",
    "# 注意访问格式\n",
    "# 中括号里面是键值\n",
    "print(d[\"one\"])\n",
    "\n",
    "d[\"one\"] = \"eins\"\n",
    "print(d)\n",
    "# 删除某个值\n",
    "del d[\"one\"]\n",
    "print(d)\n",
    "# 成员检测， in, not in\n",
    "d = {\"one\":1, \"two\":2, \"three\":3}\n",
    "# 成员检测，其实只是检测key\n",
    "if 2 in d:\n",
    "    print(\"value\")\n",
    "    \n",
    "if \"two\" in d:\n",
    "    print(\"key\")\n",
    "    \n",
    "if (\"two\",2) in d:\n",
    "    print(\"kv\")"
   ]
  },
  {
   "cell_type": "code",
   "execution_count": 33,
   "metadata": {},
   "outputs": [
    {
     "name": "stdout",
     "output_type": "stream",
     "text": [
      "one 1\n",
      "two 2\n",
      "three 3\n",
      "one 1\n",
      "two 2\n",
      "three 3\n",
      "1\n",
      "2\n",
      "3\n",
      "one -- 1\n",
      "two -- 2\n",
      "three -- 3\n"
     ]
    }
   ],
   "source": [
    "# 遍历在python2和python3区别比较大，代码不通用\n",
    "# 按key来使用for循环\n",
    "d = {\"one\":1, \"two\":2, \"three\":3}\n",
    "# 使用for循环，直接用key访问\n",
    "for k in d:\n",
    "    print(k, d[k])\n",
    "# 上述代码可以改写成如下\n",
    "for k in d.keys():\n",
    "    print(k,d[k])\n",
    "# 只访问字典的值\n",
    "for v in d.values():\n",
    "    print(v)\n",
    "# 注意以下特殊用法\n",
    "for k,v in d.items():\n",
    "    print(k,'--',v)\n",
    "    "
   ]
  },
  {
   "cell_type": "code",
   "execution_count": 34,
   "metadata": {},
   "outputs": [
    {
     "name": "stdout",
     "output_type": "stream",
     "text": [
      "{'one': 1, 'two': 2, 'three': 3}\n"
     ]
    }
   ],
   "source": [
    "# 字典的生成式\n",
    "d = {\"one\":1, \"two\":2, \"three\":3}\n",
    "# 常规字典生成式\n",
    "dd = {k:v for k,v in d.items()}\n",
    "print(dd)"
   ]
  },
  {
   "cell_type": "code",
   "execution_count": 35,
   "metadata": {},
   "outputs": [
    {
     "name": "stdout",
     "output_type": "stream",
     "text": [
      "{'two': 2}\n"
     ]
    }
   ],
   "source": [
    "# 加限制条件的字典生成式\n",
    "dd = {k:v for k,v in d.items() if v % 2 == 0}\n",
    "print(dd)"
   ]
  },
  {
   "cell_type": "markdown",
   "metadata": {},
   "source": [
    "# 字典的相关函数"
   ]
  },
  {
   "cell_type": "code",
   "execution_count": 36,
   "metadata": {},
   "outputs": [
    {
     "name": "stdout",
     "output_type": "stream",
     "text": [
      "{'one': 1, 'two': 2, 'three': 3}\n"
     ]
    }
   ],
   "source": [
    "# 通用函数：len,max,min,dict\n",
    "# str(字典)：返回字典的字符串格式\n",
    "d = {\"one\":1, \"two\":2, \"three\":3}\n",
    "print(str(d))"
   ]
  },
  {
   "cell_type": "code",
   "execution_count": 37,
   "metadata": {},
   "outputs": [
    {
     "name": "stdout",
     "output_type": "stream",
     "text": [
      "<class 'dict_items'>\n",
      "dict_items([('one', 1), ('two', 2), ('three', 3)])\n"
     ]
    }
   ],
   "source": [
    "# items:返回字典的键值对组成的元祖格式\n",
    "\n",
    "d = {\"one\":1, \"two\":2, \"three\":3}\n",
    "i = d.items()\n",
    "print(type(i))\n",
    "print(i)\n",
    "# 生成一个可迭代的类型"
   ]
  },
  {
   "cell_type": "code",
   "execution_count": 38,
   "metadata": {},
   "outputs": [
    {
     "name": "stdout",
     "output_type": "stream",
     "text": [
      "<class 'dict_keys'>\n",
      "dict_keys(['one', 'two', 'three'])\n"
     ]
    }
   ],
   "source": [
    "# keys: 返回字典的键组成的一个结构\n",
    "k = d.keys()\n",
    "print(type(k))\n",
    "print(k)\n",
    "# 同理可证values,一个可迭代结构"
   ]
  },
  {
   "cell_type": "code",
   "execution_count": 43,
   "metadata": {},
   "outputs": [
    {
     "name": "stdout",
     "output_type": "stream",
     "text": [
      "1\n",
      "100\n",
      "None\n"
     ]
    },
    {
     "ename": "KeyError",
     "evalue": "'one333'",
     "output_type": "error",
     "traceback": [
      "\u001b[0;31m---------------------------------------------------------------------------\u001b[0m",
      "\u001b[0;31mKeyError\u001b[0m                                  Traceback (most recent call last)",
      "\u001b[0;32m<ipython-input-43-0025a03f0377>\u001b[0m in \u001b[0;36m<module>\u001b[0;34m()\u001b[0m\n\u001b[1;32m      6\u001b[0m \u001b[0;34m\u001b[0m\u001b[0m\n\u001b[1;32m      7\u001b[0m \u001b[0mprint\u001b[0m\u001b[0;34m(\u001b[0m\u001b[0md\u001b[0m\u001b[0;34m.\u001b[0m\u001b[0mget\u001b[0m\u001b[0;34m(\u001b[0m\u001b[0;34m\"one333\"\u001b[0m\u001b[0;34m)\u001b[0m\u001b[0;34m)\u001b[0m\u001b[0;34m\u001b[0m\u001b[0m\n\u001b[0;32m----> 8\u001b[0;31m \u001b[0mprint\u001b[0m\u001b[0;34m(\u001b[0m\u001b[0md\u001b[0m\u001b[0;34m[\u001b[0m\u001b[0;34m\"one333\"\u001b[0m\u001b[0;34m]\u001b[0m\u001b[0;34m)\u001b[0m\u001b[0;34m\u001b[0m\u001b[0m\n\u001b[0m",
      "\u001b[0;31mKeyError\u001b[0m: 'one333'"
     ]
    }
   ],
   "source": [
    "# get: 根据指定键返回相应值，它的好处是可以设置默认值\n",
    "d = {\"one\":1, \"two\":2, \"three\":3}\n",
    "print(d.get(\"one\"))\n",
    "# 默认值式none，可以设置\n",
    "print(d.get(\"one333\", 100))\n",
    "\n",
    "print(d.get(\"one333\"))\n",
    "print(d[\"one333\"])"
   ]
  },
  {
   "cell_type": "code",
   "execution_count": 44,
   "metadata": {},
   "outputs": [
    {
     "name": "stdout",
     "output_type": "stream",
     "text": [
      "{'eins': 'hahahaha', 'zwei': 'hahahaha', 'dree': 'hahahaha'}\n"
     ]
    }
   ],
   "source": [
    "# fromkeys: 使用指定的序列作为键，使用一个值作为字典的所有键的值\n",
    "l = ['eins','zwei','dree']\n",
    "# 注意fromkeys俩个参数的类型\n",
    "d = dict.fromkeys(l,\"hahahaha\")\n",
    "print(d)"
   ]
  },
  {
   "cell_type": "markdown",
   "metadata": {},
   "source": [
    "# str的用法"
   ]
  },
  {
   "cell_type": "code",
   "execution_count": 10,
   "metadata": {},
   "outputs": [
    {
     "name": "stdout",
     "output_type": "stream",
     "text": [
      "Help on class str in module builtins:\n",
      "\n",
      "class str(object)\n",
      " |  str(object='') -> str\n",
      " |  str(bytes_or_buffer[, encoding[, errors]]) -> str\n",
      " |  \n",
      " |  Create a new string object from the given object. If encoding or\n",
      " |  errors is specified, then the object must expose a data buffer\n",
      " |  that will be decoded using the given encoding and error handler.\n",
      " |  Otherwise, returns the result of object.__str__() (if defined)\n",
      " |  or repr(object).\n",
      " |  encoding defaults to sys.getdefaultencoding().\n",
      " |  errors defaults to 'strict'.\n",
      " |  \n",
      " |  Methods defined here:\n",
      " |  \n",
      " |  __add__(self, value, /)\n",
      " |      Return self+value.\n",
      " |  \n",
      " |  __contains__(self, key, /)\n",
      " |      Return key in self.\n",
      " |  \n",
      " |  __eq__(self, value, /)\n",
      " |      Return self==value.\n",
      " |  \n",
      " |  __format__(self, format_spec, /)\n",
      " |      Return a formatted version of the string as described by format_spec.\n",
      " |  \n",
      " |  __ge__(self, value, /)\n",
      " |      Return self>=value.\n",
      " |  \n",
      " |  __getattribute__(self, name, /)\n",
      " |      Return getattr(self, name).\n",
      " |  \n",
      " |  __getitem__(self, key, /)\n",
      " |      Return self[key].\n",
      " |  \n",
      " |  __getnewargs__(...)\n",
      " |  \n",
      " |  __gt__(self, value, /)\n",
      " |      Return self>value.\n",
      " |  \n",
      " |  __hash__(self, /)\n",
      " |      Return hash(self).\n",
      " |  \n",
      " |  __iter__(self, /)\n",
      " |      Implement iter(self).\n",
      " |  \n",
      " |  __le__(self, value, /)\n",
      " |      Return self<=value.\n",
      " |  \n",
      " |  __len__(self, /)\n",
      " |      Return len(self).\n",
      " |  \n",
      " |  __lt__(self, value, /)\n",
      " |      Return self<value.\n",
      " |  \n",
      " |  __mod__(self, value, /)\n",
      " |      Return self%value.\n",
      " |  \n",
      " |  __mul__(self, value, /)\n",
      " |      Return self*value.\n",
      " |  \n",
      " |  __ne__(self, value, /)\n",
      " |      Return self!=value.\n",
      " |  \n",
      " |  __repr__(self, /)\n",
      " |      Return repr(self).\n",
      " |  \n",
      " |  __rmod__(self, value, /)\n",
      " |      Return value%self.\n",
      " |  \n",
      " |  __rmul__(self, value, /)\n",
      " |      Return value*self.\n",
      " |  \n",
      " |  __sizeof__(self, /)\n",
      " |      Return the size of the string in memory, in bytes.\n",
      " |  \n",
      " |  __str__(self, /)\n",
      " |      Return str(self).\n",
      " |  \n",
      " |  capitalize(self, /)\n",
      " |      Return a capitalized version of the string.\n",
      " |      \n",
      " |      More specifically, make the first character have upper case and the rest lower\n",
      " |      case.\n",
      " |  \n",
      " |  casefold(self, /)\n",
      " |      Return a version of the string suitable for caseless comparisons.\n",
      " |  \n",
      " |  center(self, width, fillchar=' ', /)\n",
      " |      Return a centered string of length width.\n",
      " |      \n",
      " |      Padding is done using the specified fill character (default is a space).\n",
      " |  \n",
      " |  count(...)\n",
      " |      S.count(sub[, start[, end]]) -> int\n",
      " |      \n",
      " |      Return the number of non-overlapping occurrences of substring sub in\n",
      " |      string S[start:end].  Optional arguments start and end are\n",
      " |      interpreted as in slice notation.\n",
      " |  \n",
      " |  encode(self, /, encoding='utf-8', errors='strict')\n",
      " |      Encode the string using the codec registered for encoding.\n",
      " |      \n",
      " |      encoding\n",
      " |        The encoding in which to encode the string.\n",
      " |      errors\n",
      " |        The error handling scheme to use for encoding errors.\n",
      " |        The default is 'strict' meaning that encoding errors raise a\n",
      " |        UnicodeEncodeError.  Other possible values are 'ignore', 'replace' and\n",
      " |        'xmlcharrefreplace' as well as any other name registered with\n",
      " |        codecs.register_error that can handle UnicodeEncodeErrors.\n",
      " |  \n",
      " |  endswith(...)\n",
      " |      S.endswith(suffix[, start[, end]]) -> bool\n",
      " |      \n",
      " |      Return True if S ends with the specified suffix, False otherwise.\n",
      " |      With optional start, test S beginning at that position.\n",
      " |      With optional end, stop comparing S at that position.\n",
      " |      suffix can also be a tuple of strings to try.\n",
      " |  \n",
      " |  expandtabs(self, /, tabsize=8)\n",
      " |      Return a copy where all tab characters are expanded using spaces.\n",
      " |      \n",
      " |      If tabsize is not given, a tab size of 8 characters is assumed.\n",
      " |  \n",
      " |  find(...)\n",
      " |      S.find(sub[, start[, end]]) -> int\n",
      " |      \n",
      " |      Return the lowest index in S where substring sub is found,\n",
      " |      such that sub is contained within S[start:end].  Optional\n",
      " |      arguments start and end are interpreted as in slice notation.\n",
      " |      \n",
      " |      Return -1 on failure.\n",
      " |  \n",
      " |  format(...)\n",
      " |      S.format(*args, **kwargs) -> str\n",
      " |      \n",
      " |      Return a formatted version of S, using substitutions from args and kwargs.\n",
      " |      The substitutions are identified by braces ('{' and '}').\n",
      " |  \n",
      " |  format_map(...)\n",
      " |      S.format_map(mapping) -> str\n",
      " |      \n",
      " |      Return a formatted version of S, using substitutions from mapping.\n",
      " |      The substitutions are identified by braces ('{' and '}').\n",
      " |  \n",
      " |  index(...)\n",
      " |      S.index(sub[, start[, end]]) -> int\n",
      " |      \n",
      " |      Return the lowest index in S where substring sub is found, \n",
      " |      such that sub is contained within S[start:end].  Optional\n",
      " |      arguments start and end are interpreted as in slice notation.\n",
      " |      \n",
      " |      Raises ValueError when the substring is not found.\n",
      " |  \n",
      " |  isalnum(self, /)\n",
      " |      Return True if the string is an alpha-numeric string, False otherwise.\n",
      " |      \n",
      " |      A string is alpha-numeric if all characters in the string are alpha-numeric and\n",
      " |      there is at least one character in the string.\n",
      " |  \n",
      " |  isalpha(self, /)\n",
      " |      Return True if the string is an alphabetic string, False otherwise.\n",
      " |      \n",
      " |      A string is alphabetic if all characters in the string are alphabetic and there\n",
      " |      is at least one character in the string.\n",
      " |  \n",
      " |  isascii(self, /)\n",
      " |      Return True if all characters in the string are ASCII, False otherwise.\n",
      " |      \n",
      " |      ASCII characters have code points in the range U+0000-U+007F.\n",
      " |      Empty string is ASCII too.\n",
      " |  \n",
      " |  isdecimal(self, /)\n",
      " |      Return True if the string is a decimal string, False otherwise.\n",
      " |      \n",
      " |      A string is a decimal string if all characters in the string are decimal and\n",
      " |      there is at least one character in the string.\n",
      " |  \n",
      " |  isdigit(self, /)\n",
      " |      Return True if the string is a digit string, False otherwise.\n",
      " |      \n",
      " |      A string is a digit string if all characters in the string are digits and there\n",
      " |      is at least one character in the string.\n",
      " |  \n",
      " |  isidentifier(self, /)\n",
      " |      Return True if the string is a valid Python identifier, False otherwise.\n",
      " |      \n",
      " |      Use keyword.iskeyword() to test for reserved identifiers such as \"def\" and\n",
      " |      \"class\".\n",
      " |  \n",
      " |  islower(self, /)\n",
      " |      Return True if the string is a lowercase string, False otherwise.\n",
      " |      \n",
      " |      A string is lowercase if all cased characters in the string are lowercase and\n",
      " |      there is at least one cased character in the string.\n",
      " |  \n",
      " |  isnumeric(self, /)\n",
      " |      Return True if the string is a numeric string, False otherwise.\n",
      " |      \n",
      " |      A string is numeric if all characters in the string are numeric and there is at\n",
      " |      least one character in the string.\n",
      " |  \n",
      " |  isprintable(self, /)\n",
      " |      Return True if the string is printable, False otherwise.\n",
      " |      \n",
      " |      A string is printable if all of its characters are considered printable in\n",
      " |      repr() or if it is empty.\n",
      " |  \n",
      " |  isspace(self, /)\n",
      " |      Return True if the string is a whitespace string, False otherwise.\n",
      " |      \n",
      " |      A string is whitespace if all characters in the string are whitespace and there\n",
      " |      is at least one character in the string.\n",
      " |  \n",
      " |  istitle(self, /)\n",
      " |      Return True if the string is a title-cased string, False otherwise.\n",
      " |      \n",
      " |      In a title-cased string, upper- and title-case characters may only\n",
      " |      follow uncased characters and lowercase characters only cased ones.\n",
      " |  \n",
      " |  isupper(self, /)\n",
      " |      Return True if the string is an uppercase string, False otherwise.\n",
      " |      \n",
      " |      A string is uppercase if all cased characters in the string are uppercase and\n",
      " |      there is at least one cased character in the string.\n",
      " |  \n",
      " |  join(self, iterable, /)\n",
      " |      Concatenate any number of strings.\n",
      " |      \n",
      " |      The string whose method is called is inserted in between each given string.\n",
      " |      The result is returned as a new string.\n",
      " |      \n",
      " |      Example: '.'.join(['ab', 'pq', 'rs']) -> 'ab.pq.rs'\n",
      " |  \n",
      " |  ljust(self, width, fillchar=' ', /)\n",
      " |      Return a left-justified string of length width.\n",
      " |      \n",
      " |      Padding is done using the specified fill character (default is a space).\n",
      " |  \n",
      " |  lower(self, /)\n",
      " |      Return a copy of the string converted to lowercase.\n",
      " |  \n",
      " |  lstrip(self, chars=None, /)\n",
      " |      Return a copy of the string with leading whitespace removed.\n",
      " |      \n",
      " |      If chars is given and not None, remove characters in chars instead.\n",
      " |  \n",
      " |  partition(self, sep, /)\n",
      " |      Partition the string into three parts using the given separator.\n",
      " |      \n",
      " |      This will search for the separator in the string.  If the separator is found,\n",
      " |      returns a 3-tuple containing the part before the separator, the separator\n",
      " |      itself, and the part after it.\n",
      " |      \n",
      " |      If the separator is not found, returns a 3-tuple containing the original string\n",
      " |      and two empty strings.\n",
      " |  \n",
      " |  replace(self, old, new, count=-1, /)\n",
      " |      Return a copy with all occurrences of substring old replaced by new.\n",
      " |      \n",
      " |        count\n",
      " |          Maximum number of occurrences to replace.\n",
      " |          -1 (the default value) means replace all occurrences.\n",
      " |      \n",
      " |      If the optional argument count is given, only the first count occurrences are\n",
      " |      replaced.\n",
      " |  \n",
      " |  rfind(...)\n",
      " |      S.rfind(sub[, start[, end]]) -> int\n",
      " |      \n",
      " |      Return the highest index in S where substring sub is found,\n",
      " |      such that sub is contained within S[start:end].  Optional\n",
      " |      arguments start and end are interpreted as in slice notation.\n",
      " |      \n",
      " |      Return -1 on failure.\n",
      " |  \n",
      " |  rindex(...)\n",
      " |      S.rindex(sub[, start[, end]]) -> int\n",
      " |      \n",
      " |      Return the highest index in S where substring sub is found,\n",
      " |      such that sub is contained within S[start:end].  Optional\n",
      " |      arguments start and end are interpreted as in slice notation.\n",
      " |      \n",
      " |      Raises ValueError when the substring is not found.\n",
      " |  \n",
      " |  rjust(self, width, fillchar=' ', /)\n",
      " |      Return a right-justified string of length width.\n",
      " |      \n",
      " |      Padding is done using the specified fill character (default is a space).\n",
      " |  \n",
      " |  rpartition(self, sep, /)\n",
      " |      Partition the string into three parts using the given separator.\n",
      " |      \n",
      " |      This will search for the separator in the string, starting at the end. If\n",
      " |      the separator is found, returns a 3-tuple containing the part before the\n",
      " |      separator, the separator itself, and the part after it.\n",
      " |      \n",
      " |      If the separator is not found, returns a 3-tuple containing two empty strings\n",
      " |      and the original string.\n",
      " |  \n",
      " |  rsplit(self, /, sep=None, maxsplit=-1)\n",
      " |      Return a list of the words in the string, using sep as the delimiter string.\n",
      " |      \n",
      " |        sep\n",
      " |          The delimiter according which to split the string.\n",
      " |          None (the default value) means split according to any whitespace,\n",
      " |          and discard empty strings from the result.\n",
      " |        maxsplit\n",
      " |          Maximum number of splits to do.\n",
      " |          -1 (the default value) means no limit.\n",
      " |      \n",
      " |      Splits are done starting at the end of the string and working to the front.\n",
      " |  \n",
      " |  rstrip(self, chars=None, /)\n",
      " |      Return a copy of the string with trailing whitespace removed.\n",
      " |      \n",
      " |      If chars is given and not None, remove characters in chars instead.\n",
      " |  \n",
      " |  split(self, /, sep=None, maxsplit=-1)\n",
      " |      Return a list of the words in the string, using sep as the delimiter string.\n",
      " |      \n",
      " |      sep\n",
      " |        The delimiter according which to split the string.\n",
      " |        None (the default value) means split according to any whitespace,\n",
      " |        and discard empty strings from the result.\n",
      " |      maxsplit\n",
      " |        Maximum number of splits to do.\n",
      " |        -1 (the default value) means no limit.\n",
      " |  \n",
      " |  splitlines(self, /, keepends=False)\n",
      " |      Return a list of the lines in the string, breaking at line boundaries.\n",
      " |      \n",
      " |      Line breaks are not included in the resulting list unless keepends is given and\n",
      " |      true.\n",
      " |  \n",
      " |  startswith(...)\n",
      " |      S.startswith(prefix[, start[, end]]) -> bool\n",
      " |      \n",
      " |      Return True if S starts with the specified prefix, False otherwise.\n",
      " |      With optional start, test S beginning at that position.\n",
      " |      With optional end, stop comparing S at that position.\n",
      " |      prefix can also be a tuple of strings to try.\n",
      " |  \n",
      " |  strip(self, chars=None, /)\n",
      " |      Return a copy of the string with leading and trailing whitespace remove.\n",
      " |      \n",
      " |      If chars is given and not None, remove characters in chars instead.\n",
      " |  \n",
      " |  swapcase(self, /)\n",
      " |      Convert uppercase characters to lowercase and lowercase characters to uppercase.\n",
      " |  \n",
      " |  title(self, /)\n",
      " |      Return a version of the string where each word is titlecased.\n",
      " |      \n",
      " |      More specifically, words start with uppercased characters and all remaining\n",
      " |      cased characters have lower case.\n",
      " |  \n",
      " |  translate(self, table, /)\n",
      " |      Replace each character in the string using the given translation table.\n",
      " |      \n",
      " |        table\n",
      " |          Translation table, which must be a mapping of Unicode ordinals to\n",
      " |          Unicode ordinals, strings, or None.\n",
      " |      \n",
      " |      The table must implement lookup/indexing via __getitem__, for instance a\n",
      " |      dictionary or list.  If this operation raises LookupError, the character is\n",
      " |      left untouched.  Characters mapped to None are deleted.\n",
      " |  \n",
      " |  upper(self, /)\n",
      " |      Return a copy of the string converted to uppercase.\n",
      " |  \n",
      " |  zfill(self, width, /)\n",
      " |      Pad a numeric string with zeros on the left, to fill a field of the given width.\n",
      " |      \n",
      " |      The string is never truncated.\n",
      " |  \n",
      " |  ----------------------------------------------------------------------\n",
      " |  Static methods defined here:\n",
      " |  \n",
      " |  __new__(*args, **kwargs) from builtins.type\n",
      " |      Create and return a new object.  See help(type) for accurate signature.\n",
      " |  \n",
      " |  maketrans(x, y=None, z=None, /)\n",
      " |      Return a translation table usable for str.translate().\n",
      " |      \n",
      " |      If there is only one argument, it must be a dictionary mapping Unicode\n",
      " |      ordinals (integers) or characters to Unicode ordinals, strings or None.\n",
      " |      Character keys will be then converted to ordinals.\n",
      " |      If there are two arguments, they must be strings of equal length, and\n",
      " |      in the resulting dictionary, each character in x will be mapped to the\n",
      " |      character at the same position in y. If there is a third argument, it\n",
      " |      must be a string, whose characters will be mapped to None in the result.\n",
      "\n"
     ]
    }
   ],
   "source": [
    "help(str)"
   ]
  },
  {
   "cell_type": "code",
   "execution_count": 11,
   "metadata": {},
   "outputs": [
    {
     "name": "stdout",
     "output_type": "stream",
     "text": [
      "I love wangxiaokjing\n"
     ]
    }
   ],
   "source": [
    "# capitalize 首字母大写，其余小写，返回字符串\n",
    "s = \"i love wangxiaokjing\"\n",
    "print(s.capitalize())"
   ]
  },
  {
   "cell_type": "code",
   "execution_count": 12,
   "metadata": {},
   "outputs": [
    {
     "name": "stdout",
     "output_type": "stream",
     "text": [
      "I Love Wangxiaojing\n"
     ]
    }
   ],
   "source": [
    "# title()将每个单词的首写字母变为大写，返回的是字符串\n",
    "\n",
    "s = \"i love wangxiaojing\"\n",
    "s1 = s.title()\n",
    "print(s1)"
   ]
  },
  {
   "cell_type": "code",
   "execution_count": 13,
   "metadata": {},
   "outputs": [
    {
     "name": "stdout",
     "output_type": "stream",
     "text": [
      "I LOVE WANGXIAOJING\n",
      "i love wangxiaojing\n"
     ]
    }
   ],
   "source": [
    "# upper() /lower()将所有字母变为大/小写字母，返回的是字符串\n",
    "s = \"i love wangxiaojing\"\n",
    "s1 = \"I LOVE WANGXIAOJING\"\n",
    "print(s.upper())\n",
    "print(s1.lower())"
   ]
  },
  {
   "cell_type": "code",
   "execution_count": 14,
   "metadata": {},
   "outputs": [
    {
     "name": "stdout",
     "output_type": "stream",
     "text": [
      "10\n",
      "9\n"
     ]
    }
   ],
   "source": [
    "# swapcase()大小写互换\n",
    "# len()计算字符串长度，不属于字符串的内建函数\n",
    "# len统计长度是按字符个数统计，一个汉子的长度为1\n",
    "s = \"阿大师大师大师大师答\"\n",
    "s1 = \"I LIKE 狗生\"\n",
    "print(len(s))\n",
    "print(len(s1))"
   ]
  },
  {
   "cell_type": "code",
   "execution_count": 17,
   "metadata": {},
   "outputs": [
    {
     "name": "stdout",
     "output_type": "stream",
     "text": [
      "5\n",
      "0\n",
      "Help on method_descriptor:\n",
      "\n",
      "find(...)\n",
      "    S.find(sub[, start[, end]]) -> int\n",
      "    \n",
      "    Return the lowest index in S where substring sub is found,\n",
      "    such that sub is contained within S[start:end].  Optional\n",
      "    arguments start and end are interpreted as in slice notation.\n",
      "    \n",
      "    Return -1 on failure.\n",
      "\n",
      "Help on method_descriptor:\n",
      "\n",
      "index(...)\n",
      "    S.index(sub[, start[, end]]) -> int\n",
      "    \n",
      "    Return the lowest index in S where substring sub is found, \n",
      "    such that sub is contained within S[start:end].  Optional\n",
      "    arguments start and end are interpreted as in slice notation.\n",
      "    \n",
      "    Raises ValueError when the substring is not found.\n",
      "\n"
     ]
    }
   ],
   "source": [
    "# find()查找指定字符串，找不到返回-1 第一次找到返回第一次索引值\n",
    "# index()查找指定字符串，找不到报错\n",
    "s = \"asadasdadasdsaffaff\"\n",
    "s1 = s.find('s',3)\n",
    "s2 = s.index('a')\n",
    "print(s1)\n",
    "print(s2)\n",
    "help(str.find)\n",
    "help(str.index)"
   ]
  },
  {
   "cell_type": "code",
   "execution_count": 18,
   "metadata": {},
   "outputs": [
    {
     "name": "stdout",
     "output_type": "stream",
     "text": [
      "5\n"
     ]
    }
   ],
   "source": [
    "# count() 计算字符串出现次数，返回整数\n",
    "s = \"asdasdfasdfsdafadsfa\"\n",
    "print(s.count('s'))"
   ]
  },
  {
   "cell_type": "code",
   "execution_count": 21,
   "metadata": {},
   "outputs": [
    {
     "name": "stdout",
     "output_type": "stream",
     "text": [
      "False\n",
      "True\n"
     ]
    }
   ],
   "source": [
    "# startswith()检查是否以指定字母开头，分会布尔值\n",
    "# endswith()检查是否以指定字母结束\n",
    "s = 'I LIKE DOG'\n",
    "print(s.startswith(\"i\"))\n",
    "print(s.endswith(\"G\"))"
   ]
  },
  {
   "cell_type": "code",
   "execution_count": 22,
   "metadata": {},
   "outputs": [
    {
     "name": "stdout",
     "output_type": "stream",
     "text": [
      "True\n",
      "False\n",
      "True\n"
     ]
    }
   ],
   "source": [
    "# isupper()检测说有字母是否都是大写字母，返回布尔值\n",
    "# islower\n",
    "# istitle\n",
    "#isspace()检测字符串是否是空字符串\n",
    "s = ' ' \n",
    "s1 = \"i  asd\"\n",
    "s2 = \" \"# 至少有一个，否则返回false\n",
    "print(s.isspace())\n",
    "print(s1.isspace())\n",
    "print(s2.isspace())"
   ]
  },
  {
   "cell_type": "code",
   "execution_count": 26,
   "metadata": {},
   "outputs": [
    {
     "name": "stdout",
     "output_type": "stream",
     "text": [
      "False\n",
      "True\n",
      "True\n",
      "True\n",
      "True\n",
      "====================\n",
      "True\n",
      "====================\n",
      "False\n",
      "False\n",
      "False\n",
      "====================\n",
      "False\n",
      "False\n",
      "True\n",
      "====================\n",
      "False\n",
      "False\n",
      "False\n",
      "====================\n"
     ]
    }
   ],
   "source": [
    "# isalpha()检测字符串时候是字母组成 返回布尔值\n",
    "# 说明：汉子在英文字符包裹中被单座字符处理\n",
    "s = 'i 够like dog'\n",
    "s1 = 'i够likedog'\n",
    "print(s.isalpha())\n",
    "print(s1.isalpha())\n",
    "# isalnum()检测字符串是否由字母加数字组成或全是字母或全是数字，返回布尔值\n",
    "# 下面三个检测是否全是由数字组成，区别看例子\n",
    "# isdigit()\n",
    "# isdecimal()\n",
    "# isnumeric()\n",
    "s = '123'\n",
    "print(s.isdigit())\n",
    "print(s.isdecimal())\n",
    "print(s.isnumeric())\n",
    "print('='*20)\n",
    "s = b'101100'\n",
    "print(s.isdigit())\n",
    "# print(s.isdecimal())\n",
    "# print(s.isnumeric())\n",
    "print('='*20)\n",
    "s = '123.2'\n",
    "print(s.isdigit())\n",
    "print(s.isdecimal())\n",
    "print(s.isnumeric())\n",
    "print('='*20)\n",
    "s = '叁壹佰'\n",
    "print(s.isdigit())\n",
    "print(s.isdecimal())\n",
    "print(s.isnumeric())\n",
    "print('='*20)\n",
    "s = \"III\"# 罗马数字三\n",
    "print(s.isdigit())\n",
    "print(s.isdecimal())\n",
    "print(s.isnumeric())\n",
    "print('='*20)"
   ]
  },
  {
   "cell_type": "code",
   "execution_count": 31,
   "metadata": {},
   "outputs": [
    {
     "name": "stdout",
     "output_type": "stream",
     "text": [
      "Help on method_descriptor:\n",
      "\n",
      "isdigit(self, /)\n",
      "    Return True if the string is a digit string, False otherwise.\n",
      "    \n",
      "    A string is a digit string if all characters in the string are digits and there\n",
      "    is at least one character in the string.\n",
      "\n",
      "Help on method_descriptor:\n",
      "\n",
      "isnumeric(self, /)\n",
      "    Return True if the string is a numeric string, False otherwise.\n",
      "    \n",
      "    A string is numeric if all characters in the string are numeric and there is at\n",
      "    least one character in the string.\n",
      "\n",
      "Help on method_descriptor:\n",
      "\n",
      "isdecimal(self, /)\n",
      "    Return True if the string is a decimal string, False otherwise.\n",
      "    \n",
      "    A string is a decimal string if all characters in the string are decimal and\n",
      "    there is at least one character in the string.\n",
      "\n"
     ]
    }
   ],
   "source": [
    "help(str.isdigit)\n",
    "help(str.isnumeric)\n",
    "help(str.isdecimal)"
   ]
  },
  {
   "cell_type": "code",
   "execution_count": 32,
   "metadata": {},
   "outputs": [
    {
     "name": "stdout",
     "output_type": "stream",
     "text": [
      "['日照香炉生紫烟', '疑是银河落九天']\n"
     ]
    }
   ],
   "source": [
    "# split()用指定字符切割字符串 返回由字符串组成的列表\n",
    "s = '日照香炉生紫烟*疑是银河落九天'\n",
    "list1 = s.split('*')\n",
    "print(list1)"
   ]
  },
  {
   "cell_type": "code",
   "execution_count": 33,
   "metadata": {},
   "outputs": [
    {
     "name": "stdout",
     "output_type": "stream",
     "text": [
      "['日照香炉生紫烟', '疑似银', '河落九天', '飞流直下三千尺']\n"
     ]
    }
   ],
   "source": [
    "# splitlines()  以换行切割字符串\n",
    "s = '''日照香炉生紫烟\\n疑似银\\n河落九天\n",
    "飞流直下三千尺'''\n",
    "print(s.splitlines())"
   ]
  },
  {
   "cell_type": "code",
   "execution_count": 34,
   "metadata": {},
   "outputs": [
    {
     "name": "stdout",
     "output_type": "stream",
     "text": [
      "日照香炉生紫烟*疑是银河落九天*飞流直下三千尺\n"
     ]
    }
   ],
   "source": [
    "# join()将列表按照指定字符串连接  返回的是字符串\n",
    "list1 = ['日照香炉生紫烟','疑是银河落九天','飞流直下三千尺']\n",
    "s = '*'.join(list1)\n",
    "print(s)"
   ]
  },
  {
   "cell_type": "code",
   "execution_count": 35,
   "metadata": {},
   "outputs": [
    {
     "name": "stdout",
     "output_type": "stream",
     "text": [
      "3\n",
      "abc  a\n"
     ]
    }
   ],
   "source": [
    "# ljust() 指定字符串长度，内容靠左边，不足的位置用指定字符串填充，默认空格，返回字符串\n",
    "s = 'abc'\n",
    "print(len(s))\n",
    "print(s.ljust(5)+'a')"
   ]
  },
  {
   "cell_type": "code",
   "execution_count": 40,
   "metadata": {},
   "outputs": [
    {
     "name": "stdout",
     "output_type": "stream",
     "text": [
      "#abc#\n"
     ]
    }
   ],
   "source": [
    "s = 'abc'\n",
    "# center() 指定字符串长度，内容居中，不足的位置用指定字符串填充，默认空格，返回字符串\n",
    "print(s.center(5,'#'))"
   ]
  },
  {
   "cell_type": "code",
   "execution_count": 41,
   "metadata": {},
   "outputs": [
    {
     "name": "stdout",
     "output_type": "stream",
     "text": [
      "##abc\n"
     ]
    }
   ],
   "source": [
    "# rjust() 指定字符串长度，内容靠右，不足的位置用指定字符串填充，默认空格，返回字符串\n",
    "print(s.rjust(5,'#'))"
   ]
  },
  {
   "cell_type": "code",
   "execution_count": 43,
   "metadata": {},
   "outputs": [
    {
     "name": "stdout",
     "output_type": "stream",
     "text": [
      "---abc--\n",
      "--    abc --\n",
      "bcc\n",
      "aaab\n"
     ]
    }
   ],
   "source": [
    "# strip()去掉左右俩边指定字符，默认是去掉空格\n",
    "# lstrip()去掉左侧指定字符，默认空格\n",
    "# rstrip()去掉右侧指定字符，默认空格\n",
    "s = '    abc '\n",
    "print('---'+s.strip()+'--')\n",
    "print('--'+s+'--')\n",
    "s = 'aaabcc'\n",
    "print(s.lstrip('a'))\n",
    "print(s.rstrip('c'))"
   ]
  },
  {
   "cell_type": "code",
   "execution_count": 44,
   "metadata": {},
   "outputs": [
    {
     "name": "stdout",
     "output_type": "stream",
     "text": [
      "00abc\n"
     ]
    }
   ],
   "source": [
    "# zfill()指定字符串长度，内容靠右，不足的位置用0填充\n",
    "s = 'abc'\n",
    "print(s.zfill(5))"
   ]
  },
  {
   "cell_type": "code",
   "execution_count": 46,
   "metadata": {},
   "outputs": [
    {
     "name": "stdout",
     "output_type": "stream",
     "text": [
      "{23567: 22823, 28818: 30333, 32905: 33756}\n",
      "今晚我吃的是大白菜，可好吃了\n"
     ]
    }
   ],
   "source": [
    "# maketrans()生成用于字符串替换的映射表\n",
    "# translate()进行字符串替换\n",
    "s = '今晚我吃的是小炒肉，可好吃了'\n",
    "table = s.maketrans('小炒肉','大白菜')\n",
    "print(table)\n",
    "print(s.translate(table))"
   ]
  },
  {
   "cell_type": "code",
   "execution_count": 47,
   "metadata": {},
   "outputs": [
    {
     "ename": "ValueError",
     "evalue": "the first two maketrans arguments must have equal length",
     "output_type": "error",
     "traceback": [
      "\u001b[0;31m---------------------------------------------------------------------------\u001b[0m",
      "\u001b[0;31mValueError\u001b[0m                                Traceback (most recent call last)",
      "\u001b[0;32m<ipython-input-47-a3960fc830e9>\u001b[0m in \u001b[0;36m<module>\u001b[0;34m()\u001b[0m\n\u001b[1;32m      1\u001b[0m \u001b[0ms\u001b[0m \u001b[0;34m=\u001b[0m \u001b[0;34m'今晚我吃的是小炒肉，可好吃了'\u001b[0m\u001b[0;34m\u001b[0m\u001b[0m\n\u001b[0;32m----> 2\u001b[0;31m \u001b[0mtable\u001b[0m \u001b[0;34m=\u001b[0m \u001b[0ms\u001b[0m\u001b[0;34m.\u001b[0m\u001b[0mmaketrans\u001b[0m\u001b[0;34m(\u001b[0m\u001b[0;34m'小炒肉'\u001b[0m\u001b[0;34m,\u001b[0m\u001b[0;34m'大白菜和粉条'\u001b[0m\u001b[0;34m)\u001b[0m\u001b[0;34m\u001b[0m\u001b[0m\n\u001b[0m\u001b[1;32m      3\u001b[0m \u001b[0mprint\u001b[0m\u001b[0;34m(\u001b[0m\u001b[0mtable\u001b[0m\u001b[0;34m)\u001b[0m\u001b[0;34m\u001b[0m\u001b[0m\n\u001b[1;32m      4\u001b[0m \u001b[0mprint\u001b[0m\u001b[0;34m(\u001b[0m\u001b[0ms\u001b[0m\u001b[0;34m.\u001b[0m\u001b[0mtranslate\u001b[0m\u001b[0;34m(\u001b[0m\u001b[0mtable\u001b[0m\u001b[0;34m)\u001b[0m\u001b[0;34m)\u001b[0m\u001b[0;34m\u001b[0m\u001b[0m\n",
      "\u001b[0;31mValueError\u001b[0m: the first two maketrans arguments must have equal length"
     ]
    }
   ],
   "source": [
    "s = '今晚我吃的是小炒肉，可好吃了'\n",
    "# 长度要一样，否则报错\n",
    "table = s.maketrans('小炒肉','大白菜和粉条')\n",
    "print(table)\n",
    "print(s.translate(table))"
   ]
  },
  {
   "cell_type": "code",
   "execution_count": 1,
   "metadata": {},
   "outputs": [
    {
     "name": "stdout",
     "output_type": "stream",
     "text": [
      "Help on class list in module builtins:\n",
      "\n",
      "class list(object)\n",
      " |  list(iterable=(), /)\n",
      " |  \n",
      " |  Built-in mutable sequence.\n",
      " |  \n",
      " |  If no argument is given, the constructor creates a new empty list.\n",
      " |  The argument must be an iterable if specified.\n",
      " |  \n",
      " |  Methods defined here:\n",
      " |  \n",
      " |  __add__(self, value, /)\n",
      " |      Return self+value.\n",
      " |  \n",
      " |  __contains__(self, key, /)\n",
      " |      Return key in self.\n",
      " |  \n",
      " |  __delitem__(self, key, /)\n",
      " |      Delete self[key].\n",
      " |  \n",
      " |  __eq__(self, value, /)\n",
      " |      Return self==value.\n",
      " |  \n",
      " |  __ge__(self, value, /)\n",
      " |      Return self>=value.\n",
      " |  \n",
      " |  __getattribute__(self, name, /)\n",
      " |      Return getattr(self, name).\n",
      " |  \n",
      " |  __getitem__(...)\n",
      " |      x.__getitem__(y) <==> x[y]\n",
      " |  \n",
      " |  __gt__(self, value, /)\n",
      " |      Return self>value.\n",
      " |  \n",
      " |  __iadd__(self, value, /)\n",
      " |      Implement self+=value.\n",
      " |  \n",
      " |  __imul__(self, value, /)\n",
      " |      Implement self*=value.\n",
      " |  \n",
      " |  __init__(self, /, *args, **kwargs)\n",
      " |      Initialize self.  See help(type(self)) for accurate signature.\n",
      " |  \n",
      " |  __iter__(self, /)\n",
      " |      Implement iter(self).\n",
      " |  \n",
      " |  __le__(self, value, /)\n",
      " |      Return self<=value.\n",
      " |  \n",
      " |  __len__(self, /)\n",
      " |      Return len(self).\n",
      " |  \n",
      " |  __lt__(self, value, /)\n",
      " |      Return self<value.\n",
      " |  \n",
      " |  __mul__(self, value, /)\n",
      " |      Return self*value.\n",
      " |  \n",
      " |  __ne__(self, value, /)\n",
      " |      Return self!=value.\n",
      " |  \n",
      " |  __repr__(self, /)\n",
      " |      Return repr(self).\n",
      " |  \n",
      " |  __reversed__(self, /)\n",
      " |      Return a reverse iterator over the list.\n",
      " |  \n",
      " |  __rmul__(self, value, /)\n",
      " |      Return value*self.\n",
      " |  \n",
      " |  __setitem__(self, key, value, /)\n",
      " |      Set self[key] to value.\n",
      " |  \n",
      " |  __sizeof__(self, /)\n",
      " |      Return the size of the list in memory, in bytes.\n",
      " |  \n",
      " |  append(self, object, /)\n",
      " |      Append object to the end of the list.\n",
      " |  \n",
      " |  clear(self, /)\n",
      " |      Remove all items from list.\n",
      " |  \n",
      " |  copy(self, /)\n",
      " |      Return a shallow copy of the list.\n",
      " |  \n",
      " |  count(self, value, /)\n",
      " |      Return number of occurrences of value.\n",
      " |  \n",
      " |  extend(self, iterable, /)\n",
      " |      Extend list by appending elements from the iterable.\n",
      " |  \n",
      " |  index(self, value, start=0, stop=9223372036854775807, /)\n",
      " |      Return first index of value.\n",
      " |      \n",
      " |      Raises ValueError if the value is not present.\n",
      " |  \n",
      " |  insert(self, index, object, /)\n",
      " |      Insert object before index.\n",
      " |  \n",
      " |  pop(self, index=-1, /)\n",
      " |      Remove and return item at index (default last).\n",
      " |      \n",
      " |      Raises IndexError if list is empty or index is out of range.\n",
      " |  \n",
      " |  remove(self, value, /)\n",
      " |      Remove first occurrence of value.\n",
      " |      \n",
      " |      Raises ValueError if the value is not present.\n",
      " |  \n",
      " |  reverse(self, /)\n",
      " |      Reverse *IN PLACE*.\n",
      " |  \n",
      " |  sort(self, /, *, key=None, reverse=False)\n",
      " |      Stable sort *IN PLACE*.\n",
      " |  \n",
      " |  ----------------------------------------------------------------------\n",
      " |  Static methods defined here:\n",
      " |  \n",
      " |  __new__(*args, **kwargs) from builtins.type\n",
      " |      Create and return a new object.  See help(type) for accurate signature.\n",
      " |  \n",
      " |  ----------------------------------------------------------------------\n",
      " |  Data and other attributes defined here:\n",
      " |  \n",
      " |  __hash__ = None\n",
      "\n"
     ]
    }
   ],
   "source": [
    "help(list)"
   ]
  },
  {
   "cell_type": "code",
   "execution_count": 2,
   "metadata": {},
   "outputs": [
    {
     "name": "stdout",
     "output_type": "stream",
     "text": [
      "4355360200\n",
      "4355360200\n",
      "[1, 2, 3, 4, 5, 6, 7]\n"
     ]
    }
   ],
   "source": [
    "# append()向列表末尾添加新援色，返回None\n",
    "list1 = [1,2,3,4,5,6]\n",
    "print(id(list1))\n",
    "list1.append(7)\n",
    "print(id(list1))\n",
    "print(list1)"
   ]
  },
  {
   "cell_type": "code",
   "execution_count": 3,
   "metadata": {},
   "outputs": [
    {
     "name": "stdout",
     "output_type": "stream",
     "text": [
      "4355360072\n",
      "4355359560\n"
     ]
    }
   ],
   "source": [
    "# copy()赋值列表\n",
    "list1 = [1,2,3,4,5,6]\n",
    "list2 = list1.copy()\n",
    "print(id(list1))\n",
    "print(id(list2))"
   ]
  },
  {
   "cell_type": "code",
   "execution_count": 6,
   "metadata": {},
   "outputs": [
    {
     "name": "stdout",
     "output_type": "stream",
     "text": [
      "3\n"
     ]
    }
   ],
   "source": [
    "# count()计算某个元素在列表中出现的次数\n",
    "list1 = [1,1,2,3,5,4,1]\n",
    "print(list1.count(1))"
   ]
  },
  {
   "cell_type": "code",
   "execution_count": 14,
   "metadata": {},
   "outputs": [
    {
     "name": "stdout",
     "output_type": "stream",
     "text": [
      "4355398216\n",
      "[6, 7, 8, 9, 10]\n",
      "4355398216\n",
      "[1, 2, 3, 4, 5, 6, 7, 8, 9, 10]\n",
      "4355396552\n",
      "[6, 7, 8, 9, 10]\n",
      "None\n",
      "[1, 2, 3, 4, 5, 6, 7, 8, 9, 10, 6, 7, 8, 9, 10]\n"
     ]
    }
   ],
   "source": [
    "# extend()讲一个列表继承另一个列表\n",
    "list1 = [1,2,3,4,5]\n",
    "print(id(list1))\n",
    "list2 = [6,7,8,9,10]\n",
    "print(list2)\n",
    "list3 = list1.extend(list2)\n",
    "print(id(list1))\n",
    "print(list1)\n",
    "print(list2)\n",
    "print(list3)\n",
    "print(list1 + list2)"
   ]
  },
  {
   "cell_type": "code",
   "execution_count": 12,
   "metadata": {},
   "outputs": [
    {
     "name": "stdout",
     "output_type": "stream",
     "text": [
      "Help on method_descriptor:\n",
      "\n",
      "extend(self, iterable, /)\n",
      "    Extend list by appending elements from the iterable.\n",
      "\n"
     ]
    }
   ],
   "source": [
    "help(list.extend)"
   ]
  },
  {
   "cell_type": "code",
   "execution_count": 15,
   "metadata": {},
   "outputs": [
    {
     "name": "stdout",
     "output_type": "stream",
     "text": [
      "3\n"
     ]
    }
   ],
   "source": [
    "# index()  获取值在列表中的索引\n",
    "list1 = [1,1,2,3,4,5,6]\n",
    "print(list1.index(3))"
   ]
  },
  {
   "cell_type": "code",
   "execution_count": 16,
   "metadata": {},
   "outputs": [
    {
     "name": "stdout",
     "output_type": "stream",
     "text": [
      "3\n"
     ]
    }
   ],
   "source": [
    "print(list1.index(3,2,5))"
   ]
  },
  {
   "cell_type": "code",
   "execution_count": 17,
   "metadata": {},
   "outputs": [
    {
     "name": "stdout",
     "output_type": "stream",
     "text": [
      "Help on method_descriptor:\n",
      "\n",
      "index(self, value, start=0, stop=9223372036854775807, /)\n",
      "    Return first index of value.\n",
      "    \n",
      "    Raises ValueError if the value is not present.\n",
      "\n"
     ]
    }
   ],
   "source": [
    "help(list.index)"
   ]
  },
  {
   "cell_type": "code",
   "execution_count": 25,
   "metadata": {},
   "outputs": [
    {
     "name": "stdout",
     "output_type": "stream",
     "text": [
      "None\n",
      "Help on method_descriptor:\n",
      "\n",
      "insert(self, index, object, /)\n",
      "    Insert object before index.\n",
      "\n"
     ]
    }
   ],
   "source": [
    "# insert() 在指定位置前插入元素 ，2个参数\n",
    "list1 = [1,2,3,4,5,6]\n",
    "print(list1.insert(3,3))\n",
    "help(list.insert)"
   ]
  },
  {
   "cell_type": "code",
   "execution_count": 33,
   "metadata": {},
   "outputs": [
    {
     "name": "stdout",
     "output_type": "stream",
     "text": [
      "[1, 2, 4, 5, 6, 7, 8]\n",
      "8\n",
      "[1, 2, 4, 5, 6]\n",
      "6\n",
      "[1, 2, 4]\n",
      "4\n",
      "[1]\n",
      "1\n"
     ]
    },
    {
     "ename": "IndexError",
     "evalue": "pop from empty list",
     "output_type": "error",
     "traceback": [
      "\u001b[0;31m---------------------------------------------------------------------------\u001b[0m",
      "\u001b[0;31mIndexError\u001b[0m                                Traceback (most recent call last)",
      "\u001b[0;32m<ipython-input-33-be470208e88b>\u001b[0m in \u001b[0;36m<module>\u001b[0;34m()\u001b[0m\n\u001b[1;32m     13\u001b[0m \u001b[0mprint\u001b[0m\u001b[0;34m(\u001b[0m\u001b[0mlist1\u001b[0m\u001b[0;34m)\u001b[0m\u001b[0;34m\u001b[0m\u001b[0m\n\u001b[1;32m     14\u001b[0m \u001b[0mprint\u001b[0m\u001b[0;34m(\u001b[0m\u001b[0mlist1\u001b[0m\u001b[0;34m.\u001b[0m\u001b[0mpop\u001b[0m\u001b[0;34m(\u001b[0m\u001b[0;34m)\u001b[0m\u001b[0;34m)\u001b[0m\u001b[0;34m\u001b[0m\u001b[0m\n\u001b[0;32m---> 15\u001b[0;31m \u001b[0mlist1\u001b[0m\u001b[0;34m.\u001b[0m\u001b[0mpop\u001b[0m\u001b[0;34m(\u001b[0m\u001b[0;34m)\u001b[0m\u001b[0;34m\u001b[0m\u001b[0m\n\u001b[0m\u001b[1;32m     16\u001b[0m \u001b[0mprint\u001b[0m\u001b[0;34m(\u001b[0m\u001b[0mlist1\u001b[0m\u001b[0;34m)\u001b[0m\u001b[0;34m\u001b[0m\u001b[0m\n\u001b[1;32m     17\u001b[0m \u001b[0mprint\u001b[0m\u001b[0;34m(\u001b[0m\u001b[0mlist1\u001b[0m\u001b[0;34m.\u001b[0m\u001b[0mpop\u001b[0m\u001b[0;34m(\u001b[0m\u001b[0;34m)\u001b[0m\u001b[0;34m)\u001b[0m\u001b[0;34m\u001b[0m\u001b[0m\n",
      "\u001b[0;31mIndexError\u001b[0m: pop from empty list"
     ]
    }
   ],
   "source": [
    "# pop 根据索引译出列表内的一个元素，不给索引默认移除最后一个，返回移除哪个值\n",
    "list1 = [1,2,3,4,5,6,7,8]\n",
    "list1.pop(2)\n",
    "print(list1)\n",
    "print(list1.pop())\n",
    "list1.pop()\n",
    "print(list1)\n",
    "print(list1.pop())\n",
    "list1.pop()\n",
    "print(list1)\n",
    "print(list1.pop())\n",
    "list1.pop()\n",
    "print(list1)\n",
    "print(list1.pop())\n",
    "list1.pop()\n",
    "print(list1)\n",
    "print(list1.pop())\n"
   ]
  },
  {
   "cell_type": "code",
   "execution_count": 34,
   "metadata": {},
   "outputs": [
    {
     "name": "stdout",
     "output_type": "stream",
     "text": [
      "None\n",
      "['a', 'c', 'd']\n"
     ]
    }
   ],
   "source": [
    "# remove()  移除列表中指定值\n",
    "list1 = ['a','b','c','d']\n",
    "print(list1.remove('b'))\n",
    "print(list1)"
   ]
  },
  {
   "cell_type": "code",
   "execution_count": 35,
   "metadata": {},
   "outputs": [
    {
     "name": "stdout",
     "output_type": "stream",
     "text": [
      "4356032136\n",
      "4356032136\n",
      "[4, 3, 2, 1]\n"
     ]
    }
   ],
   "source": [
    "# reverse()列表翻转\n",
    "list1 = [1,2,3,4]\n",
    "print(id(list1))\n",
    "list1.reverse()\n",
    "print(id(list1))\n",
    "print(list1)"
   ]
  },
  {
   "cell_type": "code",
   "execution_count": 37,
   "metadata": {},
   "outputs": [
    {
     "name": "stdout",
     "output_type": "stream",
     "text": [
      "[2, 4, 4, 5, 7, 8, 9]\n",
      "[9, 8, 7, 5, 4, 4, 2]\n"
     ]
    }
   ],
   "source": [
    "# sort() 排序，默认从小到大\n",
    "list1 = [5,2,4,8,9,4,7]\n",
    "list1.sort()\n",
    "print(list1)\n",
    "# 倒着拍着\n",
    "list1.sort(reverse=True)\n",
    "print(list1)"
   ]
  },
  {
   "cell_type": "code",
   "execution_count": 38,
   "metadata": {},
   "outputs": [
    {
     "name": "stdout",
     "output_type": "stream",
     "text": [
      "Help on method_descriptor:\n",
      "\n",
      "sort(self, /, *, key=None, reverse=False)\n",
      "    Stable sort *IN PLACE*.\n",
      "\n"
     ]
    }
   ],
   "source": [
    "help(list.sort)"
   ]
  },
  {
   "cell_type": "code",
   "execution_count": 39,
   "metadata": {},
   "outputs": [
    {
     "name": "stdout",
     "output_type": "stream",
     "text": [
      "Help on class tuple in module builtins:\n",
      "\n",
      "class tuple(object)\n",
      " |  tuple(iterable=(), /)\n",
      " |  \n",
      " |  Built-in immutable sequence.\n",
      " |  \n",
      " |  If no argument is given, the constructor returns an empty tuple.\n",
      " |  If iterable is specified the tuple is initialized from iterable's items.\n",
      " |  \n",
      " |  If the argument is a tuple, the return value is the same object.\n",
      " |  \n",
      " |  Methods defined here:\n",
      " |  \n",
      " |  __add__(self, value, /)\n",
      " |      Return self+value.\n",
      " |  \n",
      " |  __contains__(self, key, /)\n",
      " |      Return key in self.\n",
      " |  \n",
      " |  __eq__(self, value, /)\n",
      " |      Return self==value.\n",
      " |  \n",
      " |  __ge__(self, value, /)\n",
      " |      Return self>=value.\n",
      " |  \n",
      " |  __getattribute__(self, name, /)\n",
      " |      Return getattr(self, name).\n",
      " |  \n",
      " |  __getitem__(self, key, /)\n",
      " |      Return self[key].\n",
      " |  \n",
      " |  __getnewargs__(self, /)\n",
      " |  \n",
      " |  __gt__(self, value, /)\n",
      " |      Return self>value.\n",
      " |  \n",
      " |  __hash__(self, /)\n",
      " |      Return hash(self).\n",
      " |  \n",
      " |  __iter__(self, /)\n",
      " |      Implement iter(self).\n",
      " |  \n",
      " |  __le__(self, value, /)\n",
      " |      Return self<=value.\n",
      " |  \n",
      " |  __len__(self, /)\n",
      " |      Return len(self).\n",
      " |  \n",
      " |  __lt__(self, value, /)\n",
      " |      Return self<value.\n",
      " |  \n",
      " |  __mul__(self, value, /)\n",
      " |      Return self*value.\n",
      " |  \n",
      " |  __ne__(self, value, /)\n",
      " |      Return self!=value.\n",
      " |  \n",
      " |  __repr__(self, /)\n",
      " |      Return repr(self).\n",
      " |  \n",
      " |  __rmul__(self, value, /)\n",
      " |      Return value*self.\n",
      " |  \n",
      " |  count(self, value, /)\n",
      " |      Return number of occurrences of value.\n",
      " |  \n",
      " |  index(self, value, start=0, stop=9223372036854775807, /)\n",
      " |      Return first index of value.\n",
      " |      \n",
      " |      Raises ValueError if the value is not present.\n",
      " |  \n",
      " |  ----------------------------------------------------------------------\n",
      " |  Static methods defined here:\n",
      " |  \n",
      " |  __new__(*args, **kwargs) from builtins.type\n",
      " |      Create and return a new object.  See help(type) for accurate signature.\n",
      "\n"
     ]
    }
   ],
   "source": [
    "help(tuple)"
   ]
  },
  {
   "cell_type": "code",
   "execution_count": 40,
   "metadata": {},
   "outputs": [
    {
     "name": "stdout",
     "output_type": "stream",
     "text": [
      "Help on class set in module builtins:\n",
      "\n",
      "class set(object)\n",
      " |  set() -> new empty set object\n",
      " |  set(iterable) -> new set object\n",
      " |  \n",
      " |  Build an unordered collection of unique elements.\n",
      " |  \n",
      " |  Methods defined here:\n",
      " |  \n",
      " |  __and__(self, value, /)\n",
      " |      Return self&value.\n",
      " |  \n",
      " |  __contains__(...)\n",
      " |      x.__contains__(y) <==> y in x.\n",
      " |  \n",
      " |  __eq__(self, value, /)\n",
      " |      Return self==value.\n",
      " |  \n",
      " |  __ge__(self, value, /)\n",
      " |      Return self>=value.\n",
      " |  \n",
      " |  __getattribute__(self, name, /)\n",
      " |      Return getattr(self, name).\n",
      " |  \n",
      " |  __gt__(self, value, /)\n",
      " |      Return self>value.\n",
      " |  \n",
      " |  __iand__(self, value, /)\n",
      " |      Return self&=value.\n",
      " |  \n",
      " |  __init__(self, /, *args, **kwargs)\n",
      " |      Initialize self.  See help(type(self)) for accurate signature.\n",
      " |  \n",
      " |  __ior__(self, value, /)\n",
      " |      Return self|=value.\n",
      " |  \n",
      " |  __isub__(self, value, /)\n",
      " |      Return self-=value.\n",
      " |  \n",
      " |  __iter__(self, /)\n",
      " |      Implement iter(self).\n",
      " |  \n",
      " |  __ixor__(self, value, /)\n",
      " |      Return self^=value.\n",
      " |  \n",
      " |  __le__(self, value, /)\n",
      " |      Return self<=value.\n",
      " |  \n",
      " |  __len__(self, /)\n",
      " |      Return len(self).\n",
      " |  \n",
      " |  __lt__(self, value, /)\n",
      " |      Return self<value.\n",
      " |  \n",
      " |  __ne__(self, value, /)\n",
      " |      Return self!=value.\n",
      " |  \n",
      " |  __or__(self, value, /)\n",
      " |      Return self|value.\n",
      " |  \n",
      " |  __rand__(self, value, /)\n",
      " |      Return value&self.\n",
      " |  \n",
      " |  __reduce__(...)\n",
      " |      Return state information for pickling.\n",
      " |  \n",
      " |  __repr__(self, /)\n",
      " |      Return repr(self).\n",
      " |  \n",
      " |  __ror__(self, value, /)\n",
      " |      Return value|self.\n",
      " |  \n",
      " |  __rsub__(self, value, /)\n",
      " |      Return value-self.\n",
      " |  \n",
      " |  __rxor__(self, value, /)\n",
      " |      Return value^self.\n",
      " |  \n",
      " |  __sizeof__(...)\n",
      " |      S.__sizeof__() -> size of S in memory, in bytes\n",
      " |  \n",
      " |  __sub__(self, value, /)\n",
      " |      Return self-value.\n",
      " |  \n",
      " |  __xor__(self, value, /)\n",
      " |      Return self^value.\n",
      " |  \n",
      " |  add(...)\n",
      " |      Add an element to a set.\n",
      " |      \n",
      " |      This has no effect if the element is already present.\n",
      " |  \n",
      " |  clear(...)\n",
      " |      Remove all elements from this set.\n",
      " |  \n",
      " |  copy(...)\n",
      " |      Return a shallow copy of a set.\n",
      " |  \n",
      " |  difference(...)\n",
      " |      Return the difference of two or more sets as a new set.\n",
      " |      \n",
      " |      (i.e. all elements that are in this set but not the others.)\n",
      " |  \n",
      " |  difference_update(...)\n",
      " |      Remove all elements of another set from this set.\n",
      " |  \n",
      " |  discard(...)\n",
      " |      Remove an element from a set if it is a member.\n",
      " |      \n",
      " |      If the element is not a member, do nothing.\n",
      " |  \n",
      " |  intersection(...)\n",
      " |      Return the intersection of two sets as a new set.\n",
      " |      \n",
      " |      (i.e. all elements that are in both sets.)\n",
      " |  \n",
      " |  intersection_update(...)\n",
      " |      Update a set with the intersection of itself and another.\n",
      " |  \n",
      " |  isdisjoint(...)\n",
      " |      Return True if two sets have a null intersection.\n",
      " |  \n",
      " |  issubset(...)\n",
      " |      Report whether another set contains this set.\n",
      " |  \n",
      " |  issuperset(...)\n",
      " |      Report whether this set contains another set.\n",
      " |  \n",
      " |  pop(...)\n",
      " |      Remove and return an arbitrary set element.\n",
      " |      Raises KeyError if the set is empty.\n",
      " |  \n",
      " |  remove(...)\n",
      " |      Remove an element from a set; it must be a member.\n",
      " |      \n",
      " |      If the element is not a member, raise a KeyError.\n",
      " |  \n",
      " |  symmetric_difference(...)\n",
      " |      Return the symmetric difference of two sets as a new set.\n",
      " |      \n",
      " |      (i.e. all elements that are in exactly one of the sets.)\n",
      " |  \n",
      " |  symmetric_difference_update(...)\n",
      " |      Update a set with the symmetric difference of itself and another.\n",
      " |  \n",
      " |  union(...)\n",
      " |      Return the union of sets as a new set.\n",
      " |      \n",
      " |      (i.e. all elements that are in either set.)\n",
      " |  \n",
      " |  update(...)\n",
      " |      Update a set with the union of itself and others.\n",
      " |  \n",
      " |  ----------------------------------------------------------------------\n",
      " |  Static methods defined here:\n",
      " |  \n",
      " |  __new__(*args, **kwargs) from builtins.type\n",
      " |      Create and return a new object.  See help(type) for accurate signature.\n",
      " |  \n",
      " |  ----------------------------------------------------------------------\n",
      " |  Data and other attributes defined here:\n",
      " |  \n",
      " |  __hash__ = None\n",
      "\n"
     ]
    }
   ],
   "source": [
    "help(set)"
   ]
  },
  {
   "cell_type": "code",
   "execution_count": 41,
   "metadata": {},
   "outputs": [
    {
     "name": "stdout",
     "output_type": "stream",
     "text": [
      "Help on class dict in module builtins:\n",
      "\n",
      "class dict(object)\n",
      " |  dict() -> new empty dictionary\n",
      " |  dict(mapping) -> new dictionary initialized from a mapping object's\n",
      " |      (key, value) pairs\n",
      " |  dict(iterable) -> new dictionary initialized as if via:\n",
      " |      d = {}\n",
      " |      for k, v in iterable:\n",
      " |          d[k] = v\n",
      " |  dict(**kwargs) -> new dictionary initialized with the name=value pairs\n",
      " |      in the keyword argument list.  For example:  dict(one=1, two=2)\n",
      " |  \n",
      " |  Methods defined here:\n",
      " |  \n",
      " |  __contains__(self, key, /)\n",
      " |      True if the dictionary has the specified key, else False.\n",
      " |  \n",
      " |  __delitem__(self, key, /)\n",
      " |      Delete self[key].\n",
      " |  \n",
      " |  __eq__(self, value, /)\n",
      " |      Return self==value.\n",
      " |  \n",
      " |  __ge__(self, value, /)\n",
      " |      Return self>=value.\n",
      " |  \n",
      " |  __getattribute__(self, name, /)\n",
      " |      Return getattr(self, name).\n",
      " |  \n",
      " |  __getitem__(...)\n",
      " |      x.__getitem__(y) <==> x[y]\n",
      " |  \n",
      " |  __gt__(self, value, /)\n",
      " |      Return self>value.\n",
      " |  \n",
      " |  __init__(self, /, *args, **kwargs)\n",
      " |      Initialize self.  See help(type(self)) for accurate signature.\n",
      " |  \n",
      " |  __iter__(self, /)\n",
      " |      Implement iter(self).\n",
      " |  \n",
      " |  __le__(self, value, /)\n",
      " |      Return self<=value.\n",
      " |  \n",
      " |  __len__(self, /)\n",
      " |      Return len(self).\n",
      " |  \n",
      " |  __lt__(self, value, /)\n",
      " |      Return self<value.\n",
      " |  \n",
      " |  __ne__(self, value, /)\n",
      " |      Return self!=value.\n",
      " |  \n",
      " |  __repr__(self, /)\n",
      " |      Return repr(self).\n",
      " |  \n",
      " |  __setitem__(self, key, value, /)\n",
      " |      Set self[key] to value.\n",
      " |  \n",
      " |  __sizeof__(...)\n",
      " |      D.__sizeof__() -> size of D in memory, in bytes\n",
      " |  \n",
      " |  clear(...)\n",
      " |      D.clear() -> None.  Remove all items from D.\n",
      " |  \n",
      " |  copy(...)\n",
      " |      D.copy() -> a shallow copy of D\n",
      " |  \n",
      " |  get(self, key, default=None, /)\n",
      " |      Return the value for key if key is in the dictionary, else default.\n",
      " |  \n",
      " |  items(...)\n",
      " |      D.items() -> a set-like object providing a view on D's items\n",
      " |  \n",
      " |  keys(...)\n",
      " |      D.keys() -> a set-like object providing a view on D's keys\n",
      " |  \n",
      " |  pop(...)\n",
      " |      D.pop(k[,d]) -> v, remove specified key and return the corresponding value.\n",
      " |      If key is not found, d is returned if given, otherwise KeyError is raised\n",
      " |  \n",
      " |  popitem(...)\n",
      " |      D.popitem() -> (k, v), remove and return some (key, value) pair as a\n",
      " |      2-tuple; but raise KeyError if D is empty.\n",
      " |  \n",
      " |  setdefault(self, key, default=None, /)\n",
      " |      Insert key with a value of default if key is not in the dictionary.\n",
      " |      \n",
      " |      Return the value for key if key is in the dictionary, else default.\n",
      " |  \n",
      " |  update(...)\n",
      " |      D.update([E, ]**F) -> None.  Update D from dict/iterable E and F.\n",
      " |      If E is present and has a .keys() method, then does:  for k in E: D[k] = E[k]\n",
      " |      If E is present and lacks a .keys() method, then does:  for k, v in E: D[k] = v\n",
      " |      In either case, this is followed by: for k in F:  D[k] = F[k]\n",
      " |  \n",
      " |  values(...)\n",
      " |      D.values() -> an object providing a view on D's values\n",
      " |  \n",
      " |  ----------------------------------------------------------------------\n",
      " |  Class methods defined here:\n",
      " |  \n",
      " |  fromkeys(iterable, value=None, /) from builtins.type\n",
      " |      Create a new dictionary with keys from iterable and values set to value.\n",
      " |  \n",
      " |  ----------------------------------------------------------------------\n",
      " |  Static methods defined here:\n",
      " |  \n",
      " |  __new__(*args, **kwargs) from builtins.type\n",
      " |      Create and return a new object.  See help(type) for accurate signature.\n",
      " |  \n",
      " |  ----------------------------------------------------------------------\n",
      " |  Data and other attributes defined here:\n",
      " |  \n",
      " |  __hash__ = None\n",
      "\n"
     ]
    }
   ],
   "source": [
    "help(dict)"
   ]
  },
  {
   "cell_type": "code",
   "execution_count": 42,
   "metadata": {},
   "outputs": [
    {
     "name": "stdout",
     "output_type": "stream",
     "text": [
      "{'a': None, 'b': None, 'c': None} {'a': 3, 'b': 3, 'c': 3}\n"
     ]
    }
   ],
   "source": [
    "# clear()清除整个字典，返回None\n",
    "# copy()复制字典\n",
    "# fromkeys()按照指定的序列为键创建字典\n",
    "list1 = ['a','b','c']\n",
    "dict1 = {}.fromkeys(list1)\n",
    "dict2 = {}.fromkeys(list1, 3)\n",
    "print(dict1,dict2)"
   ]
  },
  {
   "cell_type": "code",
   "execution_count": 47,
   "metadata": {},
   "outputs": [
    {
     "name": "stdout",
     "output_type": "stream",
     "text": [
      "1\n",
      "None\n",
      "4\n"
     ]
    }
   ],
   "source": [
    "# get()根据键获取指定的值， 找不到的键默认值返回默认值，没有默认值，返回None\n",
    "dict1 = {'a': 1, 'b': 2, 'c': 3}\n",
    "print(dict1.get('a'))\n",
    "print(dict1.get('f'))\n",
    "print(dict1.get('d',4))"
   ]
  },
  {
   "cell_type": "code",
   "execution_count": 53,
   "metadata": {},
   "outputs": [
    {
     "name": "stdout",
     "output_type": "stream",
     "text": [
      "a 1\n",
      "b 2\n",
      "c 3\n",
      "('a', 1)\n",
      "('b', 2)\n",
      "('c', 3)\n",
      "dict_items([('a', 1), ('b', 2), ('c', 3)])\n"
     ]
    }
   ],
   "source": [
    "# items()将字典变成元祖的形式方便遍历\n",
    "dict1 = {'a': 1, 'b': 2, 'c': 3}\n",
    "for k,v in dict1.items():\n",
    "    print(k,v)\n",
    "\n",
    "for i in dict1.items():\n",
    "    print(i)\n",
    "    \n",
    "print(dict1.items())"
   ]
  },
  {
   "cell_type": "code",
   "execution_count": 59,
   "metadata": {},
   "outputs": [
    {
     "name": "stdout",
     "output_type": "stream",
     "text": [
      "None\n"
     ]
    }
   ],
   "source": [
    "# pop()移除字典中的指定元素 返回键所对应的值，如果键不存在，返回默认值，没有默认值，则会报错\n",
    "# popitem()移除键值对，返回键值\n",
    "# setdefault()在字典里去一个值，如果没有放进去\n",
    "# update()修改字典中的值\n",
    "dict1 = {'a': 1, 'b': 2, 'c': 3}\n",
    "dict1 = dict1.update({'a': 2,'e': 6})\n",
    "print(dict1)"
   ]
  },
  {
   "cell_type": "code",
   "execution_count": 62,
   "metadata": {},
   "outputs": [
    {
     "name": "stdout",
     "output_type": "stream",
     "text": [
      "{1, 2, 4, 5, 'a'}\n"
     ]
    }
   ],
   "source": [
    "list1 = [1,2,2,4,5,'a']\n",
    "a = set(list1)\n",
    "print(a)"
   ]
  },
  {
   "cell_type": "code",
   "execution_count": 63,
   "metadata": {},
   "outputs": [
    {
     "name": "stdout",
     "output_type": "stream",
     "text": [
      "{1, 2, 3, 4, 5, 6}\n"
     ]
    }
   ],
   "source": [
    "# add()向集合中添加元素\n",
    "set1 = {1,2,3,4,5}\n",
    "set1.add(6)\n",
    "print(set1)"
   ]
  },
  {
   "cell_type": "code",
   "execution_count": 64,
   "metadata": {},
   "outputs": [
    {
     "data": {
      "text/plain": [
       "'a'"
      ]
     },
     "execution_count": 64,
     "metadata": {},
     "output_type": "execute_result"
    }
   ],
   "source": [
    "# clear()清空合集\n",
    "# copy（）复制合集\n",
    "# pop（）随机弹出一个元素\n",
    "a = {'a','b','f',4}\n",
    "a.pop()"
   ]
  },
  {
   "cell_type": "code",
   "execution_count": null,
   "metadata": {},
   "outputs": [],
   "source": [
    "# remove()删除集合中的某个值，如果这个值不在集合中会报错\n",
    "# discard()删除某个值，没有啥也不干\n",
    "# difference()差集\n",
    "# differnce_update() 区别就是第一个返回一个新的集合，第二个是吧原来的集合覆盖"
   ]
  },
  {
   "cell_type": "markdown",
   "metadata": {},
   "source": [
    "# 编码问题\n",
    "- 为什么需要编码\n",
    "    - 本质上计算机智能识别01代码\n",
    "    - 如何用一长串代码表示复杂信息 每一个字母->数字\n",
    "    - 编码-encode  解码-decode\n",
    "- 编码简史\n",
    "    - 二进制\n",
    "        - bit: 一个0或者1的二进制数字\n",
    "        - byte: 八个01是一个字节\n",
    "        - 0-127位->英文或者字符\n",
    "    - 第一阶段：ASCII（英语国家）\n",
    "    - 第二阶段：百花齐放，gb2,gbk,big5(中国）latin1(欧洲）jis(日本）\n",
    "        - 乱码就是解码系统和编码系统不同\n",
    "        - 由于0-127就是给英语的，所以任何编码系统都能解析英语编码\n",
    "        - ansi-MBCS(multi-bytes charecter set,多子节字符集）（微软）\n",
    "    - 第三阶段：unicode(ISO)全球统一标准\n",
    "- 编码的表示方法\n",
    "- ascii-american standard code for in formation interchange\n",
    "    - 所有的控制字符（包括回车，删除等）编码再0-31范围内和127\n",
    "    - 所有标点符号，英文大小写放在32-126之间\n",
    "    - 预留128-255之间预留\n",
    "    - 0xxx xxxx是它的编码形式\n",
    "    \n",
    "- latin1\n",
    "    - 0-127不懂，那么可以兼容ascii\n",
    "    - 128-255位置全部用完，二进制位1xxx xxxx\n",
    "        - 128-159之间为控制字符\n",
    "        - 160-255位文字符号\n",
    "        - 其中包括西欧，希腊语。泰语，阿拉伯语，希伯来语\n",
    "    - 欧元符号\n",
    "- gbxxxxxxxxx\n",
    "    - gb2312\n",
    "        - 如果一个字节中第一位为0，那么这就是一个ascii\n",
    "        - 如果第一个字节中第一位为1，那么这是个汉子\n",
    "        - 1xxxxxxxxx xxxxxxxxx：表示问汉子\n",
    "    - gbk\n",
    "    - gb18030\n",
    "        -2/4位混编"
   ]
  },
  {
   "cell_type": "markdown",
   "metadata": {},
   "source": [
    "# Unicode\n",
    "    - 只是一个码表，具体实现没有规定\n",
    "    - 0-0x10ffff来映射这些这些字符，最多可以容纳1114112个字符\n",
    "    - 中文的编码范围4e00-4fcf,其中9fc4-9fcf之间的区间没有使用\n",
    "    - 上述区间全部都是汉子，不包含全角字符，不包含特殊字符\n",
    "    - utf = unicodetransformationformat\n",
    "    - utf-8\n",
    "    \n",
    "    \n",
    "                    0x0000~0x007f(0~127)    1字节   0xxxxxxx\n",
    "                    0x0080~0x07ff(128~2047)    110xxxxx 10xxxxxx\n",
    "                    0x0800～ffff(2048~65535   三字节  1110xxxx 10xxxxxxx 10xxxxxx\n",
    "                    0x10000~1ffffff(65536~2097152)  4字节   11110xxx 10xxxxxx 10xxxxxx 10xxxxxxx\n",
    "                    0x2000000~0x3ffffff   5字节\n",
    "                    0x4000000～0x7fffffff \n",
    "                    \n",
    "                    \n",
    "                    "
   ]
  },
  {
   "cell_type": "markdown",
   "metadata": {},
   "source": [
    "# 习题课（循环，函数）"
   ]
  },
  {
   "cell_type": "code",
   "execution_count": 30,
   "metadata": {},
   "outputs": [
    {
     "name": "stdout",
     "output_type": "stream",
     "text": [
      " *  *  *  *  * \n",
      " *  *  *  *  * \n",
      " *  *  *  *  * \n",
      " *  *  *  *  * \n",
      "====================\n",
      " *  *  *  *  * \n",
      " *           * \n",
      " *           * \n",
      " *  *  *  *  * \n"
     ]
    }
   ],
   "source": [
    "# 打印出一个矩形\n",
    "# 控制行\n",
    "for i in range(1,5):\n",
    "    # 控制列\n",
    "    for j in range(1,6):\n",
    "        print(' * ',end='')\n",
    "    # 当第i行的5列输出完后进行换行\n",
    "    print()\n",
    "print('='*20)\n",
    "# 打印一个空心的矩形\n",
    "for i in range(1,5):\n",
    "    for j in range(1,6):\n",
    "        if i == 1 or i == 4:\n",
    "            print(' * ',end='')\n",
    "        if i == 2 or i == 3:\n",
    "            if j == 1 or j == 5:\n",
    "                print(' * ',end='')\n",
    "            else:\n",
    "                print('   ',end='')\n",
    "    print()"
   ]
  },
  {
   "cell_type": "code",
   "execution_count": 43,
   "metadata": {},
   "outputs": [
    {
     "name": "stdout",
     "output_type": "stream",
     "text": [
      " $ 20\n",
      " $ 19\n",
      " $ 18\n",
      " $ 17\n",
      " $ 16\n",
      " $ 15\n",
      " $ 14\n",
      " $ 13\n",
      " $ 12\n",
      " $ 11\n",
      " $ 10\n",
      " $ 9\n",
      " $ 8\n",
      " $ 7\n",
      " $ 6\n",
      " $ 5\n",
      " $ 4\n",
      " $ 3\n",
      " $ 2\n",
      " $ 1\n",
      " $ 0\n",
      "====================\n",
      "0\n",
      "1\n",
      "2\n",
      "3\n",
      "4\n",
      "5\n",
      "6\n",
      "7\n",
      "8\n",
      "9\n",
      "10\n",
      "11\n",
      "12\n",
      "13\n",
      "14\n",
      "15\n",
      "16\n",
      "17\n",
      "18\n",
      "19\n",
      "20\n"
     ]
    }
   ],
   "source": [
    "# 迭代\n",
    "# 类似于站的先进后出模式\n",
    "# 1.要有递推关系\n",
    "# 2.要有临界值\n",
    "def digui(num):\n",
    "    print(' $ '+str(num))\n",
    "    # 临界值\n",
    "    if num > 0:\n",
    "        # 这里用的是调用本身的函数\n",
    "        digui(num-1)\n",
    "    else:\n",
    "        print('='*20)\n",
    "    # 在判断区间外的\n",
    "    print(num)\n",
    "digui(20)\n",
    "# 传入20， 打印20，进入判断，后面程序进入等待不执行，，print（2）"
   ]
  },
  {
   "cell_type": "code",
   "execution_count": null,
   "metadata": {},
   "outputs": [],
   "source": []
  }
 ],
 "metadata": {
  "kernelspec": {
   "display_name": "Python 3",
   "language": "python",
   "name": "python3"
  },
  "language_info": {
   "codemirror_mode": {
    "name": "ipython",
    "version": 3
   },
   "file_extension": ".py",
   "mimetype": "text/x-python",
   "name": "python",
   "nbconvert_exporter": "python",
   "pygments_lexer": "ipython3",
   "version": "3.7.0"
  }
 },
 "nbformat": 4,
 "nbformat_minor": 2
}
