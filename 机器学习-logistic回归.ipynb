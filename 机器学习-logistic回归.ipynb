{
 "cells": [
  {
   "cell_type": "markdown",
   "metadata": {},
   "source": [
    "# 分类\n",
    "- 分类问题的一些例子\n",
    "- ![QQ20190219-153307.png](attachment:QQ20190219-153307.png)"
   ]
  },
  {
   "cell_type": "markdown",
   "metadata": {},
   "source": [
    "## 简单的二分类问题\n",
    "- 线性回归做分类产生的问题：\n",
    "- ![QQ20190219-153748.png](attachment:QQ20190219-153748.png)\n",
    "- 实际上logistic 回归虽然叫做回归但是时一种分类算法\n",
    "- 它使函数值介于0～1之间\n",
    "- ![QQ20190219-154110.png](attachment:QQ20190219-154110.png)\n",
    "### 分类算法的逻辑\n",
    "- 模型长什么样\n",
    "- ![QQ20190219-154613.png](attachment:QQ20190219-154613.png)\n",
    "- 模型解释：\n",
    "- ![QQ20190219-160104.png](attachment:QQ20190219-160104.png)"
   ]
  },
  {
   "cell_type": "code",
   "execution_count": null,
   "metadata": {},
   "outputs": [],
   "source": []
  }
 ],
 "metadata": {
  "kernelspec": {
   "display_name": "Python 3",
   "language": "python",
   "name": "python3"
  },
  "language_info": {
   "codemirror_mode": {
    "name": "ipython",
    "version": 3
   },
   "file_extension": ".py",
   "mimetype": "text/x-python",
   "name": "python",
   "nbconvert_exporter": "python",
   "pygments_lexer": "ipython3",
   "version": "3.7.2"
  }
 },
 "nbformat": 4,
 "nbformat_minor": 2
}
